{
  "nbformat": 4,
  "nbformat_minor": 0,
  "metadata": {
    "colab": {
      "provenance": []
    },
    "kernelspec": {
      "name": "python3",
      "display_name": "Python 3"
    },
    "language_info": {
      "name": "python"
    }
  },
  "cells": [
    {
      "cell_type": "code",
      "execution_count": 17,
      "metadata": {
        "id": "Wlk-dS00ieJj"
      },
      "outputs": [],
      "source": []
    },
    {
      "cell_type": "code",
      "source": [
        "print(\"hello, akshaj...learn python!\")\n",
        "print('hi this is python')"
      ],
      "metadata": {
        "colab": {
          "base_uri": "https://localhost:8080/"
        },
        "id": "R0Q-rweLigYN",
        "outputId": "5a556f14-3c16-4eb7-c7e0-6ecf483789bc"
      },
      "execution_count": null,
      "outputs": [
        {
          "output_type": "stream",
          "name": "stdout",
          "text": [
            "hello, akshaj...learn python!\n",
            "hi this is python\n"
          ]
        }
      ]
    },
    {
      "cell_type": "code",
      "source": [
        "import sys\n",
        "print(sys.version)\n",
        "#commmad for knowing the version"
      ],
      "metadata": {
        "colab": {
          "base_uri": "https://localhost:8080/"
        },
        "id": "I1Vlt0XYijBW",
        "outputId": "a6c0bcae-261b-4f5f-8867-862cfd672d1b"
      },
      "execution_count": null,
      "outputs": [
        {
          "output_type": "stream",
          "name": "stdout",
          "text": [
            "3.10.6 (main, May 29 2023, 11:10:38) [GCC 11.3.0]\n"
          ]
        }
      ]
    },
    {
      "cell_type": "code",
      "source": [
        "11"
      ],
      "metadata": {
        "colab": {
          "base_uri": "https://localhost:8080/"
        },
        "id": "zwJU5q9TilRb",
        "outputId": "e080733c-4c84-4e63-b104-17a3821df913"
      },
      "execution_count": null,
      "outputs": [
        {
          "output_type": "execute_result",
          "data": {
            "text/plain": [
              "11"
            ]
          },
          "metadata": {},
          "execution_count": 4
        }
      ]
    },
    {
      "cell_type": "code",
      "source": [
        "2.4\n"
      ],
      "metadata": {
        "colab": {
          "base_uri": "https://localhost:8080/"
        },
        "id": "ODMqVN30ioS5",
        "outputId": "fc85e0b9-1b21-468f-b802-120e51e9e5ca"
      },
      "execution_count": null,
      "outputs": [
        {
          "output_type": "execute_result",
          "data": {
            "text/plain": [
              "2.4"
            ]
          },
          "metadata": {},
          "execution_count": 5
        }
      ]
    },
    {
      "cell_type": "code",
      "source": [
        "'hi'"
      ],
      "metadata": {
        "colab": {
          "base_uri": "https://localhost:8080/",
          "height": 35
        },
        "id": "jj8PpxqNiq0F",
        "outputId": "60575900-cce1-4842-b7e8-ff78d2da5603"
      },
      "execution_count": null,
      "outputs": [
        {
          "output_type": "execute_result",
          "data": {
            "text/plain": [
              "'hi'"
            ],
            "application/vnd.google.colaboratory.intrinsic+json": {
              "type": "string"
            }
          },
          "metadata": {},
          "execution_count": 6
        }
      ]
    },
    {
      "cell_type": "code",
      "source": [
        "type(12)"
      ],
      "metadata": {
        "colab": {
          "base_uri": "https://localhost:8080/"
        },
        "id": "mrcD3RXIisq0",
        "outputId": "7cff3821-fcb2-4134-e453-2ed9fc2ff805"
      },
      "execution_count": null,
      "outputs": [
        {
          "output_type": "execute_result",
          "data": {
            "text/plain": [
              "int"
            ]
          },
          "metadata": {},
          "execution_count": 12
        }
      ]
    },
    {
      "cell_type": "code",
      "source": [
        "type(2.14)\n"
      ],
      "metadata": {
        "colab": {
          "base_uri": "https://localhost:8080/"
        },
        "id": "dR8eVdKDiu0_",
        "outputId": "5822e3ea-ee3c-4624-c0fc-8ce576672b5c"
      },
      "execution_count": null,
      "outputs": [
        {
          "output_type": "execute_result",
          "data": {
            "text/plain": [
              "float"
            ]
          },
          "metadata": {},
          "execution_count": 9
        }
      ]
    },
    {
      "cell_type": "code",
      "source": [
        "type('hello python')"
      ],
      "metadata": {
        "colab": {
          "base_uri": "https://localhost:8080/"
        },
        "id": "5M7lexrUi5n3",
        "outputId": "32859250-dc07-4570-83b4-1fc445423e66"
      },
      "execution_count": null,
      "outputs": [
        {
          "output_type": "execute_result",
          "data": {
            "text/plain": [
              "str"
            ]
          },
          "metadata": {},
          "execution_count": 10
        }
      ]
    },
    {
      "cell_type": "code",
      "source": [
        "sys.float_info"
      ],
      "metadata": {
        "colab": {
          "base_uri": "https://localhost:8080/"
        },
        "id": "OKWoPdNwi6bG",
        "outputId": "31d706d7-9673-4f0f-9799-f3e0809c27cf"
      },
      "execution_count": null,
      "outputs": [
        {
          "output_type": "execute_result",
          "data": {
            "text/plain": [
              "sys.float_info(max=1.7976931348623157e+308, max_exp=1024, max_10_exp=308, min=2.2250738585072014e-308, min_exp=-1021, min_10_exp=-307, dig=15, mant_dig=53, epsilon=2.220446049250313e-16, radix=2, rounds=1)"
            ]
          },
          "metadata": {},
          "execution_count": 13
        }
      ]
    },
    {
      "cell_type": "code",
      "source": [
        "int(1.2)\n"
      ],
      "metadata": {
        "colab": {
          "base_uri": "https://localhost:8080/"
        },
        "id": "ZL7ReTgYjCkj",
        "outputId": "dd273db7-9b88-4cf9-d756-baf4ae913f63"
      },
      "execution_count": null,
      "outputs": [
        {
          "output_type": "execute_result",
          "data": {
            "text/plain": [
              "1"
            ]
          },
          "metadata": {},
          "execution_count": 14
        }
      ]
    },
    {
      "cell_type": "code",
      "source": [
        "30 + 2 * 60"
      ],
      "metadata": {
        "colab": {
          "base_uri": "https://localhost:8080/"
        },
        "id": "-VH-7nx5jEt_",
        "outputId": "472b8a73-c459-40cd-a9fd-29ffbdf6a993"
      },
      "execution_count": null,
      "outputs": [
        {
          "output_type": "execute_result",
          "data": {
            "text/plain": [
              "150"
            ]
          },
          "metadata": {},
          "execution_count": 15
        }
      ]
    },
    {
      "cell_type": "code",
      "source": [
        "#variables\n",
        "s = 30 + 2 * 60\n",
        "print(s)"
      ],
      "metadata": {
        "colab": {
          "base_uri": "https://localhost:8080/"
        },
        "id": "AdZvJul1jGum",
        "outputId": "ab1a0357-52ac-412a-c5f2-92ee1e18a9e2"
      },
      "execution_count": null,
      "outputs": [
        {
          "output_type": "stream",
          "name": "stdout",
          "text": [
            "150\n"
          ]
        }
      ]
    },
    {
      "cell_type": "code",
      "source": [
        "x = 160\n",
        "y = x/60\n",
        "print(y)\n",
        "x = x/60\n",
        "print(x)\n"
      ],
      "metadata": {
        "colab": {
          "base_uri": "https://localhost:8080/"
        },
        "id": "IH-xFUY4jI5f",
        "outputId": "e82b853e-458b-462e-8741-d554756e8e0a"
      },
      "execution_count": null,
      "outputs": [
        {
          "output_type": "stream",
          "name": "stdout",
          "text": [
            "2.6666666666666665\n",
            "2.6666666666666665\n"
          ]
        }
      ]
    },
    {
      "cell_type": "markdown",
      "source": [],
      "metadata": {
        "id": "fdiaSusijVZg"
      }
    },
    {
      "cell_type": "code",
      "source": [
        "Q = (1, 2, 3, 4, 5, 6, 7, 8, 9)"
      ],
      "metadata": {
        "id": "fpATFsvtjLTU"
      },
      "execution_count": 18,
      "outputs": []
    },
    {
      "cell_type": "code",
      "source": [
        "#tuple indexing\n",
        "Q =  (1, 2, 3, 4, 5, 6, 7, 8, 9)\n",
        "  #   0  1  2  3  4  5  6  7  8\n",
        "  #  -9 -8 -7 -6 -5 -4 -3 -2 -1"
      ],
      "metadata": {
        "id": "agAVBb7sk9_b"
      },
      "execution_count": 19,
      "outputs": []
    },
    {
      "cell_type": "code",
      "source": [
        "#slicing\n",
        "print(Q[1:4])"
      ],
      "metadata": {
        "colab": {
          "base_uri": "https://localhost:8080/"
        },
        "id": "a8_7IgXelAtS",
        "outputId": "54c5e10e-76b6-4d6a-8e8f-4bbd1447b3cf"
      },
      "execution_count": 20,
      "outputs": [
        {
          "output_type": "stream",
          "name": "stdout",
          "text": [
            "(2, 3, 4)\n"
          ]
        }
      ]
    },
    {
      "cell_type": "code",
      "source": [
        "#concatination\n",
        "R = (10, 11)\n",
        "S = R + Q\n",
        "S #print(S)"
      ],
      "metadata": {
        "colab": {
          "base_uri": "https://localhost:8080/"
        },
        "id": "SJzqCbxdlDWN",
        "outputId": "a23e42a8-cd5e-4ce6-ba31-1fbfc1049fa3"
      },
      "execution_count": 21,
      "outputs": [
        {
          "output_type": "execute_result",
          "data": {
            "text/plain": [
              "(10, 11, 1, 2, 3, 4, 5, 6, 7, 8, 9)"
            ]
          },
          "metadata": {},
          "execution_count": 21
        }
      ]
    },
    {
      "cell_type": "code",
      "source": [
        "#nesting\n",
        "T = (12, 13, (\"Hi\"), (14, 15, (16),17),18)\n",
        "T"
      ],
      "metadata": {
        "colab": {
          "base_uri": "https://localhost:8080/"
        },
        "id": "BjkGbRPjlGPK",
        "outputId": "f2a74588-bffc-44b6-d70a-a2aef74f2991"
      },
      "execution_count": 22,
      "outputs": [
        {
          "output_type": "execute_result",
          "data": {
            "text/plain": [
              "(12, 13, 'Hi', (14, 15, 16, 17), 18)"
            ]
          },
          "metadata": {},
          "execution_count": 22
        }
      ]
    },
    {
      "cell_type": "code",
      "source": [
        "#indexing\n",
        "print(T[-2][-2])\n",
        "print(T[3][2])"
      ],
      "metadata": {
        "colab": {
          "base_uri": "https://localhost:8080/"
        },
        "id": "t9M3V_fxlIb-",
        "outputId": "be55a696-b26d-4d41-acfe-1eecec165392"
      },
      "execution_count": 23,
      "outputs": [
        {
          "output_type": "stream",
          "name": "stdout",
          "text": [
            "16\n",
            "16\n"
          ]
        }
      ]
    },
    {
      "cell_type": "code",
      "source": [
        "#lists\n",
        "I = [2, 3, 4, 5, [[1, 6, 7], 8, 9]]\n",
        "K = [10, 11]\n",
        "J = I\n",
        "print(J)\n",
        "I.append(K)\n",
        "print(J)\n",
        "I.insert(-1, 12)\n",
        "J"
      ],
      "metadata": {
        "colab": {
          "base_uri": "https://localhost:8080/"
        },
        "id": "zXpArMfBlPYL",
        "outputId": "89ff64d2-3fad-47d0-b975-60cc611d3d13"
      },
      "execution_count": 24,
      "outputs": [
        {
          "output_type": "stream",
          "name": "stdout",
          "text": [
            "[2, 3, 4, 5, [[1, 6, 7], 8, 9]]\n",
            "[2, 3, 4, 5, [[1, 6, 7], 8, 9], [10, 11]]\n"
          ]
        },
        {
          "output_type": "execute_result",
          "data": {
            "text/plain": [
              "[2, 3, 4, 5, [[1, 6, 7], 8, 9], 12, [10, 11]]"
            ]
          },
          "metadata": {},
          "execution_count": 24
        }
      ]
    },
    {
      "cell_type": "code",
      "source": [],
      "metadata": {
        "id": "thPL3CMSr8ZA"
      },
      "execution_count": 92,
      "outputs": []
    },
    {
      "cell_type": "code",
      "source": [
        "set1 = {\"pop\",\"rock\",\"hardrock\",\"disco\",\"soul\",\"rock\"}"
      ],
      "metadata": {
        "id": "byF3cJ0ZlP7k"
      },
      "execution_count": 25,
      "outputs": []
    },
    {
      "cell_type": "code",
      "source": [
        "print(set1)"
      ],
      "metadata": {
        "colab": {
          "base_uri": "https://localhost:8080/"
        },
        "id": "ssELLyi5lziy",
        "outputId": "72d2b5c2-d60d-46f3-cba7-c6b3056f2dec"
      },
      "execution_count": 26,
      "outputs": [
        {
          "output_type": "stream",
          "name": "stdout",
          "text": [
            "{'soul', 'disco', 'pop', 'hardrock', 'rock'}\n"
          ]
        }
      ]
    },
    {
      "cell_type": "code",
      "source": [
        "set2 = {\"pop\",\"rock\",\"hardrock\",\"disco\",\"soul\",\"rock\",4,5,2,7}"
      ],
      "metadata": {
        "id": "ZlgrgD20l2F5"
      },
      "execution_count": 27,
      "outputs": []
    },
    {
      "cell_type": "code",
      "source": [
        "print (set2)"
      ],
      "metadata": {
        "colab": {
          "base_uri": "https://localhost:8080/"
        },
        "id": "UHFS22HWl4PV",
        "outputId": "f94bf698-db11-4792-ca91-c51292160caf"
      },
      "execution_count": 28,
      "outputs": [
        {
          "output_type": "stream",
          "name": "stdout",
          "text": [
            "{2, 4, 5, 'pop', 7, 'soul', 'disco', 'hardrock', 'rock'}\n"
          ]
        }
      ]
    },
    {
      "cell_type": "code",
      "source": [
        "set2_list=(\"pop\",\"rock\",\"hardrock\",\"disco\",\"soul\",\"rock\",4,5,2,7)\n",
        "set2_list=set(set2)"
      ],
      "metadata": {
        "id": "OBMsFCummb30"
      },
      "execution_count": 29,
      "outputs": []
    },
    {
      "cell_type": "code",
      "source": [
        "print(set2_list)"
      ],
      "metadata": {
        "colab": {
          "base_uri": "https://localhost:8080/"
        },
        "id": "szuhLZctmeQU",
        "outputId": "d36684a1-b80c-419c-9bbb-b303a58f9c49"
      },
      "execution_count": 30,
      "outputs": [
        {
          "output_type": "stream",
          "name": "stdout",
          "text": [
            "{2, 4, 5, 'pop', 7, 'soul', 'disco', 'hardrock', 'rock'}\n"
          ]
        }
      ]
    },
    {
      "cell_type": "code",
      "source": [
        "A = set([\"thiller\",\"back in black\",\"AC/DC\"])\n",
        "A"
      ],
      "metadata": {
        "colab": {
          "base_uri": "https://localhost:8080/"
        },
        "id": "i2PuYIibmgw8",
        "outputId": "228ed8e7-f419-4eb2-bcd9-5c73786e2295"
      },
      "execution_count": 31,
      "outputs": [
        {
          "output_type": "execute_result",
          "data": {
            "text/plain": [
              "{'AC/DC', 'back in black', 'thiller'}"
            ]
          },
          "metadata": {},
          "execution_count": 31
        }
      ]
    },
    {
      "cell_type": "code",
      "source": [
        "A.add(2004)\n",
        "A"
      ],
      "metadata": {
        "colab": {
          "base_uri": "https://localhost:8080/"
        },
        "id": "cqj_Y3VvmjCd",
        "outputId": "c750444c-7220-420d-8a62-d7b55d64fa77"
      },
      "execution_count": 32,
      "outputs": [
        {
          "output_type": "execute_result",
          "data": {
            "text/plain": [
              "{2004, 'AC/DC', 'back in black', 'thiller'}"
            ]
          },
          "metadata": {},
          "execution_count": 32
        }
      ]
    },
    {
      "cell_type": "code",
      "source": [
        "2004 in A\n"
      ],
      "metadata": {
        "colab": {
          "base_uri": "https://localhost:8080/"
        },
        "id": "XBDS2_2zmlvI",
        "outputId": "2430abc7-8dc9-40dc-8a76-665b0eb33d49"
      },
      "execution_count": 33,
      "outputs": [
        {
          "output_type": "execute_result",
          "data": {
            "text/plain": [
              "True"
            ]
          },
          "metadata": {},
          "execution_count": 33
        }
      ]
    },
    {
      "cell_type": "code",
      "source": [
        "\"sid\" in A"
      ],
      "metadata": {
        "colab": {
          "base_uri": "https://localhost:8080/"
        },
        "id": "YoCdQs04mqBA",
        "outputId": "b5739c7f-114a-41ce-96d9-da54d9943dc2"
      },
      "execution_count": 34,
      "outputs": [
        {
          "output_type": "execute_result",
          "data": {
            "text/plain": [
              "False"
            ]
          },
          "metadata": {},
          "execution_count": 34
        }
      ]
    },
    {
      "cell_type": "code",
      "source": [
        "A = set([\"thiller\",\"back in black\",\"AC/DC\"])\n",
        "B = set([\"thiller\",\"DARKSIDE\",\"AC/DC\"])"
      ],
      "metadata": {
        "id": "ZkiNuZZomsSz"
      },
      "execution_count": 35,
      "outputs": []
    },
    {
      "cell_type": "code",
      "source": [
        "intersection = A & B\n",
        "intersection"
      ],
      "metadata": {
        "colab": {
          "base_uri": "https://localhost:8080/"
        },
        "id": "dIGMxfg6muH9",
        "outputId": "5b9f6225-2d4c-4bca-df22-aefad18f40b2"
      },
      "execution_count": 36,
      "outputs": [
        {
          "output_type": "execute_result",
          "data": {
            "text/plain": [
              "{'AC/DC', 'thiller'}"
            ]
          },
          "metadata": {},
          "execution_count": 36
        }
      ]
    },
    {
      "cell_type": "code",
      "source": [
        "A.difference(B)"
      ],
      "metadata": {
        "colab": {
          "base_uri": "https://localhost:8080/"
        },
        "id": "uulVB5gmmwGI",
        "outputId": "ce1357d1-7942-47aa-cab5-3b1a791bd9d8"
      },
      "execution_count": 37,
      "outputs": [
        {
          "output_type": "execute_result",
          "data": {
            "text/plain": [
              "{'back in black'}"
            ]
          },
          "metadata": {},
          "execution_count": 37
        }
      ]
    },
    {
      "cell_type": "code",
      "source": [
        "A.union(B)"
      ],
      "metadata": {
        "colab": {
          "base_uri": "https://localhost:8080/"
        },
        "id": "HLq1j0UZmyXg",
        "outputId": "77f51935-6bcb-4217-965e-77560e282f46"
      },
      "execution_count": 38,
      "outputs": [
        {
          "output_type": "execute_result",
          "data": {
            "text/plain": [
              "{'AC/DC', 'DARKSIDE', 'back in black', 'thiller'}"
            ]
          },
          "metadata": {},
          "execution_count": 38
        }
      ]
    },
    {
      "cell_type": "code",
      "source": [
        "set(A.union(B)).issuperset(B)"
      ],
      "metadata": {
        "colab": {
          "base_uri": "https://localhost:8080/"
        },
        "id": "AAy-YpVSm0fR",
        "outputId": "eae1ae1b-d3be-4095-add8-777be9f17168"
      },
      "execution_count": 39,
      "outputs": [
        {
          "output_type": "execute_result",
          "data": {
            "text/plain": [
              "True"
            ]
          },
          "metadata": {},
          "execution_count": 39
        }
      ]
    },
    {
      "cell_type": "code",
      "source": [
        "release_year_dict = {\"Thriller\": \"1982\", \"Back in Black\": \"1988\", \"The Dark Side of the Moon\":\"1973\", \"The Bodyguard\": \"1992\", \"Bat Out of Hell\": \"1977\", \"Saturday Night Fever\": \"1977\", \"Rumours\": \"1977\"}\n",
        "release_year_dict"
      ],
      "metadata": {
        "colab": {
          "base_uri": "https://localhost:8080/"
        },
        "id": "Oi28BvRVm2-H",
        "outputId": "e57cff55-d566-49c5-cf57-b9401d803998"
      },
      "execution_count": 40,
      "outputs": [
        {
          "output_type": "execute_result",
          "data": {
            "text/plain": [
              "{'Thriller': '1982',\n",
              " 'Back in Black': '1988',\n",
              " 'The Dark Side of the Moon': '1973',\n",
              " 'The Bodyguard': '1992',\n",
              " 'Bat Out of Hell': '1977',\n",
              " 'Saturday Night Fever': '1977',\n",
              " 'Rumours': '1977'}"
            ]
          },
          "metadata": {},
          "execution_count": 40
        }
      ]
    },
    {
      "cell_type": "code",
      "source": [
        "release_year_dict.keys()"
      ],
      "metadata": {
        "colab": {
          "base_uri": "https://localhost:8080/"
        },
        "id": "evGvqVkwm5Hn",
        "outputId": "b89260cd-6e92-47ff-afa1-2feeb285c0ca"
      },
      "execution_count": 41,
      "outputs": [
        {
          "output_type": "execute_result",
          "data": {
            "text/plain": [
              "dict_keys(['Thriller', 'Back in Black', 'The Dark Side of the Moon', 'The Bodyguard', 'Bat Out of Hell', 'Saturday Night Fever', 'Rumours'])"
            ]
          },
          "metadata": {},
          "execution_count": 41
        }
      ]
    },
    {
      "cell_type": "code",
      "source": [
        "release_year_dict.values()"
      ],
      "metadata": {
        "colab": {
          "base_uri": "https://localhost:8080/"
        },
        "id": "2yWcSsjqm8V9",
        "outputId": "e9a62d7e-e3c0-47b7-a912-982f458ca46f"
      },
      "execution_count": 42,
      "outputs": [
        {
          "output_type": "execute_result",
          "data": {
            "text/plain": [
              "dict_values(['1982', '1988', '1973', '1992', '1977', '1977', '1977'])"
            ]
          },
          "metadata": {},
          "execution_count": 42
        }
      ]
    },
    {
      "cell_type": "code",
      "source": [
        "release_year_dict['Graduation']= '2007'\n",
        "release_year_dict"
      ],
      "metadata": {
        "colab": {
          "base_uri": "https://localhost:8080/"
        },
        "id": "FdD8Rg4Om_Nd",
        "outputId": "e9596ec5-06e5-4415-ed98-7bf360634d7e"
      },
      "execution_count": 43,
      "outputs": [
        {
          "output_type": "execute_result",
          "data": {
            "text/plain": [
              "{'Thriller': '1982',\n",
              " 'Back in Black': '1988',\n",
              " 'The Dark Side of the Moon': '1973',\n",
              " 'The Bodyguard': '1992',\n",
              " 'Bat Out of Hell': '1977',\n",
              " 'Saturday Night Fever': '1977',\n",
              " 'Rumours': '1977',\n",
              " 'Graduation': '2007'}"
            ]
          },
          "metadata": {},
          "execution_count": 43
        }
      ]
    },
    {
      "cell_type": "code",
      "source": [
        "del(release_year_dict['Thriller'])\n",
        "del(release_year_dict['Bat Out of Hell'])\n",
        "release_year_dict"
      ],
      "metadata": {
        "colab": {
          "base_uri": "https://localhost:8080/"
        },
        "id": "vexQbH7_nBY8",
        "outputId": "43931d7f-b8a6-4390-ffe1-35751c6fd8d6"
      },
      "execution_count": 44,
      "outputs": [
        {
          "output_type": "execute_result",
          "data": {
            "text/plain": [
              "{'Back in Black': '1988',\n",
              " 'The Dark Side of the Moon': '1973',\n",
              " 'The Bodyguard': '1992',\n",
              " 'Saturday Night Fever': '1977',\n",
              " 'Rumours': '1977',\n",
              " 'Graduation': '2007'}"
            ]
          },
          "metadata": {},
          "execution_count": 44
        }
      ]
    },
    {
      "cell_type": "code",
      "source": [
        "soundtrack_dic = {\"the bodyguard\":\"1992\",\"saturday nights fever\": '1977'}"
      ],
      "metadata": {
        "id": "znFKYejQnDuQ"
      },
      "execution_count": 45,
      "outputs": []
    },
    {
      "cell_type": "code",
      "source": [
        "soundtrack_dic.keys()"
      ],
      "metadata": {
        "colab": {
          "base_uri": "https://localhost:8080/"
        },
        "id": "9yM9YkY3nH6E",
        "outputId": "0f9d2612-da2d-4c50-c6cb-006d6e3bad81"
      },
      "execution_count": 46,
      "outputs": [
        {
          "output_type": "execute_result",
          "data": {
            "text/plain": [
              "dict_keys(['the bodyguard', 'saturday nights fever'])"
            ]
          },
          "metadata": {},
          "execution_count": 46
        }
      ]
    },
    {
      "cell_type": "code",
      "source": [
        "soundtrack_dic.values()"
      ],
      "metadata": {
        "colab": {
          "base_uri": "https://localhost:8080/"
        },
        "id": "d8ClWpMQnKQJ",
        "outputId": "38ed7bab-051b-4d24-a75d-cd0387cb62ec"
      },
      "execution_count": 47,
      "outputs": [
        {
          "output_type": "execute_result",
          "data": {
            "text/plain": [
              "dict_values(['1992', '1977'])"
            ]
          },
          "metadata": {},
          "execution_count": 47
        }
      ]
    },
    {
      "cell_type": "code",
      "source": [
        "album_sales_dict = {\"back in black\":\"45\",\"bodyguards\":\"35\",\"thriller\":\"65\"}\n",
        "album_sales_dict[\"thriller\"]"
      ],
      "metadata": {
        "colab": {
          "base_uri": "https://localhost:8080/",
          "height": 35
        },
        "id": "HureXTM4nMm-",
        "outputId": "606010e3-57c7-4ed4-fa36-eef4346f4bef"
      },
      "execution_count": 48,
      "outputs": [
        {
          "output_type": "execute_result",
          "data": {
            "text/plain": [
              "'65'"
            ],
            "application/vnd.google.colaboratory.intrinsic+json": {
              "type": "string"
            }
          },
          "metadata": {},
          "execution_count": 48
        }
      ]
    },
    {
      "cell_type": "code",
      "source": [
        "a=[2,3,4,5,6,8]"
      ],
      "metadata": {
        "id": "_SGFBJUYsdS0"
      },
      "execution_count": 93,
      "outputs": []
    },
    {
      "cell_type": "code",
      "source": [
        "e=[]\n",
        "\n",
        "for i in a:\n",
        "  if i>6:\n",
        "    i=i+4\n",
        "    print(i)\n",
        "  else:\n",
        "    continue"
      ],
      "metadata": {
        "colab": {
          "base_uri": "https://localhost:8080/"
        },
        "id": "vv-WVdsNseHM",
        "outputId": "8b02b608-d718-407c-d88e-6ea183c7c4ea"
      },
      "execution_count": 94,
      "outputs": [
        {
          "output_type": "stream",
          "name": "stdout",
          "text": [
            "12\n"
          ]
        }
      ]
    },
    {
      "cell_type": "code",
      "source": [
        "i=0\n",
        "while (i<9):\n",
        "  i=i+1\n",
        "  e.append(i)\n",
        "print(e)"
      ],
      "metadata": {
        "colab": {
          "base_uri": "https://localhost:8080/"
        },
        "id": "3bQTz2XgseX1",
        "outputId": "9cc5fb1a-ecca-4954-b6ca-2edf67530eee"
      },
      "execution_count": 95,
      "outputs": [
        {
          "output_type": "stream",
          "name": "stdout",
          "text": [
            "[1, 2, 3, 4, 5, 6, 7, 8, 9]\n"
          ]
        }
      ]
    },
    {
      "cell_type": "code",
      "source": [
        "tuple=(1,2,3,4,5,6)\n"
      ],
      "metadata": {
        "id": "SheGAiTasegl"
      },
      "execution_count": 96,
      "outputs": []
    },
    {
      "cell_type": "code",
      "source": [
        "tuple=(1,2,3,4,5,6)\n",
        "\n",
        "\n",
        "f=[]\n",
        "for i in tuple:\n",
        "  i=i**2\n",
        "  f.append(i)\n",
        "\n",
        "print(f)"
      ],
      "metadata": {
        "colab": {
          "base_uri": "https://localhost:8080/"
        },
        "id": "2qiOZdTLss2M",
        "outputId": "be11f84d-e3f9-4b1a-c59f-443f609f727b"
      },
      "execution_count": 97,
      "outputs": [
        {
          "output_type": "stream",
          "name": "stdout",
          "text": [
            "[1, 4, 9, 16, 25, 36]\n"
          ]
        }
      ]
    },
    {
      "cell_type": "code",
      "source": [
        "g=[]\n",
        "j=0\n",
        "while(j<6):\n",
        "  j=j**2\n",
        "  g.append(j)\n",
        "  j=j+1\n",
        "print(g)"
      ],
      "metadata": {
        "colab": {
          "base_uri": "https://localhost:8080/"
        },
        "id": "3wWk1WlestBh",
        "outputId": "1eb4e32d-930b-4239-d943-9954a5bc2a84"
      },
      "execution_count": 98,
      "outputs": [
        {
          "output_type": "stream",
          "name": "stdout",
          "text": [
            "[0, 1, 4, 25]\n"
          ]
        }
      ]
    },
    {
      "cell_type": "code",
      "source": [
        "set={1,2,3,4,5,6}\n",
        "\n",
        "h=[]\n",
        "\n",
        "for i in set:\n",
        "  i=i**2\n",
        "  h.append(i)\n",
        "print(h)"
      ],
      "metadata": {
        "colab": {
          "base_uri": "https://localhost:8080/"
        },
        "id": "cynAtCttsthY",
        "outputId": "f2ae44d4-ea52-47f1-f9ba-861caff438f4"
      },
      "execution_count": 99,
      "outputs": [
        {
          "output_type": "stream",
          "name": "stdout",
          "text": [
            "[1, 4, 9, 16, 25, 36]\n"
          ]
        }
      ]
    },
    {
      "cell_type": "code",
      "source": [
        "l=[]\n",
        "i=0\n",
        "while(i<6):\n",
        "  i=i**2\n",
        "  l.append(i)\n",
        "  i=i+1\n",
        "print(l)"
      ],
      "metadata": {
        "colab": {
          "base_uri": "https://localhost:8080/"
        },
        "id": "ke6UAsESstsR",
        "outputId": "aa719984-318f-4c69-fecc-c0c5a6609012"
      },
      "execution_count": 100,
      "outputs": [
        {
          "output_type": "stream",
          "name": "stdout",
          "text": [
            "[0, 1, 4, 25]\n"
          ]
        }
      ]
    },
    {
      "cell_type": "code",
      "source": [
        "\n",
        "j=[]\n",
        "for i in range(0,9,1):\n",
        "  i=i**3\n",
        "  j.append(i)\n",
        "print(j)"
      ],
      "metadata": {
        "colab": {
          "base_uri": "https://localhost:8080/"
        },
        "id": "1qUDVVW9stz1",
        "outputId": "d4ad5992-05f3-43b4-bb88-711d8398f08f"
      },
      "execution_count": 101,
      "outputs": [
        {
          "output_type": "stream",
          "name": "stdout",
          "text": [
            "[0, 1, 8, 27, 64, 125, 216, 343, 512]\n"
          ]
        }
      ]
    },
    {
      "cell_type": "code",
      "source": [],
      "metadata": {
        "id": "4wPYdu_jsev_"
      },
      "execution_count": null,
      "outputs": []
    },
    {
      "cell_type": "code",
      "source": [
        "a = 5\n",
        "a == 5"
      ],
      "metadata": {
        "colab": {
          "base_uri": "https://localhost:8080/"
        },
        "id": "X2X9tet_nOxH",
        "outputId": "9533f714-a0bb-44ac-b9e4-26b278b537ee"
      },
      "execution_count": 49,
      "outputs": [
        {
          "output_type": "execute_result",
          "data": {
            "text/plain": [
              "True"
            ]
          },
          "metadata": {},
          "execution_count": 49
        }
      ]
    },
    {
      "cell_type": "code",
      "source": [
        "a>5\n",
        "a == 4"
      ],
      "metadata": {
        "colab": {
          "base_uri": "https://localhost:8080/"
        },
        "id": "nvnQn3XCnfVG",
        "outputId": "8147397c-fac7-43fa-c022-dca77f91a427"
      },
      "execution_count": 50,
      "outputs": [
        {
          "output_type": "execute_result",
          "data": {
            "text/plain": [
              "False"
            ]
          },
          "metadata": {},
          "execution_count": 50
        }
      ]
    },
    {
      "cell_type": "code",
      "source": [
        "a= 10\n",
        "a<=10"
      ],
      "metadata": {
        "colab": {
          "base_uri": "https://localhost:8080/"
        },
        "id": "beshOKT6nhGn",
        "outputId": "2f847cb1-0ab5-4045-f9b9-2fe3e9d82a18"
      },
      "execution_count": 51,
      "outputs": [
        {
          "output_type": "execute_result",
          "data": {
            "text/plain": [
              "True"
            ]
          },
          "metadata": {},
          "execution_count": 51
        }
      ]
    },
    {
      "cell_type": "code",
      "source": [
        "a= 18\n",
        "a>=10"
      ],
      "metadata": {
        "colab": {
          "base_uri": "https://localhost:8080/"
        },
        "id": "eaYQgOxynio9",
        "outputId": "92946c33-98fc-4b21-810c-783d24e955cd"
      },
      "execution_count": 52,
      "outputs": [
        {
          "output_type": "execute_result",
          "data": {
            "text/plain": [
              "True"
            ]
          },
          "metadata": {},
          "execution_count": 52
        }
      ]
    },
    {
      "cell_type": "code",
      "source": [
        "a = [1,2,3,4,5,6,7,8]\n",
        "a != 6"
      ],
      "metadata": {
        "colab": {
          "base_uri": "https://localhost:8080/"
        },
        "id": "q2YJOX6EnkSu",
        "outputId": "76d5ad95-7d67-4a6e-8a55-65668fb73f1a"
      },
      "execution_count": 53,
      "outputs": [
        {
          "output_type": "execute_result",
          "data": {
            "text/plain": [
              "True"
            ]
          },
          "metadata": {},
          "execution_count": 53
        }
      ]
    },
    {
      "cell_type": "code",
      "source": [
        "\"AC\" != \"Akshaj Chainani\""
      ],
      "metadata": {
        "colab": {
          "base_uri": "https://localhost:8080/"
        },
        "id": "FIKkMxSfnmaR",
        "outputId": "9f668c28-8977-48e7-ab8c-68ab8c24ab6a"
      },
      "execution_count": 54,
      "outputs": [
        {
          "output_type": "execute_result",
          "data": {
            "text/plain": [
              "True"
            ]
          },
          "metadata": {},
          "execution_count": 54
        }
      ]
    },
    {
      "cell_type": "code",
      "source": [
        "age = 18\n",
        "\n",
        "if age>= 18:\n",
        "    print(\"you can enter\")\n",
        "else:\n",
        "    print(\"go see meat loaf\")\n",
        "print(\"move on\")"
      ],
      "metadata": {
        "colab": {
          "base_uri": "https://localhost:8080/"
        },
        "id": "kf8XbH7gnoNr",
        "outputId": "bdc9ee89-a519-4a23-c27c-0b499cf9fb23"
      },
      "execution_count": 55,
      "outputs": [
        {
          "output_type": "stream",
          "name": "stdout",
          "text": [
            "you can enter\n",
            "move on\n"
          ]
        }
      ]
    },
    {
      "cell_type": "code",
      "source": [
        "age = 19\n",
        "\n",
        "if age> 18:\n",
        "    print(\"you can enter\")\n",
        "elif age == 18:\n",
        "    print(\"go see pink floyd\")\n",
        "else:\n",
        "    print(\"go see meat loaf\")\n",
        "print(\"move on\")"
      ],
      "metadata": {
        "colab": {
          "base_uri": "https://localhost:8080/"
        },
        "id": "Zchq_f41nqDD",
        "outputId": "05ba71e6-7ee1-4a8c-ed53-32ea86a81ae3"
      },
      "execution_count": 56,
      "outputs": [
        {
          "output_type": "stream",
          "name": "stdout",
          "text": [
            "you can enter\n",
            "move on\n"
          ]
        }
      ]
    },
    {
      "cell_type": "code",
      "source": [
        "album_year = 1907\n",
        "\n",
        "if album_year> 1990:\n",
        "    print(\"album year is greater than 1988\")\n",
        "else:\n",
        "    print(\"less than 1988\")\n",
        "print(\"do something\")"
      ],
      "metadata": {
        "colab": {
          "base_uri": "https://localhost:8080/"
        },
        "id": "9bEriHYonsFi",
        "outputId": "f35d2f03-77b4-478a-da46-5e0cd938575f"
      },
      "execution_count": 57,
      "outputs": [
        {
          "output_type": "stream",
          "name": "stdout",
          "text": [
            "less than 1988\n",
            "do something\n"
          ]
        }
      ]
    },
    {
      "cell_type": "code",
      "source": [
        "album_year = 1987\n",
        "\n",
        "if album_year < 1990 and album_year >1980:\n",
        "    print (\"album_year is between 1990 to 1980\")\n",
        "else:\n",
        "    print (\"false\")\n"
      ],
      "metadata": {
        "colab": {
          "base_uri": "https://localhost:8080/"
        },
        "id": "Rs1ENjXentvM",
        "outputId": "2d21b4a3-4301-4249-f6a2-eda4951fdfca"
      },
      "execution_count": 58,
      "outputs": [
        {
          "output_type": "stream",
          "name": "stdout",
          "text": [
            "album_year is between 1990 to 1980\n"
          ]
        }
      ]
    },
    {
      "cell_type": "code",
      "source": [
        "album_year = 1979\n",
        "\n",
        "if album_year < 1980 or album_year >1989:\n",
        "    print (\"album_year is between 1980 to 1989\")\n",
        "else:\n",
        "    print (\"false\")\n"
      ],
      "metadata": {
        "colab": {
          "base_uri": "https://localhost:8080/"
        },
        "id": "v-mt4ftZnvXr",
        "outputId": "f442290b-4c09-4d04-aebc-60fdb5840d7c"
      },
      "execution_count": 59,
      "outputs": [
        {
          "output_type": "stream",
          "name": "stdout",
          "text": [
            "album_year is between 1980 to 1989\n"
          ]
        }
      ]
    },
    {
      "cell_type": "code",
      "source": [
        "album_year = 1988\n",
        "if not (album_year == 1988):\n",
        "    print (\"album_year is 1988\")"
      ],
      "metadata": {
        "id": "Xoeaa0YwnxQY"
      },
      "execution_count": 60,
      "outputs": []
    },
    {
      "cell_type": "code",
      "source": [
        "x = 3\n",
        "\n",
        "if x== 1:\n",
        "  print(\"one\")\n",
        "elif x==2:\n",
        "  print(\"two\")\n",
        "elif x==3:\n",
        "  print(\"three\")\n",
        "elif x==4:\n",
        "  print(\"four\")\n",
        "elif x==5:\n",
        "  print(\"five\")\n",
        "else:\n",
        "  print(\"wrong input\")"
      ],
      "metadata": {
        "colab": {
          "base_uri": "https://localhost:8080/"
        },
        "id": "Zs7_CA8rnzCB",
        "outputId": "982109c7-3d1c-4958-ffe5-c1fad030aaa2"
      },
      "execution_count": 61,
      "outputs": [
        {
          "output_type": "stream",
          "name": "stdout",
          "text": [
            "three\n"
          ]
        }
      ]
    },
    {
      "cell_type": "code",
      "source": [
        "i = 1\n",
        "while i<=5:\n",
        "  print(\"temp \", end=\"\")\n",
        "  j=1\n",
        "  while j<=4:\n",
        "    print(\"rocks\", end=\"\")\n",
        "    j=j+1\n",
        "  i=i+1"
      ],
      "metadata": {
        "colab": {
          "base_uri": "https://localhost:8080/"
        },
        "id": "RpaCBdH4n037",
        "outputId": "47187aef-6b83-443b-85fe-0e3f964c5d28"
      },
      "execution_count": 62,
      "outputs": [
        {
          "output_type": "stream",
          "name": "stdout",
          "text": [
            "temp rocksrocksrocksrockstemp rocksrocksrocksrockstemp rocksrocksrocksrockstemp rocksrocksrocksrockstemp rocksrocksrocksrocks"
          ]
        }
      ]
    },
    {
      "cell_type": "code",
      "source": [
        "set = [\"akshaj\",8,7.7]\n",
        "\n",
        "for i in set:\n",
        "  print(i)"
      ],
      "metadata": {
        "colab": {
          "base_uri": "https://localhost:8080/"
        },
        "id": "TT9ZN2pWn2Z6",
        "outputId": "aaa28650-e0ac-492e-c2f3-4a2631d67bf8"
      },
      "execution_count": 63,
      "outputs": [
        {
          "output_type": "stream",
          "name": "stdout",
          "text": [
            "akshaj\n",
            "8\n",
            "7.7\n"
          ]
        }
      ]
    },
    {
      "cell_type": "code",
      "source": [
        "for i in range(1,21):\n",
        "  if i%5!=0:\n",
        "    print(i)"
      ],
      "metadata": {
        "colab": {
          "base_uri": "https://localhost:8080/"
        },
        "id": "_fEMZ_Rjn4G8",
        "outputId": "df4049b8-d9a0-47c6-f968-d900e64174be"
      },
      "execution_count": 64,
      "outputs": [
        {
          "output_type": "stream",
          "name": "stdout",
          "text": [
            "1\n",
            "2\n",
            "3\n",
            "4\n",
            "6\n",
            "7\n",
            "8\n",
            "9\n",
            "11\n",
            "12\n",
            "13\n",
            "14\n",
            "16\n",
            "17\n",
            "18\n",
            "19\n"
          ]
        }
      ]
    },
    {
      "cell_type": "code",
      "source": [
        "for i in range(1, 501):\n",
        "    if i == int(i**0.5)**2:\n",
        "        print(i)\n"
      ],
      "metadata": {
        "colab": {
          "base_uri": "https://localhost:8080/"
        },
        "id": "6InKuLGCn51P",
        "outputId": "22258acc-e1da-4b0e-e649-2e40f20c2f01"
      },
      "execution_count": 65,
      "outputs": [
        {
          "output_type": "stream",
          "name": "stdout",
          "text": [
            "1\n",
            "4\n",
            "9\n",
            "16\n",
            "25\n",
            "36\n",
            "49\n",
            "64\n",
            "81\n",
            "100\n",
            "121\n",
            "144\n",
            "169\n",
            "196\n",
            "225\n",
            "256\n",
            "289\n",
            "324\n",
            "361\n",
            "400\n",
            "441\n",
            "484\n"
          ]
        }
      ]
    },
    {
      "cell_type": "code",
      "source": [],
      "metadata": {
        "id": "bvFSS0JCsajc"
      },
      "execution_count": null,
      "outputs": []
    },
    {
      "cell_type": "code",
      "source": [
        "#Functions"
      ],
      "metadata": {
        "id": "l29nEfjLn7eg"
      },
      "execution_count": 66,
      "outputs": []
    },
    {
      "cell_type": "code",
      "source": [
        "def add(a):\n",
        "  b = a + 1\n",
        "  print(a,\"if you add one\",b)\n",
        "  return(b)"
      ],
      "metadata": {
        "id": "aR6iB3qBn9PB"
      },
      "execution_count": 67,
      "outputs": []
    },
    {
      "cell_type": "code",
      "source": [
        "add(1)"
      ],
      "metadata": {
        "colab": {
          "base_uri": "https://localhost:8080/"
        },
        "id": "6cdKLszFn-7p",
        "outputId": "275a6207-0873-4fcc-b1f0-0ac9974da690"
      },
      "execution_count": 68,
      "outputs": [
        {
          "output_type": "stream",
          "name": "stdout",
          "text": [
            "1 if you add one 2\n"
          ]
        },
        {
          "output_type": "execute_result",
          "data": {
            "text/plain": [
              "2"
            ]
          },
          "metadata": {},
          "execution_count": 68
        }
      ]
    },
    {
      "cell_type": "code",
      "source": [
        "help(add)"
      ],
      "metadata": {
        "colab": {
          "base_uri": "https://localhost:8080/"
        },
        "id": "Xj4Wed3ooAbU",
        "outputId": "6b8b1050-f140-4937-ca67-dddf3bda15f9"
      },
      "execution_count": 69,
      "outputs": [
        {
          "output_type": "stream",
          "name": "stdout",
          "text": [
            "Help on function add in module __main__:\n",
            "\n",
            "add(a)\n",
            "\n"
          ]
        }
      ]
    },
    {
      "cell_type": "code",
      "source": [
        "def mult(a,b):\n",
        "  c = a*b\n",
        "  return(c)"
      ],
      "metadata": {
        "id": "TIIMyl6EoB9B"
      },
      "execution_count": 70,
      "outputs": []
    },
    {
      "cell_type": "code",
      "source": [
        "mult(11,45)"
      ],
      "metadata": {
        "colab": {
          "base_uri": "https://localhost:8080/"
        },
        "id": "lu9EazmvoDco",
        "outputId": "ddfa301d-96f8-4802-b95f-4b19e5c6b06a"
      },
      "execution_count": 71,
      "outputs": [
        {
          "output_type": "execute_result",
          "data": {
            "text/plain": [
              "495"
            ]
          },
          "metadata": {},
          "execution_count": 71
        }
      ]
    },
    {
      "cell_type": "code",
      "source": [
        "mult(2.5,3.7)"
      ],
      "metadata": {
        "colab": {
          "base_uri": "https://localhost:8080/"
        },
        "id": "7UHS2GMGoFFu",
        "outputId": "8bec49da-5b6d-4e71-ceeb-6c7fd82c458d"
      },
      "execution_count": 72,
      "outputs": [
        {
          "output_type": "execute_result",
          "data": {
            "text/plain": [
              "9.25"
            ]
          },
          "metadata": {},
          "execution_count": 72
        }
      ]
    },
    {
      "cell_type": "code",
      "source": [
        "mult(8,\" akshaj\")"
      ],
      "metadata": {
        "colab": {
          "base_uri": "https://localhost:8080/",
          "height": 35
        },
        "id": "wXEZmj_foGx9",
        "outputId": "65176d73-1842-484d-ca7f-dce1e6c2fa33"
      },
      "execution_count": 73,
      "outputs": [
        {
          "output_type": "execute_result",
          "data": {
            "text/plain": [
              "' akshaj akshaj akshaj akshaj akshaj akshaj akshaj akshaj'"
            ],
            "application/vnd.google.colaboratory.intrinsic+json": {
              "type": "string"
            }
          },
          "metadata": {},
          "execution_count": 73
        }
      ]
    },
    {
      "cell_type": "code",
      "source": [
        "mult(-2.5,3.7)"
      ],
      "metadata": {
        "colab": {
          "base_uri": "https://localhost:8080/"
        },
        "id": "pejEwcXxoII-",
        "outputId": "f92f192f-ca55-42e8-937c-eb283f597b93"
      },
      "execution_count": 74,
      "outputs": [
        {
          "output_type": "execute_result",
          "data": {
            "text/plain": [
              "-9.25"
            ]
          },
          "metadata": {},
          "execution_count": 74
        }
      ]
    },
    {
      "cell_type": "code",
      "source": [
        "def square(a):\n",
        "  b = 1\n",
        "  c = a* a+b\n",
        "  print(a, \"if you square + 1\",c)\n",
        "  return(c)"
      ],
      "metadata": {
        "id": "SU7a3oIUoJxy"
      },
      "execution_count": 75,
      "outputs": []
    },
    {
      "cell_type": "code",
      "source": [
        "square(9)"
      ],
      "metadata": {
        "colab": {
          "base_uri": "https://localhost:8080/"
        },
        "id": "YTIZ0oAQoLam",
        "outputId": "d33709d8-8ed2-4d15-bb3e-9dfea85e90b2"
      },
      "execution_count": 76,
      "outputs": [
        {
          "output_type": "stream",
          "name": "stdout",
          "text": [
            "9 if you square + 1 82\n"
          ]
        },
        {
          "output_type": "execute_result",
          "data": {
            "text/plain": [
              "82"
            ]
          },
          "metadata": {},
          "execution_count": 76
        }
      ]
    },
    {
      "cell_type": "code",
      "source": [
        "square(9.5)"
      ],
      "metadata": {
        "colab": {
          "base_uri": "https://localhost:8080/"
        },
        "id": "X-jGnthhoNKx",
        "outputId": "f5ab11cc-5c12-44f7-a894-09fb96f38b0f"
      },
      "execution_count": 77,
      "outputs": [
        {
          "output_type": "stream",
          "name": "stdout",
          "text": [
            "9.5 if you square + 1 91.25\n"
          ]
        },
        {
          "output_type": "execute_result",
          "data": {
            "text/plain": [
              "91.25"
            ]
          },
          "metadata": {},
          "execution_count": 77
        }
      ]
    },
    {
      "cell_type": "code",
      "source": [
        "\n",
        "square(-7)"
      ],
      "metadata": {
        "colab": {
          "base_uri": "https://localhost:8080/"
        },
        "id": "122kcDhdoPFs",
        "outputId": "5b17f5c0-f338-4e55-e51c-3d488960e53c"
      },
      "execution_count": 78,
      "outputs": [
        {
          "output_type": "stream",
          "name": "stdout",
          "text": [
            "-7 if you square + 1 50\n"
          ]
        },
        {
          "output_type": "execute_result",
          "data": {
            "text/plain": [
              "50"
            ]
          },
          "metadata": {},
          "execution_count": 78
        }
      ]
    },
    {
      "cell_type": "code",
      "source": [
        "x= 3\n",
        "y=square(x)\n",
        "y"
      ],
      "metadata": {
        "colab": {
          "base_uri": "https://localhost:8080/"
        },
        "id": "ykmMqu6aoQjD",
        "outputId": "ab0f8e28-896d-4d59-868a-682cb241bda3"
      },
      "execution_count": 79,
      "outputs": [
        {
          "output_type": "stream",
          "name": "stdout",
          "text": [
            "3 if you square + 1 10\n"
          ]
        },
        {
          "output_type": "execute_result",
          "data": {
            "text/plain": [
              "10"
            ]
          },
          "metadata": {},
          "execution_count": 79
        }
      ]
    },
    {
      "cell_type": "code",
      "source": [
        "def MJ():\n",
        "  print(\"michel jackson\")\n",
        "def MJ():\n",
        "  print(\"michel jackson\")\n",
        "  return(None)\n",
        "MJ()"
      ],
      "metadata": {
        "colab": {
          "base_uri": "https://localhost:8080/"
        },
        "id": "GVh2kBqHoR-L",
        "outputId": "2c61c6f5-d8e7-46f4-f228-4d5b06cf37dd"
      },
      "execution_count": 80,
      "outputs": [
        {
          "output_type": "stream",
          "name": "stdout",
          "text": [
            "michel jackson\n"
          ]
        }
      ]
    },
    {
      "cell_type": "code",
      "source": [
        "def con (a,b):\n",
        "  return(a+b)"
      ],
      "metadata": {
        "id": "sb2KkAoMoTkO"
      },
      "execution_count": 81,
      "outputs": []
    },
    {
      "cell_type": "code",
      "source": [
        "con(\"akshaj\" ,\"chainani\")"
      ],
      "metadata": {
        "colab": {
          "base_uri": "https://localhost:8080/",
          "height": 35
        },
        "id": "qOPbkzBooVAn",
        "outputId": "638a03f2-0d7b-4c27-f576-a0f62828a2ca"
      },
      "execution_count": 82,
      "outputs": [
        {
          "output_type": "execute_result",
          "data": {
            "text/plain": [
              "'akshajchainani'"
            ],
            "application/vnd.google.colaboratory.intrinsic+json": {
              "type": "string"
            }
          },
          "metadata": {},
          "execution_count": 82
        }
      ]
    },
    {
      "cell_type": "code",
      "source": [
        "def number(a, b, c):\n",
        "    c = a + b + 2 * a * b - 1\n",
        "    if c < 0:\n",
        "        number = 0\n",
        "    else:\n",
        "        number = 5\n",
        "    return number\n"
      ],
      "metadata": {
        "id": "4HYhtRbKoWjW"
      },
      "execution_count": 83,
      "outputs": []
    },
    {
      "cell_type": "code",
      "source": [
        "number(0,1,0)"
      ],
      "metadata": {
        "colab": {
          "base_uri": "https://localhost:8080/"
        },
        "id": "_G0dLvyEoX5o",
        "outputId": "522f840c-6873-4225-c987-fa3aa886b07f"
      },
      "execution_count": 84,
      "outputs": [
        {
          "output_type": "execute_result",
          "data": {
            "text/plain": [
              "5"
            ]
          },
          "metadata": {},
          "execution_count": 84
        }
      ]
    },
    {
      "cell_type": "code",
      "source": [
        "album_rating = [1,2,3,4,5,6,7,8]\n",
        "print(album_rating)"
      ],
      "metadata": {
        "colab": {
          "base_uri": "https://localhost:8080/"
        },
        "id": "6EEtIpF2oZ7C",
        "outputId": "603c40d5-86e5-4556-8874-8e8e234d8f3a"
      },
      "execution_count": 85,
      "outputs": [
        {
          "output_type": "stream",
          "name": "stdout",
          "text": [
            "[1, 2, 3, 4, 5, 6, 7, 8]\n"
          ]
        }
      ]
    },
    {
      "cell_type": "code",
      "source": [
        "sum(album_rating)"
      ],
      "metadata": {
        "colab": {
          "base_uri": "https://localhost:8080/"
        },
        "id": "Y3_resKXob9l",
        "outputId": "9a8c937f-19a9-49a3-ea93-780d6d5e148e"
      },
      "execution_count": 86,
      "outputs": [
        {
          "output_type": "execute_result",
          "data": {
            "text/plain": [
              "36"
            ]
          },
          "metadata": {},
          "execution_count": 86
        }
      ]
    },
    {
      "cell_type": "code",
      "source": [
        "len(album_rating)"
      ],
      "metadata": {
        "colab": {
          "base_uri": "https://localhost:8080/"
        },
        "id": "oZvtNodUodh7",
        "outputId": "998179a2-436e-44c7-f559-ea3b4f77ca2f"
      },
      "execution_count": 87,
      "outputs": [
        {
          "output_type": "execute_result",
          "data": {
            "text/plain": [
              "8"
            ]
          },
          "metadata": {},
          "execution_count": 87
        }
      ]
    },
    {
      "cell_type": "code",
      "source": [
        "def type_of_album(artist, album, year_released):\n",
        "    print(artist, album, year_released)\n",
        "    if year_released > 1980:\n",
        "        return \"Modern\"\n",
        "    else:\n",
        "        return \"oldie\"\n",
        "\n",
        "x = type_of_album(\"michael jackson\", \"thriller\", 1980)\n",
        "print(x)\n"
      ],
      "metadata": {
        "colab": {
          "base_uri": "https://localhost:8080/"
        },
        "id": "rDngSxNLofHT",
        "outputId": "6311e4ef-ccd4-4587-bf6a-cddabaa44bf6"
      },
      "execution_count": 88,
      "outputs": [
        {
          "output_type": "stream",
          "name": "stdout",
          "text": [
            "michael jackson thriller 1980\n",
            "oldie\n"
          ]
        }
      ]
    },
    {
      "cell_type": "code",
      "source": [
        "def PrintList(the_list):\n",
        "  for element in the_list:\n",
        "    print(element)"
      ],
      "metadata": {
        "id": "whs4PbeXog8z"
      },
      "execution_count": 89,
      "outputs": []
    },
    {
      "cell_type": "code",
      "source": [
        "my_list = [1, 2, 3, 4, 5]\n",
        "PrintList(my_list)\n"
      ],
      "metadata": {
        "colab": {
          "base_uri": "https://localhost:8080/"
        },
        "id": "hWgZdbnooifh",
        "outputId": "5f681a32-0c69-4cc0-ec05-b95479309fbe"
      },
      "execution_count": 90,
      "outputs": [
        {
          "output_type": "stream",
          "name": "stdout",
          "text": [
            "1\n",
            "2\n",
            "3\n",
            "4\n",
            "5\n"
          ]
        }
      ]
    },
    {
      "cell_type": "code",
      "source": [
        "def isGoodRating(rating=4):\n",
        "  if(rating < 7):\n",
        "    print(\"this album sucks its rating is\",rating)\n",
        "\n",
        "  else:\n",
        "      print(\"this album is fire its rating is\",rating )"
      ],
      "metadata": {
        "id": "thU_vB1cokKH"
      },
      "execution_count": 91,
      "outputs": []
    },
    {
      "cell_type": "code",
      "source": [
        "isGoodRating(8)"
      ],
      "metadata": {
        "colab": {
          "base_uri": "https://localhost:8080/"
        },
        "id": "gjr5UxKwol0g",
        "outputId": "6dd547c4-e0ab-4de6-b004-266062d0bdb2"
      },
      "execution_count": 92,
      "outputs": [
        {
          "output_type": "stream",
          "name": "stdout",
          "text": [
            "this album is fire its rating is 8\n"
          ]
        }
      ]
    },
    {
      "cell_type": "code",
      "source": [
        "import matplotlib.pyplot as plt\n",
        "import matplotlib.patches as patches\n",
        "%matplotlib inline\n",
        "\n",
        "class Circle(object):\n",
        "    def __init__(self, radius, color):\n",
        "        self.radius = radius\n",
        "        self.color = color\n",
        "\n",
        "    def add_radius(self, r):\n",
        "        self.radius = self.radius + r\n",
        "        return self.radius\n",
        "\n",
        "    def drawCircle(self):\n",
        "        plt.gca().add_patch(plt.Circle((0, 0), radius=self.radius, fc=self.color))\n",
        "        plt.axis('scaled')\n",
        "        plt.show()\n"
      ],
      "metadata": {
        "id": "Ysvk2vp1onO2"
      },
      "execution_count": 102,
      "outputs": []
    },
    {
      "cell_type": "code",
      "source": [
        "\n",
        "redcircle = Circle(radius=10, color='red')\n",
        "redcircle.add_radius(0)\n",
        "redcircle.drawCircle()"
      ],
      "metadata": {
        "colab": {
          "base_uri": "https://localhost:8080/",
          "height": 430
        },
        "id": "dN1mpd6utQGc",
        "outputId": "2e25b5fd-3abb-47fe-a8bb-7ec03da6c837"
      },
      "execution_count": 103,
      "outputs": [
        {
          "output_type": "display_data",
          "data": {
            "text/plain": [
              "<Figure size 640x480 with 1 Axes>"
            ],
            "image/png": "[encoded data removed]"
          },
          "metadata": {}
        }
      ]
    },
    {
      "cell_type": "code",
      "source": [
        "redcircle.radius"
      ],
      "metadata": {
        "colab": {
          "base_uri": "https://localhost:8080/"
        },
        "id": "FRm-IeYJtSFb",
        "outputId": "50b6c44d-b696-4912-dd13-bcf9065a2870"
      },
      "execution_count": 104,
      "outputs": [
        {
          "output_type": "execute_result",
          "data": {
            "text/plain": [
              "10"
            ]
          },
          "metadata": {},
          "execution_count": 104
        }
      ]
    },
    {
      "cell_type": "code",
      "source": [
        "redcircle.color"
      ],
      "metadata": {
        "colab": {
          "base_uri": "https://localhost:8080/",
          "height": 35
        },
        "id": "PRXnJZ2LtT1w",
        "outputId": "07f0f1e1-1085-4041-f69f-735b15ce6f90"
      },
      "execution_count": 105,
      "outputs": [
        {
          "output_type": "execute_result",
          "data": {
            "text/plain": [
              "'red'"
            ],
            "application/vnd.google.colaboratory.intrinsic+json": {
              "type": "string"
            }
          },
          "metadata": {},
          "execution_count": 105
        }
      ]
    },
    {
      "cell_type": "code",
      "source": [
        "\n",
        "redcircle = Circle(radius=10, color='blue')\n",
        "redcircle.add_radius(9)\n",
        "redcircle.drawCircle()"
      ],
      "metadata": {
        "colab": {
          "base_uri": "https://localhost:8080/",
          "height": 430
        },
        "id": "OqbGcZPKtV0Z",
        "outputId": "7d9c3252-f418-4abf-f15d-b17a20e75790"
      },
      "execution_count": 106,
      "outputs": [
        {
          "output_type": "display_data",
          "data": {
            "text/plain": [
              "<Figure size 640x480 with 1 Axes>"
            ],
            "image/png": "[encoded data removed]"
          },
          "metadata": {}
        }
      ]
    },
    {
      "cell_type": "code",
      "source": [
        "redcircle.radius"
      ],
      "metadata": {
        "colab": {
          "base_uri": "https://localhost:8080/"
        },
        "id": "sKvE5f1ntXjK",
        "outputId": "0ba5592a-ee95-4180-c1ba-d36c3bf269dd"
      },
      "execution_count": 107,
      "outputs": [
        {
          "output_type": "execute_result",
          "data": {
            "text/plain": [
              "19"
            ]
          },
          "metadata": {},
          "execution_count": 107
        }
      ]
    },
    {
      "cell_type": "code",
      "source": [
        "redcircle.color"
      ],
      "metadata": {
        "colab": {
          "base_uri": "https://localhost:8080/",
          "height": 35
        },
        "id": "ba37L2g3tZOm",
        "outputId": "85f3e0c3-d85a-4f79-8405-f33e7e1a1a50"
      },
      "execution_count": 108,
      "outputs": [
        {
          "output_type": "execute_result",
          "data": {
            "text/plain": [
              "'blue'"
            ],
            "application/vnd.google.colaboratory.intrinsic+json": {
              "type": "string"
            }
          },
          "metadata": {},
          "execution_count": 108
        }
      ]
    },
    {
      "cell_type": "code",
      "source": [
        "import matplotlib.pyplot as plt\n",
        "import matplotlib.patches as patches\n",
        "\n",
        "def draw_rectangle(x, y, width, height):\n",
        "    fig, ax = plt.subplots()\n",
        "\n",
        "    rectangle = patches.Rectangle((x, y), width, height, facecolor='blue')\n",
        "    ax.add_patch(rectangle)\n",
        "\n",
        "    ax.set_xlim(0, 5)\n",
        "    ax.set_ylim(0, 5)\n",
        "\n",
        "    plt.show()\n",
        "\n",
        "\n",
        "x = 1.0\n",
        "y = 2.0\n",
        "width = 3.0\n",
        "height = 2.0\n",
        "\n",
        "draw_rectangle(x, y, width, height)\n"
      ],
      "metadata": {
        "colab": {
          "base_uri": "https://localhost:8080/",
          "height": 435
        },
        "id": "uGlOT2vita19",
        "outputId": "bd411a12-3e1b-4f6b-d5e0-813826bdd863"
      },
      "execution_count": 109,
      "outputs": [
        {
          "output_type": "display_data",
          "data": {
            "text/plain": [
              "<Figure size 640x480 with 1 Axes>"
            ],
            "image/png": "[encoded data removed]"
          },
          "metadata": {}
        }
      ]
    },
    {
      "cell_type": "code",
      "source": [],
      "metadata": {
        "id": "nHACxPNZtcyL"
      },
      "execution_count": null,
      "outputs": []
    }
  ]
}