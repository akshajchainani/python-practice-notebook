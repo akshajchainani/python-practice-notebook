{
  "nbformat": 4,
  "nbformat_minor": 0,
  "metadata": {
    "kernelspec": {
      "display_name": "Python",
      "language": "python",
      "name": "conda-env-python-py"
    },
    "language_info": {
      "codemirror_mode": {
        "name": "ipython",
        "version": 3
      },
      "file_extension": ".py",
      "mimetype": "text/x-python",
      "name": "python",
      "nbconvert_exporter": "python",
      "pygments_lexer": "ipython3",
      "version": "3.6.7"
    },
    "colab": {
      "name": "PY0101EN-1-3-Expressions.ipynb",
      "provenance": []
    }
  },
  "cells": [
    {
      "cell_type": "markdown",
      "metadata": {
        "id": "h1XZi-03vFhZ",
        "colab_type": "text"
      },
      "source": [
        "<a href=\"https://cognitiveclass.ai/\">\n",
        "    <img src=\"https://s3-api.us-geo.objectstorage.softlayer.net/cf-courses-data/CognitiveClass/PY0101EN/Ad/CCLog.png\" width=\"200\" align=\"center\">\n",
        "</a>"
      ]
    },
    {
      "cell_type": "markdown",
      "metadata": {
        "id": "P-qVHzYJvFhb",
        "colab_type": "text"
      },
      "source": [
        "<h1>Expression and Variables in Python</h1>"
      ]
    },
    {
      "cell_type": "markdown",
      "metadata": {
        "id": "Ju6txo4KvFhc",
        "colab_type": "text"
      },
      "source": [
        "<p><strong>Welcome!</strong> This notebook will teach you the basics of the Python programming language. By the end of this notebook, you'll know to interpret variables and solve expressions by applying mathematical operations.</p> "
      ]
    },
    {
      "cell_type": "markdown",
      "metadata": {
        "id": "uxnTDBAJvFhe",
        "colab_type": "text"
      },
      "source": [
        "<h2>Table of Contents</h2>\n",
        "<div class=\"alert alert-block alert-info\" style=\"margin-top: 20px\">\n",
        "    <ul>\n",
        "        <li>\n",
        "            <a href=\"#expressions\">Expressions and Variables</a>\n",
        "            <ul>\n",
        "                <li><a href=\"exp\">Expressions</a></li>\n",
        "                <li><a href=\"exer_exp\">Exercise: Expressions</a></li>\n",
        "                <li><a href=\"var\">Variables</a></li>\n",
        "                <li><a href=\"exer_exp_var\">Exercise: Expression and Variables in Python</a></li>\n",
        "            </ul>\n",
        "        </li>\n",
        "    </ul>\n",
        "    <p>\n",
        "        Estimated time needed: <strong>10 min</strong>\n",
        "    </p>\n",
        "</div>\n",
        "\n",
        "<hr>"
      ]
    },
    {
      "cell_type": "markdown",
      "metadata": {
        "id": "eHai9r5dvFhf",
        "colab_type": "text"
      },
      "source": [
        "<h2 id=\"expressions\">Expression and Variables</h2>"
      ]
    },
    {
      "cell_type": "markdown",
      "metadata": {
        "id": "U-ay0751vFhg",
        "colab_type": "text"
      },
      "source": [
        "<h3 id=\"exp\">Expressions</h3>"
      ]
    },
    {
      "cell_type": "markdown",
      "metadata": {
        "id": "S20Ck7fxvFhj",
        "colab_type": "text"
      },
      "source": [
        "<p>Expressions in Python can include operations among compatible types (e.g., integers and floats). For example, basic arithmetic operations like adding multiple numbers:</p>"
      ]
    },
    {
      "cell_type": "code",
      "metadata": {
        "id": "mQNSzgnQvFhk",
        "colab_type": "code",
        "colab": {}
      },
      "source": [
        "# Addition operation expression\n",
        "\n",
        "43 + 60 + 16 + 41"
      ],
      "execution_count": 0,
      "outputs": []
    },
    {
      "cell_type": "markdown",
      "metadata": {
        "id": "IM8EQFULvFhu",
        "colab_type": "text"
      },
      "source": [
        "<p>We can perform subtraction operations using the minus operator. In this case the result is a negative number:</p>"
      ]
    },
    {
      "cell_type": "code",
      "metadata": {
        "id": "frxdKmEzvFhv",
        "colab_type": "code",
        "colab": {}
      },
      "source": [
        "# Subtraction operation expression\n",
        "\n",
        "50 - 60"
      ],
      "execution_count": 0,
      "outputs": []
    },
    {
      "cell_type": "markdown",
      "metadata": {
        "id": "F4IX6uJ0vFh1",
        "colab_type": "text"
      },
      "source": [
        "<p>We can do multiplication using an asterisk:</p>"
      ]
    },
    {
      "cell_type": "code",
      "metadata": {
        "id": "FveFDJEgvFh2",
        "colab_type": "code",
        "colab": {}
      },
      "source": [
        "# Multiplication operation expression\n",
        "\n",
        "5 * 5"
      ],
      "execution_count": 0,
      "outputs": []
    },
    {
      "cell_type": "markdown",
      "metadata": {
        "id": "B-ycpyVXvFh_",
        "colab_type": "text"
      },
      "source": [
        "<p>We can also perform division with the forward slash:"
      ]
    },
    {
      "cell_type": "code",
      "metadata": {
        "id": "KappcErFvFiA",
        "colab_type": "code",
        "colab": {}
      },
      "source": [
        "# Division operation expression\n",
        "\n",
        "25 / 5"
      ],
      "execution_count": 0,
      "outputs": []
    },
    {
      "cell_type": "code",
      "metadata": {
        "id": "DCaTPj4RvFiG",
        "colab_type": "code",
        "colab": {}
      },
      "source": [
        "# Division operation expression\n",
        "\n",
        "25 / 6"
      ],
      "execution_count": 0,
      "outputs": []
    },
    {
      "cell_type": "markdown",
      "metadata": {
        "id": "wTnro5F6vFiO",
        "colab_type": "text"
      },
      "source": [
        "<p>As seen in the quiz above, we can use the double slash for integer division, where the result is rounded to the nearest integer:"
      ]
    },
    {
      "cell_type": "code",
      "metadata": {
        "id": "kNTsUhKFvFiP",
        "colab_type": "code",
        "colab": {}
      },
      "source": [
        "# Integer division operation expression\n",
        "\n",
        "25 // 5"
      ],
      "execution_count": 0,
      "outputs": []
    },
    {
      "cell_type": "code",
      "metadata": {
        "id": "rB7E01ZDvFiU",
        "colab_type": "code",
        "colab": {}
      },
      "source": [
        "# Integer division operation expression\n",
        "\n",
        "25 // 6"
      ],
      "execution_count": 0,
      "outputs": []
    },
    {
      "cell_type": "markdown",
      "metadata": {
        "id": "-WgoSFZ-vFic",
        "colab_type": "text"
      },
      "source": [
        "<h3 id=\"exer_exp\">Exercise: Expression</h3>"
      ]
    },
    {
      "cell_type": "markdown",
      "metadata": {
        "id": "USo3uehUvFie",
        "colab_type": "text"
      },
      "source": [
        "<p>Let's write an expression that calculates how many hours there are in 160 minutes:"
      ]
    },
    {
      "cell_type": "code",
      "metadata": {
        "id": "zfrFqG0FvFif",
        "colab_type": "code",
        "colab": {}
      },
      "source": [
        "# Write your code below. Don't forget to press Shift+Enter to execute the cell"
      ],
      "execution_count": 0,
      "outputs": []
    },
    {
      "cell_type": "markdown",
      "metadata": {
        "id": "AuKJtjcyvFil",
        "colab_type": "text"
      },
      "source": [
        "Double-click __here__ for the solution.\n",
        "\n",
        "<!-- Your answer is below:\n",
        "160/60 \n",
        "# Or \n",
        "160//60\n",
        "-->"
      ]
    },
    {
      "cell_type": "markdown",
      "metadata": {
        "id": "W-d0LBMpvFim",
        "colab_type": "text"
      },
      "source": [
        "<p>Python follows well accepted mathematical conventions when evaluating mathematical expressions. In the following example, Python adds 30 to the result of the multiplication (i.e., 120)."
      ]
    },
    {
      "cell_type": "code",
      "metadata": {
        "id": "Twbqti7BvFio",
        "colab_type": "code",
        "colab": {}
      },
      "source": [
        "# Mathematical expression\n",
        "\n",
        "30 + 2 * 60"
      ],
      "execution_count": 0,
      "outputs": []
    },
    {
      "cell_type": "markdown",
      "metadata": {
        "id": "jgPh5A7RvFiy",
        "colab_type": "text"
      },
      "source": [
        "<p>And just like mathematics, expressions enclosed in parentheses have priority. So the following multiplies 32 by 60."
      ]
    },
    {
      "cell_type": "code",
      "metadata": {
        "id": "pxkBMJilvFiz",
        "colab_type": "code",
        "colab": {}
      },
      "source": [
        "# Mathematical expression\n",
        "\n",
        "(30 + 2) * 60"
      ],
      "execution_count": 0,
      "outputs": []
    },
    {
      "cell_type": "markdown",
      "metadata": {
        "id": "ZzMARBR3vFi3",
        "colab_type": "text"
      },
      "source": [
        "<h3 id=\"var\">Variables</h3>"
      ]
    },
    {
      "cell_type": "markdown",
      "metadata": {
        "id": "MyN2YvqTvFi4",
        "colab_type": "text"
      },
      "source": [
        "<p>Just like with most programming languages, we can store values in <i>variables</i>, so we can use them later on. For example:</p>"
      ]
    },
    {
      "cell_type": "code",
      "metadata": {
        "id": "eQ-w0IR8vFi5",
        "colab_type": "code",
        "colab": {}
      },
      "source": [
        "# Store value into variable\n",
        "\n",
        "x = 43 + 60 + 16 + 41"
      ],
      "execution_count": 0,
      "outputs": []
    },
    {
      "cell_type": "markdown",
      "metadata": {
        "id": "2VkjwmvkvFi_",
        "colab_type": "text"
      },
      "source": [
        "<p>To see the value of <code>x</code> in a Notebook, we can simply place it on the last line of a cell:</p>"
      ]
    },
    {
      "cell_type": "code",
      "metadata": {
        "id": "fap6SGB1vFjA",
        "colab_type": "code",
        "colab": {}
      },
      "source": [
        "# Print out the value in variable\n",
        "\n",
        "x"
      ],
      "execution_count": 0,
      "outputs": []
    },
    {
      "cell_type": "markdown",
      "metadata": {
        "id": "UaeJTIlrvFjE",
        "colab_type": "text"
      },
      "source": [
        "<p>We can also perform operations on <code>x</code> and save the result to a new variable:</p>"
      ]
    },
    {
      "cell_type": "code",
      "metadata": {
        "id": "wXz40h5VvFjF",
        "colab_type": "code",
        "colab": {}
      },
      "source": [
        "# Use another variable to store the result of the operation between variable and value\n",
        "\n",
        "y = x / 60\n",
        "y"
      ],
      "execution_count": 0,
      "outputs": []
    },
    {
      "cell_type": "markdown",
      "metadata": {
        "id": "46RIbhthvFjL",
        "colab_type": "text"
      },
      "source": [
        "<p>If we save a value to an existing variable, the new value will overwrite the previous value:</p>"
      ]
    },
    {
      "cell_type": "code",
      "metadata": {
        "id": "n7hsDxxsvFjN",
        "colab_type": "code",
        "colab": {}
      },
      "source": [
        "# Overwrite variable with new value\n",
        "\n",
        "x = x / 60\n",
        "x"
      ],
      "execution_count": 0,
      "outputs": []
    },
    {
      "cell_type": "markdown",
      "metadata": {
        "id": "vNBCBGbfvFjT",
        "colab_type": "text"
      },
      "source": [
        "<p>It's a good practice to use meaningful variable names, so you and others can read the code and understand it more easily:</p>"
      ]
    },
    {
      "cell_type": "code",
      "metadata": {
        "id": "QT4q4YzSvFjU",
        "colab_type": "code",
        "colab": {}
      },
      "source": [
        "# Name the variables meaningfully\n",
        "\n",
        "total_min = 43 + 42 + 57 # Total length of albums in minutes\n",
        "total_min"
      ],
      "execution_count": 0,
      "outputs": []
    },
    {
      "cell_type": "code",
      "metadata": {
        "id": "w-C3_n1TvFja",
        "colab_type": "code",
        "colab": {}
      },
      "source": [
        "# Name the variables meaningfully\n",
        "\n",
        "total_hours = total_min / 60 # Total length of albums in hours \n",
        "total_hours"
      ],
      "execution_count": 0,
      "outputs": []
    },
    {
      "cell_type": "markdown",
      "metadata": {
        "id": "zWf28ynmvFjf",
        "colab_type": "text"
      },
      "source": [
        "<p>In the cells above we added the length of three albums in minutes and stored it in <code>total_min</code>. We then divided it by 60 to calculate total length <code>total_hours</code> in hours. You can also do it all at once in a single expression, as long as you use parenthesis to add the albums length before you divide, as shown below.</p>"
      ]
    },
    {
      "cell_type": "code",
      "metadata": {
        "id": "pa3s73ruvFjf",
        "colab_type": "code",
        "colab": {}
      },
      "source": [
        "# Complicate expression\n",
        "\n",
        "total_hours = (43 + 42 + 57) / 60  # Total hours in a single expression\n",
        "total_hours"
      ],
      "execution_count": 0,
      "outputs": []
    },
    {
      "cell_type": "markdown",
      "metadata": {
        "id": "RGPFt3egvFjk",
        "colab_type": "text"
      },
      "source": [
        "<p>If you'd rather have total hours as an integer, you can of course replace the floating point division with integer division (i.e., <code>//</code>).</p>"
      ]
    },
    {
      "cell_type": "markdown",
      "metadata": {
        "id": "fwJLt0tTvFjl",
        "colab_type": "text"
      },
      "source": [
        "<h3 id=\"exer_exp_var\">Exercise: Expression and Variables in Python</h3>"
      ]
    },
    {
      "cell_type": "markdown",
      "metadata": {
        "id": "ViRHFMr3vFjl",
        "colab_type": "text"
      },
      "source": [
        "<p>What is the value of <code>x</code> where <code>x = 3 + 2 * 2</code></p>"
      ]
    },
    {
      "cell_type": "code",
      "metadata": {
        "id": "pneV0xicvFjm",
        "colab_type": "code",
        "colab": {}
      },
      "source": [
        "# Write your code below. Don't forget to press Shift+Enter to execute the cell"
      ],
      "execution_count": 0,
      "outputs": []
    },
    {
      "cell_type": "markdown",
      "metadata": {
        "id": "atZYnbw8vFjs",
        "colab_type": "text"
      },
      "source": [
        "Double-click __here__ for the solution.\n",
        "\n",
        "<!-- Your answer is below:\n",
        "7\n",
        "-->\n"
      ]
    },
    {
      "cell_type": "markdown",
      "metadata": {
        "id": "lPnkm7p9vFjt",
        "colab_type": "text"
      },
      "source": [
        "<p>What is the value of <code>y</code> where <code>y = (3 + 2) * 2</code>?</p>"
      ]
    },
    {
      "cell_type": "code",
      "metadata": {
        "id": "-OgU0USpvFju",
        "colab_type": "code",
        "colab": {}
      },
      "source": [
        "# Write your code below. Don't forget to press Shift+Enter to execute the cell"
      ],
      "execution_count": 0,
      "outputs": []
    },
    {
      "cell_type": "markdown",
      "metadata": {
        "id": "83UMIJREvFj0",
        "colab_type": "text"
      },
      "source": [
        "Double-click __here__ for the solution.\n",
        "\n",
        "<!-- Your answer is below:\n",
        "10\n",
        "-->"
      ]
    },
    {
      "cell_type": "markdown",
      "metadata": {
        "id": "81IyehWIvFj2",
        "colab_type": "text"
      },
      "source": [
        "<p>What is the value of <code>z</code> where <code>z = x + y</code>?</p>"
      ]
    },
    {
      "cell_type": "code",
      "metadata": {
        "id": "ps0YS9ApvFj3",
        "colab_type": "code",
        "colab": {}
      },
      "source": [
        "# Write your code below. Don't forget to press Shift+Enter to execute the cell"
      ],
      "execution_count": 0,
      "outputs": []
    },
    {
      "cell_type": "markdown",
      "metadata": {
        "id": "Nfo5d_NzvFj6",
        "colab_type": "text"
      },
      "source": [
        "Double-click __here__ for the solution.\n",
        "\n",
        "<!-- Your answer is below:\n",
        "17\n",
        "-->"
      ]
    },
    {
      "cell_type": "markdown",
      "metadata": {
        "id": "s5HBhYGDvFj7",
        "colab_type": "text"
      },
      "source": [
        "<hr>\n",
        "<h2>The last exercise!</h2>\n",
        "<p>Congratulations, you have completed your first lesson and hands-on lab in Python. However, there is one more thing you need to do. The Data Science community encourages sharing work. The best way to share and showcase your work is to share it on GitHub. By sharing your notebook on GitHub you are not only building your reputation with fellow data scientists, but you can also show it off when applying for a job. Even though this was your first piece of work, it is never too early to start building good habits. So, please read and follow <a href=\"https://cognitiveclass.ai/blog/data-scientists-stand-out-by-sharing-your-notebooks/\" target=\"_blank\">this article</a> to learn how to share your work.\n",
        "<hr>"
      ]
    },
    {
      "cell_type": "markdown",
      "metadata": {
        "id": "vG9pyGldvFj9",
        "colab_type": "text"
      },
      "source": [
        "<h3>About the Authors:</h3>  \n",
        "<p><a href=\"https://www.linkedin.com/in/joseph-s-50398b136/\" target=\"_blank\">Joseph Santarcangelo</a> is a Data Scientist at IBM, and holds a PhD in Electrical Engineering. His research focused on using Machine Learning, Signal Processing, and Computer Vision to determine how videos impact human cognition. Joseph has been working for IBM since he completed his PhD.</p>"
      ]
    },
    {
      "cell_type": "markdown",
      "metadata": {
        "id": "mE7v2OX1vFj-",
        "colab_type": "text"
      },
      "source": [
        "<p>Other contributors: <a href=\"https://www.linkedin.com/in/jiahui-mavis-zhou-a4537814a\" target=\"_blank\">Mavis Zhou</a>, <a href=\"https://github.com/computationalcore\" target=\"_blank\">Vin Buquet</a>, <a href=\"https://github.com/raphtrajano\" target=\"_blank\">Raph Trajano</a></p>"
      ]
    },
    {
      "cell_type": "markdown",
      "metadata": {
        "id": "WkmkdQ0AvFj_",
        "colab_type": "text"
      },
      "source": [
        "<hr>\n",
        "<p>Copyright &copy; 2018 IBM Developer Skills Network. This notebook and its source code are released under the terms of the <a href=\"https://cognitiveclass.ai/mit-license/\">MIT License</a>.</p>"
      ]
    }
  ]
}