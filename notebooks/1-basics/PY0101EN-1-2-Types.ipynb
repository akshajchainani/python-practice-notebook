{
  "nbformat": 4,
  "nbformat_minor": 0,
  "metadata": {
    "kernelspec": {
      "display_name": "Python",
      "language": "python",
      "name": "conda-env-python-py"
    },
    "language_info": {
      "codemirror_mode": {
        "name": "ipython",
        "version": 3
      },
      "file_extension": ".py",
      "mimetype": "text/x-python",
      "name": "python",
      "nbconvert_exporter": "python",
      "pygments_lexer": "ipython3",
      "version": "3.6.7"
    },
    "colab": {
      "name": "PY0101EN-1-2-Types.ipynb",
      "provenance": [],
      "collapsed_sections": []
    }
  },
  "cells": [
    {
      "cell_type": "markdown",
      "metadata": {
        "id": "FRu9DSTJflLo",
        "colab_type": "text"
      },
      "source": [
        "<a href=\"https://cognitiveclass.ai/\">\n",
        "    <img src=\"https://s3-api.us-geo.objectstorage.softlayer.net/cf-courses-data/CognitiveClass/PY0101EN/Ad/CCLog.png\" width=\"200\" align=\"center\">\n",
        "</a>"
      ]
    },
    {
      "cell_type": "markdown",
      "metadata": {
        "id": "fAZDCww0flLs",
        "colab_type": "text"
      },
      "source": [
        "<h1>Types in Python</h1>"
      ]
    },
    {
      "cell_type": "markdown",
      "metadata": {
        "id": "ho9dEKs3flLt",
        "colab_type": "text"
      },
      "source": [
        "<p><strong>Welcome!</strong> This notebook will teach you about the sets in the Python Programming Language. By the end of this lab, you'll know the basics types of objects.</p> "
      ]
    },
    {
      "cell_type": "markdown",
      "metadata": {
        "id": "H6GfkCw3flLv",
        "colab_type": "text"
      },
      "source": [
        "<h2>Table of Contents</h2>\n",
        "<div class=\"alert alert-block alert-info\" style=\"margin-top: 20px\">\n",
        "    <ul>\n",
        "        <li>\n",
        "            <a href=\"#types_objects\">Types of objects in Python</a>\n",
        "            <ul>\n",
        "                <li><a href=\"int\">Integers</a></li>\n",
        "                <li><a href=\"float\">Floats</a></li>\n",
        "                <li><a href=\"convert\">Converting from one object type to a different object type</a></li>\n",
        "                <li><a href=\"bool\">Boolean data type</a></li>\n",
        "                <li><a href=\"exer_type\">Exercise: Types</a></li>\n",
        "            </ul>\n",
        "        </li>\n",
        "    </ul>\n",
        "    <p>\n",
        "        Estimated time needed: <strong>10 min</strong>\n",
        "    </p>\n",
        "</div>\n",
        "\n",
        "<hr>"
      ]
    },
    {
      "cell_type": "markdown",
      "metadata": {
        "id": "j4AxBJmOflLx",
        "colab_type": "text"
      },
      "source": [
        "<h2 id=\"types_objects\" align=\"center\">Types of objects in Python</h2>"
      ]
    },
    {
      "cell_type": "markdown",
      "metadata": {
        "id": "oJPp0_t7flLy",
        "colab_type": "text"
      },
      "source": [
        "<p>Python is an object-oriented language. There are many different types of objects in Python. Let's start with the most common object types: <i>strings</i>, <i>integers</i> and <i>floats</i>. Anytime you write words (text) in Python, you're using <i>character strings</i> (strings for short). The most common numbers, on the other hand, are <i>integers</i> (e.g. -1, 0, 100) and <i>floats</i>, which represent real numbers (e.g. 3.14, -42.0).</p>"
      ]
    },
    {
      "cell_type": "markdown",
      "metadata": {
        "id": "M3rpiL1IflLz",
        "colab_type": "text"
      },
      "source": [
        "<a align=\"center\">\n",
        "    <img src=\"https://s3-api.us-geo.objectstorage.softlayer.net/cf-courses-data/CognitiveClass/PY0101EN/Chapter%201/Images/TypesObjects.png\" width=\"600\">\n",
        "</a>"
      ]
    },
    {
      "cell_type": "markdown",
      "metadata": {
        "id": "l_zykejkflL0",
        "colab_type": "text"
      },
      "source": [
        "<p>The following code cells contain some examples.</p>"
      ]
    },
    {
      "cell_type": "code",
      "metadata": {
        "id": "g05DWXOMflL2",
        "colab_type": "code",
        "colab": {}
      },
      "source": [
        "# Integer\n",
        "\n",
        "11"
      ],
      "execution_count": 0,
      "outputs": []
    },
    {
      "cell_type": "code",
      "metadata": {
        "id": "GndCO86nflL9",
        "colab_type": "code",
        "colab": {}
      },
      "source": [
        "# Float\n",
        "\n",
        "2.14"
      ],
      "execution_count": 0,
      "outputs": []
    },
    {
      "cell_type": "code",
      "metadata": {
        "id": "ckToHGicflMD",
        "colab_type": "code",
        "colab": {}
      },
      "source": [
        "# String\n",
        "\n",
        "\"Hello, Python 101!\""
      ],
      "execution_count": 0,
      "outputs": []
    },
    {
      "cell_type": "markdown",
      "metadata": {
        "id": "GEwtpYmnflMK",
        "colab_type": "text"
      },
      "source": [
        "<p>You can get Python to tell you the type of an expression by using the built-in <code>type()</code> function. You'll notice that Python refers to integers as <code>int</code>, floats as <code>float</code>, and character strings as <code>str</code>.</p>"
      ]
    },
    {
      "cell_type": "code",
      "metadata": {
        "id": "i4K9AsfKflML",
        "colab_type": "code",
        "colab": {}
      },
      "source": [
        "# Type of 12\n",
        "\n",
        "type(12)"
      ],
      "execution_count": 0,
      "outputs": []
    },
    {
      "cell_type": "code",
      "metadata": {
        "id": "y1mRHqfHflMS",
        "colab_type": "code",
        "colab": {}
      },
      "source": [
        "# Type of 2.14\n",
        "\n",
        "type(2.14)"
      ],
      "execution_count": 0,
      "outputs": []
    },
    {
      "cell_type": "code",
      "metadata": {
        "id": "DOn43WEoflMY",
        "colab_type": "code",
        "colab": {}
      },
      "source": [
        "# Type of \"Hello, Python 101!\"\n",
        "\n",
        "type(\"Hello, Python 101!\")"
      ],
      "execution_count": 0,
      "outputs": []
    },
    {
      "cell_type": "markdown",
      "metadata": {
        "id": "gsgMPJqNflMd",
        "colab_type": "text"
      },
      "source": [
        "<p>In the code cell below, use the <code>type()</code> function to check the object type of <code>12.0</code>."
      ]
    },
    {
      "cell_type": "code",
      "metadata": {
        "id": "Gu3AwfZ8flMf",
        "colab_type": "code",
        "colab": {}
      },
      "source": [
        "# Write your code below. Don't forget to press Shift+Enter to execute the cell"
      ],
      "execution_count": 0,
      "outputs": []
    },
    {
      "cell_type": "markdown",
      "metadata": {
        "id": "45ekuaOLflMk",
        "colab_type": "text"
      },
      "source": [
        "Double-click __here__ for the solution.\n",
        "\n",
        "<!-- Your answer is below:\n",
        "\n",
        "type(12.0)\n",
        "\n",
        "-->"
      ]
    },
    {
      "cell_type": "markdown",
      "metadata": {
        "id": "PTu1XuByflMl",
        "colab_type": "text"
      },
      "source": [
        "<h3 id=\"int\">Integers</h3>"
      ]
    },
    {
      "cell_type": "markdown",
      "metadata": {
        "id": "Yt7yKuCJflMm",
        "colab_type": "text"
      },
      "source": [
        "<p>Here are some examples of integers. Integers can be negative or positive numbers:</p>"
      ]
    },
    {
      "cell_type": "markdown",
      "metadata": {
        "id": "bMSwjTp6flMn",
        "colab_type": "text"
      },
      "source": [
        "<a align=\"center\">\n",
        "    <img src=\"https://s3-api.us-geo.objectstorage.softlayer.net/cf-courses-data/CognitiveClass/PY0101EN/Chapter%201/Images/TypesInt.png\" width=\"600\">\n",
        "</a>"
      ]
    },
    {
      "cell_type": "markdown",
      "metadata": {
        "id": "A7v5pdMoflMo",
        "colab_type": "text"
      },
      "source": [
        "<p>We can verify this is the case by using, you guessed it, the <code>type()</code> function:"
      ]
    },
    {
      "cell_type": "code",
      "metadata": {
        "id": "jYf5JwFpflMp",
        "colab_type": "code",
        "colab": {}
      },
      "source": [
        "# Print the type of -1\n",
        "\n",
        "type(-1)"
      ],
      "execution_count": 0,
      "outputs": []
    },
    {
      "cell_type": "code",
      "metadata": {
        "id": "5OQ5nkqGflMx",
        "colab_type": "code",
        "colab": {}
      },
      "source": [
        "# Print the type of 4\n",
        "\n",
        "type(4)"
      ],
      "execution_count": 0,
      "outputs": []
    },
    {
      "cell_type": "code",
      "metadata": {
        "id": "9pTWj5KKflM3",
        "colab_type": "code",
        "colab": {}
      },
      "source": [
        "# Print the type of 0\n",
        "\n",
        "type(0)"
      ],
      "execution_count": 0,
      "outputs": []
    },
    {
      "cell_type": "markdown",
      "metadata": {
        "id": "X-6AwwHMflM7",
        "colab_type": "text"
      },
      "source": [
        "<h3 id=\"float\">Floats</h3> "
      ]
    },
    {
      "cell_type": "markdown",
      "metadata": {
        "id": "HA-yB8pkflM8",
        "colab_type": "text"
      },
      "source": [
        "<p>Floats represent real numbers; they are a superset of integer numbers but also include \"numbers with decimals\". There are some limitations when it comes to machines representing real numbers, but floating point numbers are a good representation in most cases. You can learn more about the specifics of floats for your runtime environment, by checking the value of <code>sys.float_info</code>. This will also tell you what's the largest and smallest number that can be represented with them.</p>\n",
        "\n",
        "<p>Once again, can test some examples with the <code>type()</code> function:"
      ]
    },
    {
      "cell_type": "code",
      "metadata": {
        "id": "W9t7RiRbflM9",
        "colab_type": "code",
        "colab": {}
      },
      "source": [
        "# Print the type of 1.0\n",
        "\n",
        "type(1.0) # Notice that 1 is an int, and 1.0 is a float"
      ],
      "execution_count": 0,
      "outputs": []
    },
    {
      "cell_type": "code",
      "metadata": {
        "id": "fyGBqL3EflNC",
        "colab_type": "code",
        "colab": {}
      },
      "source": [
        "# Print the type of 0.5\n",
        "\n",
        "type(0.5)"
      ],
      "execution_count": 0,
      "outputs": []
    },
    {
      "cell_type": "code",
      "metadata": {
        "id": "IfW60IicflNG",
        "colab_type": "code",
        "colab": {}
      },
      "source": [
        "# Print the type of 0.56\n",
        "\n",
        "type(0.56)"
      ],
      "execution_count": 0,
      "outputs": []
    },
    {
      "cell_type": "code",
      "metadata": {
        "id": "vSlY3EOSflNL",
        "colab_type": "code",
        "colab": {}
      },
      "source": [
        "# System settings about float type\n",
        "\n",
        "import sys module\n",
        "sys.float_info"
      ],
      "execution_count": 0,
      "outputs": []
    },
    {
      "cell_type": "markdown",
      "metadata": {
        "id": "hkEaGezQflNU",
        "colab_type": "text"
      },
      "source": [
        "<h3 id=\"convert\">Converting from one object type to a different object type</h3>"
      ]
    },
    {
      "cell_type": "markdown",
      "metadata": {
        "id": "54WOTYx-flNZ",
        "colab_type": "text"
      },
      "source": [
        "<p>You can change the type of the object in Python; this is called typecasting. For example, you can convert an <i>integer</i> into a <i>float</i> (e.g. 2 to 2.0).</p>\n",
        "<p>Let's try it:</p>"
      ]
    },
    {
      "cell_type": "code",
      "metadata": {
        "id": "WZsRInBSflNb",
        "colab_type": "code",
        "colab": {}
      },
      "source": [
        "# Verify that this is an integer\n",
        "\n",
        "type(2)"
      ],
      "execution_count": 0,
      "outputs": []
    },
    {
      "cell_type": "markdown",
      "metadata": {
        "id": "Lwh4wJYMflNk",
        "colab_type": "text"
      },
      "source": [
        "<h4>Converting integers to floats</h4>\n",
        "<p>Let's cast integer 2 to float:</p>"
      ]
    },
    {
      "cell_type": "code",
      "metadata": {
        "id": "EG2Uom6tflNl",
        "colab_type": "code",
        "colab": {}
      },
      "source": [
        "# Convert 2 to a float\n",
        "\n",
        "float(2)"
      ],
      "execution_count": 0,
      "outputs": []
    },
    {
      "cell_type": "code",
      "metadata": {
        "id": "117dnoFLflNr",
        "colab_type": "code",
        "colab": {}
      },
      "source": [
        "# Convert integer 2 to a float and check its type\n",
        "\n",
        "type(float(2))"
      ],
      "execution_count": 0,
      "outputs": []
    },
    {
      "cell_type": "markdown",
      "metadata": {
        "id": "bmCOtmt9flNy",
        "colab_type": "text"
      },
      "source": [
        "<p>When we convert an integer into a float, we don't really change the value (i.e., the significand) of the number. However, if we cast a float into an integer, we could potentially lose some information. For example, if we cast the float 1.1 to integer we will get 1 and lose the decimal information (i.e., 0.1):</p>"
      ]
    },
    {
      "cell_type": "code",
      "metadata": {
        "id": "-EW4SLQBflNz",
        "colab_type": "code",
        "colab": {}
      },
      "source": [
        "# Casting 1.1 to integer will result in loss of information\n",
        "\n",
        "int(1.1)"
      ],
      "execution_count": 0,
      "outputs": []
    },
    {
      "cell_type": "markdown",
      "metadata": {
        "id": "fCpuZGIVflN6",
        "colab_type": "text"
      },
      "source": [
        "<h4>Converting from strings to integers or floats</h4>"
      ]
    },
    {
      "cell_type": "markdown",
      "metadata": {
        "id": "nyDwGZMIflN7",
        "colab_type": "text"
      },
      "source": [
        "<p>Sometimes, we can have a string that contains a number within it. If this is the case, we can cast that string that represents a number into an integer using <code>int()</code>:</p>"
      ]
    },
    {
      "cell_type": "code",
      "metadata": {
        "id": "wC1mBOntflN8",
        "colab_type": "code",
        "colab": {}
      },
      "source": [
        "# Convert a string into an integer\n",
        "\n",
        "int('1')"
      ],
      "execution_count": 0,
      "outputs": []
    },
    {
      "cell_type": "markdown",
      "metadata": {
        "id": "r8-1wgIuflOB",
        "colab_type": "text"
      },
      "source": [
        "<p>But if you try to do so with a string that is not a perfect match for a number, you'll get an error. Try the following:</p>"
      ]
    },
    {
      "cell_type": "code",
      "metadata": {
        "id": "5q6U2E-eflOC",
        "colab_type": "code",
        "colab": {}
      },
      "source": [
        "# Convert a string into an integer with error\n",
        "\n",
        "int('1 or 2 people')"
      ],
      "execution_count": 0,
      "outputs": []
    },
    {
      "cell_type": "markdown",
      "metadata": {
        "id": "36JZdeqtflOH",
        "colab_type": "text"
      },
      "source": [
        "<p>You can also convert strings containing floating point numbers into <i>float</i> objects:</p>"
      ]
    },
    {
      "cell_type": "code",
      "metadata": {
        "id": "i38Cx6udflOI",
        "colab_type": "code",
        "colab": {}
      },
      "source": [
        "# Convert the string \"1.2\" into a float\n",
        "\n",
        "float('1.2')"
      ],
      "execution_count": 0,
      "outputs": []
    },
    {
      "cell_type": "markdown",
      "metadata": {
        "id": "BOIDzb1HflOM",
        "colab_type": "text"
      },
      "source": [
        "<hr/>\n",
        "<div class=\"alert alert-success alertsuccess\" style=\"margin-top: 20px\">\n",
        "    [Tip:] Note that strings can be represented with single quotes (<code>'1.2'</code>) or double quotes (<code>\"1.2\"</code>), but you can't mix both (e.g., <code>\"1.2'</code>).\n",
        "</div>\n",
        "<hr/>"
      ]
    },
    {
      "cell_type": "markdown",
      "metadata": {
        "id": "XJuRlK_5flOO",
        "colab_type": "text"
      },
      "source": [
        "<h4>Converting numbers to strings</h4>"
      ]
    },
    {
      "cell_type": "markdown",
      "metadata": {
        "id": "rpGSA7wDflOP",
        "colab_type": "text"
      },
      "source": [
        "<p>If we can convert strings to numbers, it is only natural to assume that we can convert numbers to strings, right?</p>"
      ]
    },
    {
      "cell_type": "code",
      "metadata": {
        "id": "YrZcINcnflOQ",
        "colab_type": "code",
        "colab": {}
      },
      "source": [
        "# Convert an integer to a string\n",
        "\n",
        "str(1)"
      ],
      "execution_count": 0,
      "outputs": []
    },
    {
      "cell_type": "markdown",
      "metadata": {
        "id": "0JxVrUnfflOV",
        "colab_type": "text"
      },
      "source": [
        "<p>And there is no reason why we shouldn't be able to make floats into strings as well:</p> "
      ]
    },
    {
      "cell_type": "code",
      "metadata": {
        "id": "MeWtnCUmflOW",
        "colab_type": "code",
        "colab": {}
      },
      "source": [
        "# Convert a float to a string\n",
        "\n",
        "str(1.2)"
      ],
      "execution_count": 0,
      "outputs": []
    },
    {
      "cell_type": "markdown",
      "metadata": {
        "id": "jvsgLo-iflOa",
        "colab_type": "text"
      },
      "source": [
        "<h3 id=\"bool\">Boolean data type</h3>"
      ]
    },
    {
      "cell_type": "markdown",
      "metadata": {
        "id": "YCVkCg3BflOb",
        "colab_type": "text"
      },
      "source": [
        "<p><i>Boolean</i> is another important type in Python. An object of type <i>Boolean</i> can take on one of two values: <code>True</code> or <code>False</code>:</p>"
      ]
    },
    {
      "cell_type": "code",
      "metadata": {
        "id": "kr8rGNzCflOc",
        "colab_type": "code",
        "colab": {}
      },
      "source": [
        "# Value true\n",
        "\n",
        "True"
      ],
      "execution_count": 0,
      "outputs": []
    },
    {
      "cell_type": "markdown",
      "metadata": {
        "id": "o1xzvoEfflOi",
        "colab_type": "text"
      },
      "source": [
        "<p>Notice that the value <code>True</code> has an uppercase \"T\". The same is true for <code>False</code> (i.e. you must use the uppercase \"F\").</p>"
      ]
    },
    {
      "cell_type": "code",
      "metadata": {
        "id": "rvczIKr-flOi",
        "colab_type": "code",
        "colab": {}
      },
      "source": [
        "# Value false\n",
        "\n",
        "False"
      ],
      "execution_count": 0,
      "outputs": []
    },
    {
      "cell_type": "markdown",
      "metadata": {
        "id": "goPYhRpjflOm",
        "colab_type": "text"
      },
      "source": [
        "<p>When you ask Python to display the type of a boolean object it will show <code>bool</code> which stands for <i>boolean</i>:</p> "
      ]
    },
    {
      "cell_type": "code",
      "metadata": {
        "id": "iyhEV6PcflOn",
        "colab_type": "code",
        "colab": {}
      },
      "source": [
        "# Type of True\n",
        "\n",
        "type(True)"
      ],
      "execution_count": 0,
      "outputs": []
    },
    {
      "cell_type": "code",
      "metadata": {
        "id": "sM2PyJB4flOt",
        "colab_type": "code",
        "colab": {}
      },
      "source": [
        "# Type of False\n",
        "\n",
        "type(False)"
      ],
      "execution_count": 0,
      "outputs": []
    },
    {
      "cell_type": "markdown",
      "metadata": {
        "id": "I-27CohoflOx",
        "colab_type": "text"
      },
      "source": [
        "<p>We can cast boolean objects to other data types. If we cast a boolean with a value of <code>True</code> to an integer or float we will get a one. If we cast a boolean with a value of <code>False</code> to an integer or float we will get a zero. Similarly, if we cast a 1 to a Boolean, you get a <code>True</code>. And if we cast a 0 to a Boolean we will get a <code>False</code>. Let's give it a try:</p> "
      ]
    },
    {
      "cell_type": "code",
      "metadata": {
        "id": "u6GAfQu-flOy",
        "colab_type": "code",
        "colab": {}
      },
      "source": [
        "# Convert True to int\n",
        "\n",
        "int(True)"
      ],
      "execution_count": 0,
      "outputs": []
    },
    {
      "cell_type": "code",
      "metadata": {
        "id": "ME5NORXHflO3",
        "colab_type": "code",
        "colab": {}
      },
      "source": [
        "# Convert 1 to boolean\n",
        "\n",
        "bool(1)"
      ],
      "execution_count": 0,
      "outputs": []
    },
    {
      "cell_type": "code",
      "metadata": {
        "id": "I5VnAXwuflO9",
        "colab_type": "code",
        "colab": {}
      },
      "source": [
        "# Convert 0 to boolean\n",
        "\n",
        "bool(0)"
      ],
      "execution_count": 0,
      "outputs": []
    },
    {
      "cell_type": "code",
      "metadata": {
        "id": "S8fEIBtTflPB",
        "colab_type": "code",
        "colab": {}
      },
      "source": [
        "# Convert True to float\n",
        "\n",
        "float(True)"
      ],
      "execution_count": 0,
      "outputs": []
    },
    {
      "cell_type": "markdown",
      "metadata": {
        "id": "gBqiOGBRflPK",
        "colab_type": "text"
      },
      "source": [
        "<h3 id=\"exer_type\">Exercise: Types</h3>"
      ]
    },
    {
      "cell_type": "markdown",
      "metadata": {
        "id": "BENNrCp5flPL",
        "colab_type": "text"
      },
      "source": [
        "<p>What is the data type of the result of: <code>6 / 2</code>?</p>"
      ]
    },
    {
      "cell_type": "code",
      "metadata": {
        "id": "ei7ELvLCflPM",
        "colab_type": "code",
        "colab": {}
      },
      "source": [
        "# Write your code below. Don't forget to press Shift+Enter to execute the cell"
      ],
      "execution_count": 0,
      "outputs": []
    },
    {
      "cell_type": "markdown",
      "metadata": {
        "id": "s_6bog4HflPT",
        "colab_type": "text"
      },
      "source": [
        "Double-click __here__ for the solution.\n",
        "\n",
        "<!-- Your answer is below:\n",
        "type(6/2) # float\n",
        "-->"
      ]
    },
    {
      "cell_type": "markdown",
      "metadata": {
        "id": "ReMxADU0flPU",
        "colab_type": "text"
      },
      "source": [
        "<p>What is the type of the result of: <code>6 // 2</code>? (Note the double slash <code>//</code>.)</p>"
      ]
    },
    {
      "cell_type": "code",
      "metadata": {
        "id": "QqjWO0NmflPX",
        "colab_type": "code",
        "colab": {}
      },
      "source": [
        "# Write your code below. Don't forget to press Shift+Enter to execute the cell"
      ],
      "execution_count": 0,
      "outputs": []
    },
    {
      "cell_type": "markdown",
      "metadata": {
        "id": "VGy1LNZ7flPd",
        "colab_type": "text"
      },
      "source": [
        "Double-click __here__ for the solution.\n",
        "\n",
        "<!-- Your answer is below:\n",
        "type(6//2) # int, as the double slashes stand for integer division \n",
        "-->"
      ]
    },
    {
      "cell_type": "markdown",
      "metadata": {
        "id": "0O_kxCvaflPe",
        "colab_type": "text"
      },
      "source": [
        "<hr>\n",
        "<h2>The last exercise!</h2>\n",
        "<p>Congratulations, you have completed your first lesson and hands-on lab in Python. However, there is one more thing you need to do. The Data Science community encourages sharing work. The best way to share and showcase your work is to share it on GitHub. By sharing your notebook on GitHub you are not only building your reputation with fellow data scientists, but you can also show it off when applying for a job. Even though this was your first piece of work, it is never too early to start building good habits. So, please read and follow <a href=\"https://cognitiveclass.ai/blog/data-scientists-stand-out-by-sharing-your-notebooks/\" target=\"_blank\">this article</a> to learn how to share your work.\n",
        "<hr>"
      ]
    },
    {
      "cell_type": "markdown",
      "metadata": {
        "id": "UchksC-8flPg",
        "colab_type": "text"
      },
      "source": [
        "<h3>About the Authors:</h3>  \n",
        "<p><a href=\"https://www.linkedin.com/in/joseph-s-50398b136/\" target=\"_blank\">Joseph Santarcangelo</a> is a Data Scientist at IBM, and holds a PhD in Electrical Engineering. His research focused on using Machine Learning, Signal Processing, and Computer Vision to determine how videos impact human cognition. Joseph has been working for IBM since he completed his PhD.</p>"
      ]
    },
    {
      "cell_type": "markdown",
      "metadata": {
        "id": "wWg66SdDflPh",
        "colab_type": "text"
      },
      "source": [
        "<p>Other contributors: <a href=\"https://www.linkedin.com/in/jiahui-mavis-zhou-a4537814a\" target=\"_blank\">Mavis Zhou</a>, <a href=\"https://github.com/computationalcore\" target=\"_blank\">Vin Buquet</a>, <a href=\"https://github.com/raphtrajano\" target=\"_blank\">Raph Trajano</a></p>"
      ]
    },
    {
      "cell_type": "markdown",
      "metadata": {
        "id": "rXmYitvUflPi",
        "colab_type": "text"
      },
      "source": [
        "<hr>\n",
        "<p>Copyright &copy; 2018 IBM Developer Skills Network. This notebook and its source code are released under the terms of the <a href=\"https://cognitiveclass.ai/mit-license/\">MIT License</a>.</p>"
      ]
    }
  ]
}