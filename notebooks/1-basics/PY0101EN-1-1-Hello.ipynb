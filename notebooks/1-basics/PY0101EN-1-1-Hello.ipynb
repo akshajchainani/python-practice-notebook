{
  "cells": [
    {
      "cell_type": "markdown",
      "metadata": {
        "colab_type": "text",
        "id": "MY_RVcQaTZgz"
      },
      "source": [
        "<h1>Python - Writing Your First Python Code!</h1>"
      ]
    },
    {
      "cell_type": "markdown",
      "metadata": {
        "colab_type": "text",
        "id": "buZZM9SMTZg2"
      },
      "source": [
        "<h2>Table of Contents</h2>\n",
        "<div class=\"alert alert-block alert-info\" style=\"margin-top: 20px\">\n",
        "    <ul>\n",
        "        <li>\n",
        "            <a href=\"#hello\">Say \"Hello\" to the world in Python</a>\n",
        "            <ul>\n",
        "                <li><a href=\"version\">What version of Python are we using?</a></li>\n",
        "                <li><a href=\"comments\">Writing comments in Python</a></li>\n",
        "                <li><a href=\"errors\">Errors in Python</a></li>\n",
        "                <li><a href=\"python_error\">Does Python know about your error before it runs your code?</a></li>\n",
        "                <li><a href=\"exercise\">Exercise: Your First Program</a></li>\n",
        "            </ul>\n",
        "        </li>\n",
        "    </ul>\n",
        "    <p>\n",
        "        Estimated time needed: <strong>10 min</strong>\n",
        "    </p>\n",
        "</div>\n",
        "\n",
        "<hr>"
      ]
    },
    {
      "cell_type": "code",
      "execution_count": null,
      "metadata": {
        "colab": {},
        "colab_type": "code",
        "id": "1lmBiCBwTZg8"
      },
      "outputs": [],
      "source": [
        "# Try your first Python output\n",
        "\n",
        "print('Hello, Python!')"
      ]
    },
    {
      "cell_type": "code",
      "execution_count": null,
      "metadata": {
        "colab": {},
        "colab_type": "code",
        "id": "85J4k_0ZTZhJ"
      },
      "outputs": [],
      "source": [
        "# Check the Python Version\n",
        "\n",
        "import sys\n",
        "print(sys.version)"
      ]
    },
    {
      "cell_type": "code",
      "execution_count": null,
      "metadata": {
        "colab": {},
        "colab_type": "code",
        "id": "uE4fa5wcTZhS"
      },
      "outputs": [],
      "source": [
        "# Practice on writing comments\n",
        "\n",
        "print('Hello, Python!') # This line prints a string\n",
        "# print('Hi')"
      ]
    },
    {
      "cell_type": "code",
      "execution_count": null,
      "metadata": {
        "colab": {},
        "colab_type": "code",
        "id": "qlR67yaSTZhc"
      },
      "outputs": [],
      "source": [
        "# Print string as error message\n",
        "\n",
        "frint(\"Hello, Python!\")"
      ]
    },
    {
      "cell_type": "code",
      "execution_count": null,
      "metadata": {
        "colab": {},
        "colab_type": "code",
        "id": "Q-ifDEW6TZhn"
      },
      "outputs": [],
      "source": [
        "# Try to see build in error message\n",
        "\n",
        "print(\"Hello, Python!)"
      ]
    },
    {
      "cell_type": "code",
      "execution_count": null,
      "metadata": {
        "colab": {},
        "colab_type": "code",
        "id": "0ZoH7qNZTZhw"
      },
      "outputs": [],
      "source": [
        "# Print string and error to see the running order\n",
        "\n",
        "print(\"This will be printed\")\n",
        "frint(\"This will cause an error\")\n",
        "print(\"This will NOT be printed\")"
      ]
    },
    {
      "cell_type": "code",
      "execution_count": null,
      "metadata": {
        "colab": {},
        "colab_type": "code",
        "id": "tPQwK_5CTZh9"
      },
      "outputs": [],
      "source": [
        "# Don't worry if you don't understand the code yet.\n",
        "# We will cover the details later.\n",
        "\n",
        "x = 17\n",
        "if x == 17:\n",
        "  print('x is 17')\n",
        "else:\n",
        "  print('x is not 17')"
      ]
    }
  ],
  "metadata": {
    "colab": {
      "collapsed_sections": [],
      "name": "PY0101EN_1_1_Hello.ipynb",
      "provenance": []
    },
    "kernelspec": {
      "display_name": "Python 3.7.4 64-bit ('base': conda)",
      "language": "python",
      "name": "python37464bitbasecondafc9b969450c24a23a13483b5c0cfa1c8"
    },
    "language_info": {
      "codemirror_mode": {
        "name": "ipython",
        "version": 3
      },
      "file_extension": ".py",
      "mimetype": "text/x-python",
      "name": "python",
      "nbconvert_exporter": "python",
      "pygments_lexer": "ipython3",
      "version": "3.7.4-final"
    }
  },
  "nbformat": 4,
  "nbformat_minor": 0
}
