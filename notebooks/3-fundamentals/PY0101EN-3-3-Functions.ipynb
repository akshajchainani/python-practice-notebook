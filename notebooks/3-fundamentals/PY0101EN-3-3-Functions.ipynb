{
  "nbformat": 4,
  "nbformat_minor": 0,
  "metadata": {
    "kernelspec": {
      "display_name": "Python 3",
      "language": "python",
      "name": "python3"
    },
    "language_info": {
      "codemirror_mode": {
        "name": "ipython",
        "version": 3
      },
      "file_extension": ".py",
      "mimetype": "text/x-python",
      "name": "python",
      "nbconvert_exporter": "python",
      "pygments_lexer": "ipython3",
      "version": "3.6.8"
    },
    "colab": {
      "name": "PY0101EN-3-3-Functions.ipynb",
      "provenance": []
    }
  },
  "cells": [
    {
      "cell_type": "markdown",
      "metadata": {
        "id": "NEZD8GPsBkg7",
        "colab_type": "text"
      },
      "source": [
        "<a href=\"https://cognitiveclass.ai/\">\n",
        "    <img src=\"https://s3-api.us-geo.objectstorage.softlayer.net/cf-courses-data/CognitiveClass/PY0101EN/Ad/CCLog.png\" width=\"200\" align=\"center\">\n",
        "</a>"
      ]
    },
    {
      "cell_type": "markdown",
      "metadata": {
        "id": "0cRraId0Bkg9",
        "colab_type": "text"
      },
      "source": [
        "<h1>Functions in Python</h1>"
      ]
    },
    {
      "cell_type": "markdown",
      "metadata": {
        "id": "SuxSCThEBkg_",
        "colab_type": "text"
      },
      "source": [
        "<p><strong>Welcome!</strong> This notebook will teach you about the functions in the Python Programming Language. By the end of this lab, you'll know the basic concepts about function, variables, and how to use functions.</p>"
      ]
    },
    {
      "cell_type": "markdown",
      "metadata": {
        "id": "zcaRup4CBkhA",
        "colab_type": "text"
      },
      "source": [
        "<h2>Table of Contents</h2>\n",
        "<div class=\"alert alert-block alert-info\" style=\"margin-top: 20px\">\n",
        "    <ul>\n",
        "        <li>\n",
        "            <a href=\"#func\">Functions</a>\n",
        "            <ul>\n",
        "                <li><a href=\"content\">What is a function?</a></li>\n",
        "                <li><a href=\"var\">Variables</a></li>\n",
        "                <li><a href=\"simple\">Functions Make Things Simple</a></li>\n",
        "            </ul>\n",
        "        </li>\n",
        "        <li><a href=\"pre\">Pre-defined functions</a></li>\n",
        "        <li><a href=\"if\">Using <code>if</code>/<code>else</code> Statements and Loops in Functions</a></li>\n",
        "        <li><a href=\"default\">Setting default argument values in your custom functions</a></li>\n",
        "        <li><a href=\"global\">Global variables</a></li>\n",
        "        <li><a href=\"scope\">Scope of a Variable</a></li>\n",
        "        <li>\n",
        "            <a href=\"#quiz\">Quiz on Loops</a>\n",
        "        </li>\n",
        "    </ul>\n",
        "    <p>\n",
        "        Estimated time needed: <strong>40 min</strong>\n",
        "    </p>\n",
        "</div>\n",
        "\n",
        "<hr>"
      ]
    },
    {
      "cell_type": "markdown",
      "metadata": {
        "id": "Zpd2gtYUBkhB",
        "colab_type": "text"
      },
      "source": [
        "<h2 id=\"func\">Functions</h2>"
      ]
    },
    {
      "cell_type": "markdown",
      "metadata": {
        "id": "jzv5YQJNBkhC",
        "colab_type": "text"
      },
      "source": [
        "A function is a reusable block of code which performs operations specified in the function.  They let you break down tasks and allow you to reuse your code in different programs.\n",
        "\n",
        "There are two types of functions :\n",
        "\n",
        "- <b>Pre-defined functions</b>\n",
        "- <b>User defined functions</b>"
      ]
    },
    {
      "cell_type": "markdown",
      "metadata": {
        "id": "HeGvVGO3BkhD",
        "colab_type": "text"
      },
      "source": [
        "<h3 id=\"content\">What is a Function?</h3>"
      ]
    },
    {
      "cell_type": "markdown",
      "metadata": {
        "id": "VERLUBlcBkhE",
        "colab_type": "text"
      },
      "source": [
        "You can define functions to provide the required functionality. Here are simple rules to define a function in Python:\n",
        "-  Functions blocks begin <code>def</code> followed by the function <code>name</code> and parentheses <code>()</code>.\n",
        "-  There are input parameters or arguments that should be placed within these parentheses. \n",
        "-  You can also define parameters inside these parentheses.\n",
        "-  There is a body within every function that starts with a colon (<code>:</code>) and is indented.\n",
        "-  You can also place documentation before the body \n",
        "-  The statement <code>return</code> exits a function, optionally passing back a value \n",
        "\n",
        "An example of a function that adds on to the parameter <code>a</code> prints and returns the output as <code>b</code>:"
      ]
    },
    {
      "cell_type": "code",
      "metadata": {
        "id": "URFzNsQ3BkhG",
        "colab_type": "code",
        "colab": {}
      },
      "source": [
        "# First function example: Add 1 to a and store as b\n",
        "\n",
        "def add(a):\n",
        "    b = a + 1\n",
        "    print(a, \"if you add one\", b)\n",
        "    return(b)"
      ],
      "execution_count": 0,
      "outputs": []
    },
    {
      "cell_type": "markdown",
      "metadata": {
        "id": "WVVVElzSBkhO",
        "colab_type": "text"
      },
      "source": [
        "The figure below illustrates the terminology: "
      ]
    },
    {
      "cell_type": "markdown",
      "metadata": {
        "id": "gghhIxklBkhP",
        "colab_type": "text"
      },
      "source": [
        "<img src=\"https://s3-api.us-geo.objectstorage.softlayer.net/cf-courses-data/CognitiveClass/PY0101EN/Chapter%203/Images/FuncsDefinition.png\" width=\"500\" /> "
      ]
    },
    {
      "cell_type": "markdown",
      "metadata": {
        "id": "z4Ca2ytMBkhQ",
        "colab_type": "text"
      },
      "source": [
        "We can obtain help about a function :"
      ]
    },
    {
      "cell_type": "code",
      "metadata": {
        "id": "r1-LcUcHBkhR",
        "colab_type": "code",
        "colab": {}
      },
      "source": [
        "# Get a help on add function\n",
        "\n",
        "help(add)"
      ],
      "execution_count": 0,
      "outputs": []
    },
    {
      "cell_type": "markdown",
      "metadata": {
        "id": "fwAv_4SMBkhY",
        "colab_type": "text"
      },
      "source": [
        "We can call the function:"
      ]
    },
    {
      "cell_type": "code",
      "metadata": {
        "id": "qNB-qpyJBkhZ",
        "colab_type": "code",
        "colab": {}
      },
      "source": [
        "# Call the function add()\n",
        "\n",
        "add(1)"
      ],
      "execution_count": 0,
      "outputs": []
    },
    {
      "cell_type": "markdown",
      "metadata": {
        "id": "GeTMzSftBkhe",
        "colab_type": "text"
      },
      "source": [
        "If we call the function with a new input we get a new result:"
      ]
    },
    {
      "cell_type": "code",
      "metadata": {
        "id": "JxF-NqjDBkhi",
        "colab_type": "code",
        "colab": {}
      },
      "source": [
        "# Call the function add()\n",
        "\n",
        "add(2)"
      ],
      "execution_count": 0,
      "outputs": []
    },
    {
      "cell_type": "markdown",
      "metadata": {
        "id": "Q3m-eYimBkho",
        "colab_type": "text"
      },
      "source": [
        "We can create different functions. For example, we can create a function that multiplies two numbers. The numbers will be represented by the variables <code>a</code> and <code>b</code>:"
      ]
    },
    {
      "cell_type": "code",
      "metadata": {
        "id": "wNcl9usqBkhq",
        "colab_type": "code",
        "colab": {}
      },
      "source": [
        "# Define a function for multiple two numbers\n",
        "\n",
        "def Mult(a, b):\n",
        "    c = a * b\n",
        "    return(c)"
      ],
      "execution_count": 0,
      "outputs": []
    },
    {
      "cell_type": "markdown",
      "metadata": {
        "id": "0IHHxBlRBkhx",
        "colab_type": "text"
      },
      "source": [
        "The same function can be used for different data types. For example, we can multiply two integers:\n"
      ]
    },
    {
      "cell_type": "code",
      "metadata": {
        "id": "f1s3rpF7Bkhy",
        "colab_type": "code",
        "colab": {}
      },
      "source": [
        "# Use mult() multiply two integers\n",
        "\n",
        "Mult(2, 3)"
      ],
      "execution_count": 0,
      "outputs": []
    },
    {
      "cell_type": "markdown",
      "metadata": {
        "id": "YkaNr8BXBkh3",
        "colab_type": "text"
      },
      "source": [
        " Two Floats: "
      ]
    },
    {
      "cell_type": "code",
      "metadata": {
        "id": "HqAM1U3qBkh4",
        "colab_type": "code",
        "colab": {}
      },
      "source": [
        "# Use mult() multiply two floats\n",
        "\n",
        "Mult(10.0, 3.14)"
      ],
      "execution_count": 0,
      "outputs": []
    },
    {
      "cell_type": "markdown",
      "metadata": {
        "id": "r1cPOOj4Bkh9",
        "colab_type": "text"
      },
      "source": [
        "We can even replicate a string by multiplying with an integer: "
      ]
    },
    {
      "cell_type": "code",
      "metadata": {
        "id": "albvwdjFBkh-",
        "colab_type": "code",
        "colab": {}
      },
      "source": [
        "# Use mult() multiply two different type values together\n",
        "\n",
        "Mult(2, \"Michael Jackson \")"
      ],
      "execution_count": 0,
      "outputs": []
    },
    {
      "cell_type": "markdown",
      "metadata": {
        "id": "jNhEWXAwBkiH",
        "colab_type": "text"
      },
      "source": [
        "<h3 id=\"var\">Variables</h3>"
      ]
    },
    {
      "cell_type": "markdown",
      "metadata": {
        "id": "7rR4cRXNBkiJ",
        "colab_type": "text"
      },
      "source": [
        "The input to a function is called a formal parameter.\n",
        "\n",
        "A variable that is declared inside a function is called a  local variable. The parameter only exists within the function (i.e. the point where the function starts and stops).  \n",
        "\n",
        "A variable that is declared outside a function definition is a global variable, and its value is accessible and modifiable throughout the program. We will discuss more about global variables at the end of the lab.\n"
      ]
    },
    {
      "cell_type": "code",
      "metadata": {
        "id": "BX8WNzSkBkiK",
        "colab_type": "code",
        "colab": {}
      },
      "source": [
        "# Function Definition\n",
        "\n",
        "def square(a):\n",
        "    \n",
        "    # Local variable b\n",
        "    b = 1\n",
        "    c = a * a + b\n",
        "    print(a, \"if you square + 1\", c) \n",
        "    return(c)"
      ],
      "execution_count": 0,
      "outputs": []
    },
    {
      "cell_type": "markdown",
      "metadata": {
        "id": "dubbgo86BkiO",
        "colab_type": "text"
      },
      "source": [
        "The labels are displayed in the figure:  "
      ]
    },
    {
      "cell_type": "markdown",
      "metadata": {
        "id": "h4aX8WxFBkiP",
        "colab_type": "text"
      },
      "source": [
        "<img src=\"https://s3-api.us-geo.objectstorage.softlayer.net/cf-courses-data/CognitiveClass/PY0101EN/Chapter%203/Images/FuncsVar.png\" width=\"500\" />"
      ]
    },
    {
      "cell_type": "markdown",
      "metadata": {
        "id": "Dr0Ng3RDBkiQ",
        "colab_type": "text"
      },
      "source": [
        "We can call the function  with an input of <b>3</b>:"
      ]
    },
    {
      "cell_type": "code",
      "metadata": {
        "id": "zR3JLzx3BkiR",
        "colab_type": "code",
        "colab": {}
      },
      "source": [
        "# Initializes Global variable  \n",
        "\n",
        "x = 3\n",
        "# Makes function call and return function a y\n",
        "y = square(x)\n",
        "y"
      ],
      "execution_count": 0,
      "outputs": []
    },
    {
      "cell_type": "markdown",
      "metadata": {
        "id": "TnQwC1hlBkiX",
        "colab_type": "text"
      },
      "source": [
        " We can call the function  with an input of <b>2</b> in a different manner:"
      ]
    },
    {
      "cell_type": "code",
      "metadata": {
        "id": "MiUDlB45BkiY",
        "colab_type": "code",
        "colab": {}
      },
      "source": [
        "# Directly enter a number as parameter\n",
        "\n",
        "square(2)"
      ],
      "execution_count": 0,
      "outputs": []
    },
    {
      "cell_type": "markdown",
      "metadata": {
        "id": "DbILfzGHBkid",
        "colab_type": "text"
      },
      "source": [
        "If there is no <code>return</code> statement, the function returns <code>None</code>. The following two functions are equivalent:"
      ]
    },
    {
      "cell_type": "code",
      "metadata": {
        "id": "ziFuFmlLBkie",
        "colab_type": "code",
        "colab": {}
      },
      "source": [
        "# Define functions, one with return value None and other without return value\n",
        "\n",
        "def MJ():\n",
        "    print('Michael Jackson')\n",
        "    \n",
        "def MJ1():\n",
        "    print('Michael Jackson')\n",
        "    return(None)"
      ],
      "execution_count": 0,
      "outputs": []
    },
    {
      "cell_type": "code",
      "metadata": {
        "id": "IAzL-BQGBkij",
        "colab_type": "code",
        "colab": {}
      },
      "source": [
        "# See the output\n",
        "\n",
        "MJ()"
      ],
      "execution_count": 0,
      "outputs": []
    },
    {
      "cell_type": "code",
      "metadata": {
        "id": "HZReYgu7Bkio",
        "colab_type": "code",
        "colab": {}
      },
      "source": [
        "# See the output\n",
        "\n",
        "MJ1()"
      ],
      "execution_count": 0,
      "outputs": []
    },
    {
      "cell_type": "markdown",
      "metadata": {
        "id": "qj4ry0XpBkix",
        "colab_type": "text"
      },
      "source": [
        "Printing the function after a call reveals a **None** is the default return statement:"
      ]
    },
    {
      "cell_type": "code",
      "metadata": {
        "id": "fTCfJitVBkiz",
        "colab_type": "code",
        "colab": {}
      },
      "source": [
        "# See what functions returns are\n",
        "\n",
        "print(MJ())\n",
        "print(MJ1())"
      ],
      "execution_count": 0,
      "outputs": []
    },
    {
      "cell_type": "markdown",
      "metadata": {
        "id": "Vzb__VsQBki3",
        "colab_type": "text"
      },
      "source": [
        "Create a function <code>con</code> that  concatenates two strings using the addition operation:"
      ]
    },
    {
      "cell_type": "code",
      "metadata": {
        "id": "dLHhhualBki4",
        "colab_type": "code",
        "colab": {}
      },
      "source": [
        "# Define the function for combining strings\n",
        "\n",
        "def con(a, b):\n",
        "    return(a + b)"
      ],
      "execution_count": 0,
      "outputs": []
    },
    {
      "cell_type": "code",
      "metadata": {
        "id": "dXxHnmOJBki9",
        "colab_type": "code",
        "colab": {}
      },
      "source": [
        "# Test on the con() function\n",
        "\n",
        "con(\"This \", \"is\")"
      ],
      "execution_count": 0,
      "outputs": []
    },
    {
      "cell_type": "markdown",
      "metadata": {
        "id": "mGJMJOW7BkjB",
        "colab_type": "text"
      },
      "source": [
        "<hr/>\n",
        "    <div class=\"alert alert-success alertsuccess\" style=\"margin-top: 20px\">\n",
        "        <h4> [Tip] How do I learn more about the pre-defined functions in Python? </h4>\n",
        "        <p>We will be introducing a variety of pre-defined functions to you as you learn more about Python. There are just too many functions, so there's no way we can teach them all in one sitting. But if you'd like to take a quick peek, here's a short reference card for some of the commonly-used pre-defined functions: <a href=\"http://www.astro.up.pt/~sousasag/Python_For_Astronomers/Python_qr.pdf\">Reference</a></p>\n",
        "    </div>\n",
        "<hr/>"
      ]
    },
    {
      "cell_type": "markdown",
      "metadata": {
        "id": "FBl4ouIXBkjC",
        "colab_type": "text"
      },
      "source": [
        "<h3 id=\"simple\">Functions Make Things Simple</h3>"
      ]
    },
    {
      "cell_type": "markdown",
      "metadata": {
        "id": "tRB89n7uBkjD",
        "colab_type": "text"
      },
      "source": [
        "Consider the two lines of code in <b>Block 1</b> and <b>Block 2</b>: the procedure for each block is identical. The only thing that is different is the variable names and values."
      ]
    },
    {
      "cell_type": "markdown",
      "metadata": {
        "id": "HpBSVlPwBkjD",
        "colab_type": "text"
      },
      "source": [
        "<h4>Block 1:</h4>"
      ]
    },
    {
      "cell_type": "code",
      "metadata": {
        "id": "hKYOE48GBkjE",
        "colab_type": "code",
        "colab": {}
      },
      "source": [
        "# a and b calculation block1\n",
        "\n",
        "a1 = 4\n",
        "b1 = 5\n",
        "c1 = a1 + b1 + 2 * a1 * b1 - 1\n",
        "if(c1 < 0):\n",
        "    c1 = 0 \n",
        "else:\n",
        "    c1 = 5\n",
        "c1   "
      ],
      "execution_count": 0,
      "outputs": []
    },
    {
      "cell_type": "markdown",
      "metadata": {
        "id": "O7-9Wu0dBkjI",
        "colab_type": "text"
      },
      "source": [
        "<h4>Block 2:</h4>"
      ]
    },
    {
      "cell_type": "code",
      "metadata": {
        "id": "7_dMUfK1BkjM",
        "colab_type": "code",
        "colab": {}
      },
      "source": [
        "# a and b calculation block2\n",
        "\n",
        "a2 = 0\n",
        "b2 = 0\n",
        "c2 = a2 + b2 + 2 * a2 * b2 - 1\n",
        "if(c2 < 0):\n",
        "    c2 = 0 \n",
        "else:\n",
        "    c2 = 5\n",
        "c2   "
      ],
      "execution_count": 0,
      "outputs": []
    },
    {
      "cell_type": "markdown",
      "metadata": {
        "id": "ZZRkulV-BkjT",
        "colab_type": "text"
      },
      "source": [
        "We can replace the lines of code with a function. A function combines many instructions into a single line of code. Once a function is defined, it can be used repeatedly. You can invoke the same function many times in your program. You can save your function and use it in another program or use someone else’s function. The lines of code in code <b>Block 1</b> and code <b>Block 2</b> can be replaced by the following function:  "
      ]
    },
    {
      "cell_type": "code",
      "metadata": {
        "id": "3cH6KDN3BkjU",
        "colab_type": "code",
        "colab": {}
      },
      "source": [
        "# Make a Function for the calculation above\n",
        "\n",
        "def Equation(a,b):\n",
        "    c = a + b + 2 * a * b - 1\n",
        "    if(c < 0):\n",
        "        c = 0 \n",
        "    else:\n",
        "        c = 5\n",
        "    return(c) "
      ],
      "execution_count": 0,
      "outputs": []
    },
    {
      "cell_type": "markdown",
      "metadata": {
        "id": "o6veKZ3GBkjX",
        "colab_type": "text"
      },
      "source": [
        "This function takes two inputs, a and b, then applies several operations to return c. \n",
        "We simply define the function, replace the instructions with the function, and input the new values of <code>a1</code>, <code>b1</code> and <code>a2</code>, <code>b2</code> as inputs. The entire process is demonstrated in the figure: "
      ]
    },
    {
      "cell_type": "markdown",
      "metadata": {
        "id": "CcLFX0i3BkjY",
        "colab_type": "text"
      },
      "source": [
        "<img src=\"https://s3-api.us-geo.objectstorage.softlayer.net/cf-courses-data/CognitiveClass/PY0101EN/Chapter%203/Images/FuncsPros.gif\" width=\"850\" />"
      ]
    },
    {
      "cell_type": "markdown",
      "metadata": {
        "id": "LThCSV8jBkjZ",
        "colab_type": "text"
      },
      "source": [
        "Code **Blocks 1** and **Block 2** can now be replaced with code **Block 3** and code **Block 4**."
      ]
    },
    {
      "cell_type": "markdown",
      "metadata": {
        "id": "ID50PuocBkja",
        "colab_type": "text"
      },
      "source": [
        "<h4>Block 3:</h4>"
      ]
    },
    {
      "cell_type": "code",
      "metadata": {
        "id": "ZjShBDHmBkjb",
        "colab_type": "code",
        "colab": {}
      },
      "source": [
        "a1 = 4\n",
        "b1 = 5\n",
        "c1 = Equation(a1, b1)\n",
        "c1"
      ],
      "execution_count": 0,
      "outputs": []
    },
    {
      "cell_type": "markdown",
      "metadata": {
        "id": "5JsWpy-RBkjf",
        "colab_type": "text"
      },
      "source": [
        "<h4>Block 4:</h4>"
      ]
    },
    {
      "cell_type": "code",
      "metadata": {
        "id": "PI66ClgCBkjg",
        "colab_type": "code",
        "colab": {}
      },
      "source": [
        "a2 = 0\n",
        "b2 = 0\n",
        "c2 = Equation(a2, b2)\n",
        "c2"
      ],
      "execution_count": 0,
      "outputs": []
    },
    {
      "cell_type": "markdown",
      "metadata": {
        "id": "dyu-AYtwBkjn",
        "colab_type": "text"
      },
      "source": [
        "<hr>"
      ]
    },
    {
      "cell_type": "markdown",
      "metadata": {
        "id": "EJ8o7Wh-Bkjn",
        "colab_type": "text"
      },
      "source": [
        "<h2 id=\"pre\">Pre-defined functions</h2>"
      ]
    },
    {
      "cell_type": "markdown",
      "metadata": {
        "id": "OFjJCVcqBkjp",
        "colab_type": "text"
      },
      "source": [
        "There are many pre-defined functions in Python, so let's start with the simple ones."
      ]
    },
    {
      "cell_type": "markdown",
      "metadata": {
        "id": "66pCipCDBkjr",
        "colab_type": "text"
      },
      "source": [
        "The <code>print()</code> function:"
      ]
    },
    {
      "cell_type": "code",
      "metadata": {
        "id": "0fkEmcc6Bkjs",
        "colab_type": "code",
        "colab": {}
      },
      "source": [
        "# Build-in function print()\n",
        "\n",
        "album_ratings = [10.0, 8.5, 9.5, 7.0, 7.0, 9.5, 9.0, 9.5] \n",
        "print(album_ratings)"
      ],
      "execution_count": 0,
      "outputs": []
    },
    {
      "cell_type": "markdown",
      "metadata": {
        "id": "GJWKu-4OBkjw",
        "colab_type": "text"
      },
      "source": [
        "The <code>sum()</code> function adds all the  elements in a list or tuple:"
      ]
    },
    {
      "cell_type": "code",
      "metadata": {
        "id": "fi5e49_zBkjz",
        "colab_type": "code",
        "colab": {}
      },
      "source": [
        "# Use sum() to add every element in a list or tuple together\n",
        "\n",
        "sum(album_ratings)"
      ],
      "execution_count": 0,
      "outputs": []
    },
    {
      "cell_type": "markdown",
      "metadata": {
        "id": "-fVSw7ceBkj5",
        "colab_type": "text"
      },
      "source": [
        "The <code>len()</code> function returns the length of a list or tuple: "
      ]
    },
    {
      "cell_type": "code",
      "metadata": {
        "id": "9UQoS3FIBkj7",
        "colab_type": "code",
        "colab": {}
      },
      "source": [
        "# Show the length of the list or tuple\n",
        "\n",
        "len(album_ratings)"
      ],
      "execution_count": 0,
      "outputs": []
    },
    {
      "cell_type": "markdown",
      "metadata": {
        "id": "qla7mbbJBkkD",
        "colab_type": "text"
      },
      "source": [
        "<h2 id=\"if\">Using <code>if</code>/<code>else</code> Statements and Loops in Functions</h2>"
      ]
    },
    {
      "cell_type": "markdown",
      "metadata": {
        "id": "xK1godWmBkkF",
        "colab_type": "text"
      },
      "source": [
        "The <code>return()</code> function is particularly useful if you have any IF statements in the function, when you want your output to be dependent on some condition: "
      ]
    },
    {
      "cell_type": "code",
      "metadata": {
        "id": "to7_8dCVBkkG",
        "colab_type": "code",
        "colab": {}
      },
      "source": [
        "# Function example\n",
        "\n",
        "def type_of_album(artist, album, year_released):\n",
        "    \n",
        "    print(artist, album, year_released)\n",
        "    if year_released > 1980:\n",
        "        return \"Modern\"\n",
        "    else:\n",
        "        return \"Oldie\"\n",
        "    \n",
        "x = type_of_album(\"Michael Jackson\", \"Thriller\", 1980)\n",
        "print(x)"
      ],
      "execution_count": 0,
      "outputs": []
    },
    {
      "cell_type": "markdown",
      "metadata": {
        "id": "OJ5-hP1aBkkM",
        "colab_type": "text"
      },
      "source": [
        "We can use a loop in a function. For example, we can <code>print</code> out each element in a list:"
      ]
    },
    {
      "cell_type": "code",
      "metadata": {
        "id": "P0LXMTXXBkkO",
        "colab_type": "code",
        "colab": {}
      },
      "source": [
        "# Print the list using for loop\n",
        "\n",
        "def PrintList(the_list):\n",
        "    for element in the_list:\n",
        "        print(element)"
      ],
      "execution_count": 0,
      "outputs": []
    },
    {
      "cell_type": "code",
      "metadata": {
        "id": "5gt5VehvBkkX",
        "colab_type": "code",
        "colab": {}
      },
      "source": [
        "# Implement the printlist function\n",
        "\n",
        "PrintList(['1', 1, 'the man', \"abc\"])"
      ],
      "execution_count": 0,
      "outputs": []
    },
    {
      "cell_type": "markdown",
      "metadata": {
        "id": "Au_MbR7FBkkb",
        "colab_type": "text"
      },
      "source": [
        "<hr>"
      ]
    },
    {
      "cell_type": "markdown",
      "metadata": {
        "id": "9mQJutb-Bkkb",
        "colab_type": "text"
      },
      "source": [
        "<h2 id=\"default\">Setting default argument values in your custom functions</h2>"
      ]
    },
    {
      "cell_type": "markdown",
      "metadata": {
        "id": "xN8i4604Bkkc",
        "colab_type": "text"
      },
      "source": [
        "You can set a default value for arguments in your function. For example, in the <code>isGoodRating()</code> function, what if we wanted to create a threshold for what we consider to be a good rating? Perhaps by default, we should have a default rating of 4:"
      ]
    },
    {
      "cell_type": "code",
      "metadata": {
        "id": "Kr3hL_5SBkkd",
        "colab_type": "code",
        "colab": {}
      },
      "source": [
        "# Example for setting param with default value\n",
        "\n",
        "def isGoodRating(rating=4): \n",
        "    if(rating < 7):\n",
        "        print(\"this album sucks it's rating is\",rating)\n",
        "        \n",
        "    else:\n",
        "        print(\"this album is good its rating is\",rating)\n"
      ],
      "execution_count": 0,
      "outputs": []
    },
    {
      "cell_type": "code",
      "metadata": {
        "id": "Q7jcxiOGBkkk",
        "colab_type": "code",
        "colab": {}
      },
      "source": [
        "# Test the value with default value and with input\n",
        "\n",
        "isGoodRating()\n",
        "isGoodRating(10)"
      ],
      "execution_count": 0,
      "outputs": []
    },
    {
      "cell_type": "markdown",
      "metadata": {
        "id": "Y3CXOYBUBkko",
        "colab_type": "text"
      },
      "source": [
        "<hr>"
      ]
    },
    {
      "cell_type": "markdown",
      "metadata": {
        "id": "_YCWEc5CBkko",
        "colab_type": "text"
      },
      "source": [
        "<h2 id=\"global\">Global variables</h2>"
      ]
    },
    {
      "cell_type": "markdown",
      "metadata": {
        "id": "QaGv2Fa8Bkkp",
        "colab_type": "text"
      },
      "source": [
        "So far, we've been creating variables within functions, but we have not discussed variables outside the function.  These are called global variables. \n",
        "<br>\n",
        "Let's try to see what <code>printer1</code> returns:"
      ]
    },
    {
      "cell_type": "code",
      "metadata": {
        "id": "8u0tjP7GBkkq",
        "colab_type": "code",
        "colab": {}
      },
      "source": [
        "# Example of global variable\n",
        "\n",
        "artist = \"Michael Jackson\"\n",
        "def printer1(artist):\n",
        "    internal_var = artist\n",
        "    print(artist, \"is an artist\")\n",
        "    \n",
        "printer1(artist)"
      ],
      "execution_count": 0,
      "outputs": []
    },
    {
      "cell_type": "markdown",
      "metadata": {
        "id": "Rl1naShfBkkx",
        "colab_type": "text"
      },
      "source": [
        "If we print <code>internal_var</code> we get an error. "
      ]
    },
    {
      "cell_type": "markdown",
      "metadata": {
        "id": "NXY2fkXBBkkz",
        "colab_type": "text"
      },
      "source": [
        "<b>We got a Name Error:  <code>name 'internal_var' is not defined</code>. Why?</b>  \n",
        "\n",
        "It's because all the variables we create in the function is a <b>local variable</b>, meaning that the variable assignment does not persist outside the function.  \n",
        "\n",
        "But there is a way to create <b>global variables</b> from within a function as follows:"
      ]
    },
    {
      "cell_type": "code",
      "metadata": {
        "id": "7hgz3t0VBkk2",
        "colab_type": "code",
        "colab": {}
      },
      "source": [
        "artist = \"Michael Jackson\"\n",
        "\n",
        "def printer(artist):\n",
        "    global internal_var \n",
        "    internal_var= \"Whitney Houston\"\n",
        "    print(artist,\"is an artist\")\n",
        "\n",
        "printer(artist) \n",
        "printer(internal_var)"
      ],
      "execution_count": 0,
      "outputs": []
    },
    {
      "cell_type": "markdown",
      "metadata": {
        "id": "MVw4d8QrBkk8",
        "colab_type": "text"
      },
      "source": [
        "<h2 id=\"scope\">Scope of a Variable</h2>"
      ]
    },
    {
      "cell_type": "markdown",
      "metadata": {
        "id": "Drb8bMZIBkk9",
        "colab_type": "text"
      },
      "source": [
        " The scope of a variable is the part of that program where that variable is accessible. Variables that are declared outside of all function definitions, such as the <code>myFavouriteBand</code> variable in the code shown here, are accessible from anywhere within the program. As a result, such variables are said to have global scope, and are known as global variables. \n",
        "    <code>myFavouriteBand</code> is a global variable, so it is accessible from within the <code>getBandRating</code> function, and we can use it to determine a band's rating. We can also use it outside of the function, such as when we pass it to the print function to display it:"
      ]
    },
    {
      "cell_type": "code",
      "metadata": {
        "id": "cmcJ_t2QBkk_",
        "colab_type": "code",
        "colab": {}
      },
      "source": [
        "# Example of global variable\n",
        "\n",
        "myFavouriteBand = \"AC/DC\"\n",
        "\n",
        "def getBandRating(bandname):\n",
        "    if bandname == myFavouriteBand:\n",
        "        return 10.0\n",
        "    else:\n",
        "        return 0.0\n",
        "\n",
        "print(\"AC/DC's rating is:\", getBandRating(\"AC/DC\"))\n",
        "print(\"Deep Purple's rating is:\",getBandRating(\"Deep Purple\"))\n",
        "print(\"My favourite band is:\", myFavouriteBand)"
      ],
      "execution_count": 0,
      "outputs": []
    },
    {
      "cell_type": "markdown",
      "metadata": {
        "id": "gjKC4jWLBklE",
        "colab_type": "text"
      },
      "source": [
        " Take a look at this modified version of our code. Now the <code>myFavouriteBand</code> variable is defined within the <code>getBandRating</code> function. A variable that is defined within a function is said to be a local variable of that function. That means that it is only accessible from within the function in which it is defined. Our <code>getBandRating</code> function will still work, because <code>myFavouriteBand</code> is still defined within the function. However, we can no longer print <code>myFavouriteBand</code> outside our function, because it is a local variable of our <code>getBandRating</code> function; it is only defined within the <code>getBandRating</code> function:"
      ]
    },
    {
      "cell_type": "code",
      "metadata": {
        "id": "DQNtHw3VBklF",
        "colab_type": "code",
        "colab": {}
      },
      "source": [
        "# Example of local variable\n",
        "\n",
        "def getBandRating(bandname):\n",
        "    myFavouriteBand = \"AC/DC\"\n",
        "    if bandname == myFavouriteBand:\n",
        "        return 10.0\n",
        "    else:\n",
        "        return 0.0\n",
        "\n",
        "print(\"AC/DC's rating is: \", getBandRating(\"AC/DC\"))\n",
        "print(\"Deep Purple's rating is: \", getBandRating(\"Deep Purple\"))\n",
        "print(\"My favourite band is\", myFavouriteBand)"
      ],
      "execution_count": 0,
      "outputs": []
    },
    {
      "cell_type": "markdown",
      "metadata": {
        "id": "wpKqN03PBklK",
        "colab_type": "text"
      },
      "source": [
        " Finally, take a look at this example. We now have two <code>myFavouriteBand</code> variable definitions. The first one of these has a global scope, and the second of them is a local variable within the <code>getBandRating</code> function. Within the <code>getBandRating</code> function, the local variable takes precedence. **Deep Purple** will receive a rating of 10.0 when passed to the <code>getBandRating</code> function. However, outside of the <code>getBandRating</code> function, the <code>getBandRating</code>'s local variable is not defined, so the <code>myFavouriteBand</code> variable we print is the global variable, which has a value of **AC/DC**:"
      ]
    },
    {
      "cell_type": "code",
      "metadata": {
        "id": "H6dn8ExXBklK",
        "colab_type": "code",
        "colab": {}
      },
      "source": [
        "# Example of global variable and local variable with the same name\n",
        "\n",
        "myFavouriteBand = \"AC/DC\"\n",
        "\n",
        "def getBandRating(bandname):\n",
        "    myFavouriteBand = \"Deep Purple\"\n",
        "    if bandname == myFavouriteBand:\n",
        "        return 10.0\n",
        "    else:\n",
        "        return 0.0\n",
        "\n",
        "print(\"AC/DC's rating is:\",getBandRating(\"AC/DC\"))\n",
        "print(\"Deep Purple's rating is: \",getBandRating(\"Deep Purple\"))\n",
        "print(\"My favourite band is:\",myFavouriteBand)"
      ],
      "execution_count": 0,
      "outputs": []
    },
    {
      "cell_type": "markdown",
      "metadata": {
        "id": "KacFkGVKBklN",
        "colab_type": "text"
      },
      "source": [
        "<h2>Quiz on Functions</h2>"
      ]
    },
    {
      "cell_type": "markdown",
      "metadata": {
        "id": "_zNWJBA5BklO",
        "colab_type": "text"
      },
      "source": [
        "Come up with a function that divides the first input by the second input:"
      ]
    },
    {
      "cell_type": "code",
      "metadata": {
        "id": "9q4x9tj1BklP",
        "colab_type": "code",
        "colab": {}
      },
      "source": [
        "# Write your code below and press Shift+Enter to execute"
      ],
      "execution_count": 0,
      "outputs": []
    },
    {
      "cell_type": "markdown",
      "metadata": {
        "id": "TzOzLFiPBklV",
        "colab_type": "text"
      },
      "source": [
        "Double-click __here__ for the solution.\n",
        "\n",
        "<!-- \n",
        "def div(a, b):\n",
        "    return(a/b)\n",
        "-->"
      ]
    },
    {
      "cell_type": "markdown",
      "metadata": {
        "id": "BO2gkdFkBklW",
        "colab_type": "text"
      },
      "source": [
        "<hr>"
      ]
    },
    {
      "cell_type": "markdown",
      "metadata": {
        "id": "t7ENMFw4BklX",
        "colab_type": "text"
      },
      "source": [
        "Use the function <code>con</code> for the following question."
      ]
    },
    {
      "cell_type": "code",
      "metadata": {
        "id": "3_yLLAVhBklY",
        "colab_type": "code",
        "colab": {}
      },
      "source": [
        "# Use the con function for the following question\n",
        "\n",
        "def con(a, b):\n",
        "    return(a + b)"
      ],
      "execution_count": 0,
      "outputs": []
    },
    {
      "cell_type": "markdown",
      "metadata": {
        "id": "ZczVDnwBBklj",
        "colab_type": "text"
      },
      "source": [
        "Can the <code>con</code> function we defined before be used to add to integers or strings?"
      ]
    },
    {
      "cell_type": "code",
      "metadata": {
        "id": "OC6kRbduBklk",
        "colab_type": "code",
        "colab": {}
      },
      "source": [
        "# Write your code below and press Shift+Enter to execute"
      ],
      "execution_count": 0,
      "outputs": []
    },
    {
      "cell_type": "markdown",
      "metadata": {
        "id": "Nz5ae3DBBklr",
        "colab_type": "text"
      },
      "source": [
        "Double-click __here__ for the solution.\n",
        "\n",
        "<!-- \n",
        "yes, for example: \n",
        "con(2, 2)\n",
        " -->"
      ]
    },
    {
      "cell_type": "markdown",
      "metadata": {
        "id": "87XYvXOHBkls",
        "colab_type": "text"
      },
      "source": [
        "<hr>"
      ]
    },
    {
      "cell_type": "markdown",
      "metadata": {
        "id": "55D3i2JYBklt",
        "colab_type": "text"
      },
      "source": [
        "Can the <code>con</code> function we defined before be used to concentrate a list or tuple?"
      ]
    },
    {
      "cell_type": "code",
      "metadata": {
        "id": "-rpC4eaSBklt",
        "colab_type": "code",
        "colab": {}
      },
      "source": [
        "# Write your code below and press Shift+Enter to execute"
      ],
      "execution_count": 0,
      "outputs": []
    },
    {
      "cell_type": "markdown",
      "metadata": {
        "id": "kxxT1sWdBkl5",
        "colab_type": "text"
      },
      "source": [
        "Double-click __here__ for the solution.\n",
        "\n",
        "<!-- \n",
        "yes,for example: \n",
        "con(['a', 1], ['b', 1])\n",
        "-->"
      ]
    },
    {
      "cell_type": "markdown",
      "metadata": {
        "id": "ITJQX0ibBkl6",
        "colab_type": "text"
      },
      "source": [
        "<hr>\n",
        "<h2>The last exercise!</h2>\n",
        "<p>Congratulations, you have completed your first lesson and hands-on lab in Python. However, there is one more thing you need to do. The Data Science community encourages sharing work. The best way to share and showcase your work is to share it on GitHub. By sharing your notebook on GitHub you are not only building your reputation with fellow data scientists, but you can also show it off when applying for a job. Even though this was your first piece of work, it is never too early to start building good habits. So, please read and follow <a href=\"https://cognitiveclass.ai/blog/data-scientists-stand-out-by-sharing-your-notebooks/\" target=\"_blank\">this article</a> to learn how to share your work.\n",
        "<hr>"
      ]
    },
    {
      "cell_type": "markdown",
      "metadata": {
        "id": "1g_dKCZeBkl8",
        "colab_type": "text"
      },
      "source": [
        "<h3>About the Authors:</h3>  \n",
        "<p><a href=\"https://www.linkedin.com/in/joseph-s-50398b136/\" target=\"_blank\">Joseph Santarcangelo</a> is a Data Scientist at IBM, and holds a PhD in Electrical Engineering. His research focused on using Machine Learning, Signal Processing, and Computer Vision to determine how videos impact human cognition. Joseph has been working for IBM since he completed his PhD.</p>"
      ]
    },
    {
      "cell_type": "markdown",
      "metadata": {
        "id": "Z79DawJ5Bkl8",
        "colab_type": "text"
      },
      "source": [
        "<p>Other contributors: <a href=\"https://www.linkedin.com/in/jiahui-mavis-zhou-a4537814a\">Mavis Zhou</a>, <a href=\"https://www.linkedin.com/in/reevejamesd/\">James Reeve</a>, <a href=\"https://github.com/computationalcore\" target=\"_blank\">Vin Busquet</a>, <a href=\"https://github.com/raphtrajano\" target=\"_blank\">Raph Trajano</a></p>"
      ]
    },
    {
      "cell_type": "markdown",
      "metadata": {
        "id": "0JAc8ibuBkl9",
        "colab_type": "text"
      },
      "source": [
        "<hr>"
      ]
    },
    {
      "cell_type": "markdown",
      "metadata": {
        "id": "GBFvy4l3Bkl-",
        "colab_type": "text"
      },
      "source": [
        "<p>Copyright &copy; 2018 IBM Developer Skills Network. This notebook and its source code are released under the terms of the <a href=\"https://cognitiveclass.ai/mit-license/\">MIT License</a>.</p>"
      ]
    }
  ]
}