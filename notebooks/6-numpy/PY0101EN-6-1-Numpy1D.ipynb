{
  "nbformat": 4,
  "nbformat_minor": 0,
  "metadata": {
    "kernelspec": {
      "display_name": "Python",
      "language": "python",
      "name": "conda-env-python-py"
    },
    "language_info": {
      "codemirror_mode": {
        "name": "ipython",
        "version": 3
      },
      "file_extension": ".py",
      "mimetype": "text/x-python",
      "name": "python",
      "nbconvert_exporter": "python",
      "pygments_lexer": "ipython3",
      "version": "3.6.7"
    },
    "colab": {
      "name": "PY0101EN-6-1-Numpy1D.ipynb",
      "provenance": []
    }
  },
  "cells": [
    {
      "cell_type": "markdown",
      "metadata": {
        "id": "hCGaFvGwKIhf",
        "colab_type": "text"
      },
      "source": [
        "<a href=\"https://cognitiveclass.ai/\">\n",
        "    <img src=\"https://s3-api.us-geo.objectstorage.softlayer.net/cf-courses-data/CognitiveClass/PY0101EN/Ad/CCLog.png\" width=\"200\" align=\"center\">\n",
        "</a>"
      ]
    },
    {
      "cell_type": "markdown",
      "metadata": {
        "id": "DgR6zv4DKIhj",
        "colab_type": "text"
      },
      "source": [
        "<h1>1D <code>Numpy</code> in Python</h1>"
      ]
    },
    {
      "cell_type": "markdown",
      "metadata": {
        "id": "y1WFfa1VKIhm",
        "colab_type": "text"
      },
      "source": [
        "<p><strong>Welcome!</strong> This notebook will teach you about using <code>Numpy</code> in the Python Programming Language. By the end of this lab, you'll know what <code>Numpy</code> is and the <code>Numpy</code> operations.</p>"
      ]
    },
    {
      "cell_type": "markdown",
      "metadata": {
        "id": "FBw_IrRbKIhq",
        "colab_type": "text"
      },
      "source": [
        "<h2>Table of Contents</h2>\n",
        "<div class=\"alert alert-block alert-info\" style=\"margin-top: 20px\">\n",
        "    <ul>\n",
        "        <li><a href=\"pre\">Preparation</a></li>\n",
        "        <li>\n",
        "            <a href=\"numpy\">What is Numpy?</a>\n",
        "            <ul>\n",
        "                <li><a href=\"type\">Type</a></li>\n",
        "                <li><a href=\"val\">Assign Value</a></li>\n",
        "                <li><a href=\"slice\">Slicing</a></li>\n",
        "                <li><a href=\"list\">Assign Value with List</a></li>\n",
        "                <li><a href=\"other\">Other Attributes</a></li>\n",
        "            </ul>\n",
        "        </li>\n",
        "        <li>\n",
        "            <a href=\"op\">Numpy Array Operations</a>\n",
        "            <ul>\n",
        "                <li><a href=\"add\">Array Addition</a></li>\n",
        "                <li><a href=\"multi\">Array Multiplication</a></li>\n",
        "                <li><a href=\"prod\">Product of Two Numpy Arrays</a></li>\n",
        "                <li><a href=\"dot\">Dot Product</a></li>\n",
        "                <li><a href=\"cons\">Adding Constant to a Numpy Array</a></li>\n",
        "            </ul>\n",
        "        </li>\n",
        "        <li><a href=\"math\">Mathematical Functions</a></li>\n",
        "        <li><a href=\"lin\">Linspace</a></li>\n",
        "    </ul>\n",
        "    <p>\n",
        "        Estimated time needed: <strong>30 min</strong>\n",
        "    </p>\n",
        "</div>\n",
        "\n",
        "<hr>"
      ]
    },
    {
      "cell_type": "markdown",
      "metadata": {
        "id": "Ix6Zc_R0KIhr",
        "colab_type": "text"
      },
      "source": [
        "<h2 id=\"pre\">Preparation</h2>"
      ]
    },
    {
      "cell_type": "code",
      "metadata": {
        "jupyter": {
          "outputs_hidden": true
        },
        "id": "1INOeji6KIht",
        "colab_type": "code",
        "colab": {}
      },
      "source": [
        "# Import the libraries\n",
        "\n",
        "import time \n",
        "import sys\n",
        "import numpy as np \n",
        "\n",
        "import matplotlib.pyplot as plt\n",
        "%matplotlib inline  "
      ],
      "execution_count": 0,
      "outputs": []
    },
    {
      "cell_type": "code",
      "metadata": {
        "jupyter": {
          "outputs_hidden": false
        },
        "id": "1RVSx7RjKIiD",
        "colab_type": "code",
        "colab": {}
      },
      "source": [
        "# Plotting functions\n",
        "\n",
        "def Plotvec1(u, z, v):\n",
        "    \n",
        "    ax = plt.axes()\n",
        "    ax.arrow(0, 0, *u, head_width=0.05, color='r', head_length=0.1)\n",
        "    plt.text(*(u + 0.1), 'u')\n",
        "    \n",
        "    ax.arrow(0, 0, *v, head_width=0.05, color='b', head_length=0.1)\n",
        "    plt.text(*(v + 0.1), 'v')\n",
        "    ax.arrow(0, 0, *z, head_width=0.05, head_length=0.1)\n",
        "    plt.text(*(z + 0.1), 'z')\n",
        "    plt.ylim(-2, 2)\n",
        "    plt.xlim(-2, 2)\n",
        "\n",
        "def Plotvec2(a,b):\n",
        "    ax = plt.axes()\n",
        "    ax.arrow(0, 0, *a, head_width=0.05, color ='r', head_length=0.1)\n",
        "    plt.text(*(a + 0.1), 'a')\n",
        "    ax.arrow(0, 0, *b, head_width=0.05, color ='b', head_length=0.1)\n",
        "    plt.text(*(b + 0.1), 'b')\n",
        "    plt.ylim(-2, 2)\n",
        "    plt.xlim(-2, 2)"
      ],
      "execution_count": 0,
      "outputs": []
    },
    {
      "cell_type": "markdown",
      "metadata": {
        "id": "kiQ_WE1bKIiK",
        "colab_type": "text"
      },
      "source": [
        "Create a Python List as follows:"
      ]
    },
    {
      "cell_type": "code",
      "metadata": {
        "jupyter": {
          "outputs_hidden": false
        },
        "id": "skEG2lVtKIiL",
        "colab_type": "code",
        "colab": {}
      },
      "source": [
        "# Create a python list\n",
        "\n",
        "a = [\"0\", 1, \"two\", \"3\", 4]"
      ],
      "execution_count": 0,
      "outputs": []
    },
    {
      "cell_type": "markdown",
      "metadata": {
        "id": "wI5i_UyQKIiR",
        "colab_type": "text"
      },
      "source": [
        "We can access the data via an index:"
      ]
    },
    {
      "cell_type": "markdown",
      "metadata": {
        "id": "nu9zw1jBKIiS",
        "colab_type": "text"
      },
      "source": [
        "<img src=\"https://s3-api.us-geo.objectstorage.softlayer.net/cf-courses-data/CognitiveClass/PY0101EN/Chapter%205/Images/NumOneList.png\" width=\"660\" />"
      ]
    },
    {
      "cell_type": "markdown",
      "metadata": {
        "id": "zWBRra5fKIiT",
        "colab_type": "text"
      },
      "source": [
        "We can access each element using a square bracket as follows: "
      ]
    },
    {
      "cell_type": "code",
      "metadata": {
        "jupyter": {
          "outputs_hidden": false
        },
        "id": "WgeUyEXZKIiU",
        "colab_type": "code",
        "colab": {}
      },
      "source": [
        "# Print each element\n",
        "\n",
        "print(\"a[0]:\", a[0])\n",
        "print(\"a[1]:\", a[1])\n",
        "print(\"a[2]:\", a[2])\n",
        "print(\"a[3]:\", a[3])\n",
        "print(\"a[4]:\", a[4])"
      ],
      "execution_count": 0,
      "outputs": []
    },
    {
      "cell_type": "markdown",
      "metadata": {
        "id": "aBb2rbrWKIib",
        "colab_type": "text"
      },
      "source": [
        "<hr>"
      ]
    },
    {
      "cell_type": "markdown",
      "metadata": {
        "id": "GLviW3hBKIic",
        "colab_type": "text"
      },
      "source": [
        "<h2 id=\"numpy\">What is Numpy?</h2>"
      ]
    },
    {
      "cell_type": "markdown",
      "metadata": {
        "id": "dFq6tLJSKIid",
        "colab_type": "text"
      },
      "source": [
        "A numpy array is similar to a list. It's usually fixed in size and each element is of the same type. We can cast a list to a numpy array by first importing numpy: "
      ]
    },
    {
      "cell_type": "code",
      "metadata": {
        "jupyter": {
          "outputs_hidden": false
        },
        "id": "qN4qeR0UKIie",
        "colab_type": "code",
        "colab": {}
      },
      "source": [
        "# import numpy library\n",
        "\n",
        "import numpy as np "
      ],
      "execution_count": 0,
      "outputs": []
    },
    {
      "cell_type": "markdown",
      "metadata": {
        "id": "bzGeaAIpKIip",
        "colab_type": "text"
      },
      "source": [
        " We then cast the list as follows:"
      ]
    },
    {
      "cell_type": "code",
      "metadata": {
        "jupyter": {
          "outputs_hidden": false
        },
        "id": "aEmiItvLKIiq",
        "colab_type": "code",
        "colab": {}
      },
      "source": [
        "# Create a numpy array\n",
        "\n",
        "a = np.array([0, 1, 2, 3, 4])\n",
        "a"
      ],
      "execution_count": 0,
      "outputs": []
    },
    {
      "cell_type": "markdown",
      "metadata": {
        "id": "skLOHLjmKIiv",
        "colab_type": "text"
      },
      "source": [
        "Each element is of the same type, in this case integers: "
      ]
    },
    {
      "cell_type": "markdown",
      "metadata": {
        "id": "OVnXjMk7KIiw",
        "colab_type": "text"
      },
      "source": [
        "<img src=\"https://s3-api.us-geo.objectstorage.softlayer.net/cf-courses-data/CognitiveClass/PY0101EN/Chapter%205/Images/NumOneNp.png\" width=\"500\" />"
      ]
    },
    {
      "cell_type": "markdown",
      "metadata": {
        "id": "S_knF3rWKIix",
        "colab_type": "text"
      },
      "source": [
        " As with lists, we can access each element via a square bracket:"
      ]
    },
    {
      "cell_type": "code",
      "metadata": {
        "jupyter": {
          "outputs_hidden": false
        },
        "id": "sm59JlocKIiy",
        "colab_type": "code",
        "colab": {}
      },
      "source": [
        "# Print each element\n",
        "\n",
        "print(\"a[0]:\", a[0])\n",
        "print(\"a[1]:\", a[1])\n",
        "print(\"a[2]:\", a[2])\n",
        "print(\"a[3]:\", a[3])\n",
        "print(\"a[4]:\", a[4])"
      ],
      "execution_count": 0,
      "outputs": []
    },
    {
      "cell_type": "markdown",
      "metadata": {
        "id": "6QvaGJDTKIi4",
        "colab_type": "text"
      },
      "source": [
        "<h3 id=\"type\">Type</h3>"
      ]
    },
    {
      "cell_type": "markdown",
      "metadata": {
        "id": "qstZw1YRKIi5",
        "colab_type": "text"
      },
      "source": [
        "If we check the type of the array we get <b>numpy.ndarray</b>:"
      ]
    },
    {
      "cell_type": "code",
      "metadata": {
        "jupyter": {
          "outputs_hidden": false
        },
        "id": "J-952iImKIi6",
        "colab_type": "code",
        "colab": {}
      },
      "source": [
        "# Check the type of the array\n",
        "\n",
        "type(a)"
      ],
      "execution_count": 0,
      "outputs": []
    },
    {
      "cell_type": "markdown",
      "metadata": {
        "id": "KaSuaRBJKIjF",
        "colab_type": "text"
      },
      "source": [
        "As numpy arrays contain data of the same type, we can use the attribute \"dtype\" to obtain the Data-type of the array’s elements. In this case a 64-bit integer: \n"
      ]
    },
    {
      "cell_type": "code",
      "metadata": {
        "jupyter": {
          "outputs_hidden": false
        },
        "id": "NFAlXUwxKIjG",
        "colab_type": "code",
        "colab": {}
      },
      "source": [
        "# Check the type of the values stored in numpy array\n",
        "\n",
        "a.dtype"
      ],
      "execution_count": 0,
      "outputs": []
    },
    {
      "cell_type": "markdown",
      "metadata": {
        "id": "yulJlOI9KIjM",
        "colab_type": "text"
      },
      "source": [
        "We can create a numpy array with real numbers:"
      ]
    },
    {
      "cell_type": "code",
      "metadata": {
        "jupyter": {
          "outputs_hidden": false
        },
        "id": "fnB_Of9zKIjN",
        "colab_type": "code",
        "colab": {}
      },
      "source": [
        "# Create a numpy array\n",
        "\n",
        "b = np.array([3.1, 11.02, 6.2, 213.2, 5.2])"
      ],
      "execution_count": 0,
      "outputs": []
    },
    {
      "cell_type": "markdown",
      "metadata": {
        "id": "wwcWaZNHKIjS",
        "colab_type": "text"
      },
      "source": [
        "When we check the type of the array we get <b>numpy.ndarray</b>:"
      ]
    },
    {
      "cell_type": "code",
      "metadata": {
        "jupyter": {
          "outputs_hidden": false
        },
        "id": "LeoeDSabKIjT",
        "colab_type": "code",
        "colab": {}
      },
      "source": [
        "# Check the type of array\n",
        "\n",
        "type(b)"
      ],
      "execution_count": 0,
      "outputs": []
    },
    {
      "cell_type": "markdown",
      "metadata": {
        "id": "yh_-ipjOKIjY",
        "colab_type": "text"
      },
      "source": [
        "If we examine the attribute <code>dtype</code> we see float 64, as the elements are not integers: "
      ]
    },
    {
      "cell_type": "code",
      "metadata": {
        "jupyter": {
          "outputs_hidden": false
        },
        "id": "ko7S1azaKIjZ",
        "colab_type": "code",
        "colab": {}
      },
      "source": [
        "# Check the value type\n",
        "\n",
        "b.dtype"
      ],
      "execution_count": 0,
      "outputs": []
    },
    {
      "cell_type": "markdown",
      "metadata": {
        "id": "AN637J0HKIjd",
        "colab_type": "text"
      },
      "source": [
        "<h3 id=\"val\">Assign value</h3>"
      ]
    },
    {
      "cell_type": "markdown",
      "metadata": {
        "id": "LJRXk5UnKIje",
        "colab_type": "text"
      },
      "source": [
        "We can change the value of the array, consider the array <code>c</code>:"
      ]
    },
    {
      "cell_type": "code",
      "metadata": {
        "jupyter": {
          "outputs_hidden": false
        },
        "id": "3XO8zM3eKIje",
        "colab_type": "code",
        "colab": {}
      },
      "source": [
        "# Create numpy array\n",
        "\n",
        "c = np.array([20, 1, 2, 3, 4])\n",
        "c"
      ],
      "execution_count": 0,
      "outputs": []
    },
    {
      "cell_type": "markdown",
      "metadata": {
        "id": "fNsLbG7-KIjj",
        "colab_type": "text"
      },
      "source": [
        "We can change the first element of the array to 100 as follows:"
      ]
    },
    {
      "cell_type": "code",
      "metadata": {
        "jupyter": {
          "outputs_hidden": false
        },
        "id": "kChQcPpXKIjk",
        "colab_type": "code",
        "colab": {}
      },
      "source": [
        "# Assign the first element to 100\n",
        "\n",
        "c[0] = 100\n",
        "c"
      ],
      "execution_count": 0,
      "outputs": []
    },
    {
      "cell_type": "markdown",
      "metadata": {
        "id": "WefV8CHFKIjq",
        "colab_type": "text"
      },
      "source": [
        "We can change the 5th element of the array to 0 as follows:"
      ]
    },
    {
      "cell_type": "code",
      "metadata": {
        "jupyter": {
          "outputs_hidden": false
        },
        "id": "lAX9Mft3KIjr",
        "colab_type": "code",
        "colab": {}
      },
      "source": [
        "# Assign the 5th element to 0\n",
        "\n",
        "c[4] = 0\n",
        "c"
      ],
      "execution_count": 0,
      "outputs": []
    },
    {
      "cell_type": "markdown",
      "metadata": {
        "id": "TeHyDNiPKIjw",
        "colab_type": "text"
      },
      "source": [
        "<h3 id=\"slice\">Slicing</h3>"
      ]
    },
    {
      "cell_type": "markdown",
      "metadata": {
        "id": "bKTHWqg4KIjx",
        "colab_type": "text"
      },
      "source": [
        "Like lists, we can slice the numpy array, and we can select the elements from 1 to 3 and assign it to a new numpy array <code>d</code> as follows:"
      ]
    },
    {
      "cell_type": "code",
      "metadata": {
        "jupyter": {
          "outputs_hidden": false
        },
        "id": "YxeqJMFKKIjy",
        "colab_type": "code",
        "colab": {}
      },
      "source": [
        "# Slicing the numpy array\n",
        "\n",
        "d = c[1:4]\n",
        "d"
      ],
      "execution_count": 0,
      "outputs": []
    },
    {
      "cell_type": "markdown",
      "metadata": {
        "id": "pu9Pj3JVKIj2",
        "colab_type": "text"
      },
      "source": [
        "We can assign the corresponding indexes to  new values as follows: "
      ]
    },
    {
      "cell_type": "code",
      "metadata": {
        "jupyter": {
          "outputs_hidden": false
        },
        "id": "QkyFe-tIKIj3",
        "colab_type": "code",
        "colab": {}
      },
      "source": [
        "# Set the fourth element and fifth element to 300 and 400\n",
        "\n",
        "c[3:5] = 300, 400\n",
        "c"
      ],
      "execution_count": 0,
      "outputs": []
    },
    {
      "cell_type": "markdown",
      "metadata": {
        "id": "8P1Q4SYdKIj8",
        "colab_type": "text"
      },
      "source": [
        "<h3 id=\"list\">Assign Value with List</h3>"
      ]
    },
    {
      "cell_type": "markdown",
      "metadata": {
        "id": "ZkuylFlLKIj9",
        "colab_type": "text"
      },
      "source": [
        "Similarly, we can use a list to select a specific index.\n",
        "The list ' select ' contains several values:\n"
      ]
    },
    {
      "cell_type": "code",
      "metadata": {
        "jupyter": {
          "outputs_hidden": true
        },
        "id": "4J6MV6CnKIj-",
        "colab_type": "code",
        "colab": {}
      },
      "source": [
        "# Create the index list\n",
        "\n",
        "select = [0, 2, 3]"
      ],
      "execution_count": 0,
      "outputs": []
    },
    {
      "cell_type": "markdown",
      "metadata": {
        "id": "vx4C013rKIkG",
        "colab_type": "text"
      },
      "source": [
        "We can use the list as an argument in the brackets. The output is the elements corresponding to the particular index:"
      ]
    },
    {
      "cell_type": "code",
      "metadata": {
        "jupyter": {
          "outputs_hidden": false
        },
        "id": "au74BaMqKIkI",
        "colab_type": "code",
        "colab": {}
      },
      "source": [
        "# Use List to select elements\n",
        "\n",
        "d = c[select]\n",
        "d"
      ],
      "execution_count": 0,
      "outputs": []
    },
    {
      "cell_type": "markdown",
      "metadata": {
        "id": "kQL0P8IZKIkO",
        "colab_type": "text"
      },
      "source": [
        "We can assign the specified elements to a new value. For example, we can assign the values to 100 000 as follows:"
      ]
    },
    {
      "cell_type": "code",
      "metadata": {
        "jupyter": {
          "outputs_hidden": false
        },
        "id": "tP-VLf8uKIkP",
        "colab_type": "code",
        "colab": {}
      },
      "source": [
        "# Assign the specified elements to new value\n",
        "\n",
        "c[select] = 100000\n",
        "c"
      ],
      "execution_count": 0,
      "outputs": []
    },
    {
      "cell_type": "markdown",
      "metadata": {
        "id": "4yPrnP7ZKIkT",
        "colab_type": "text"
      },
      "source": [
        "<h3 id=\"other\">Other Attributes</h3>"
      ]
    },
    {
      "cell_type": "markdown",
      "metadata": {
        "id": "0ucSwX5xKIkU",
        "colab_type": "text"
      },
      "source": [
        "Let's review some basic array attributes using the array <code>a</code>:"
      ]
    },
    {
      "cell_type": "code",
      "metadata": {
        "jupyter": {
          "outputs_hidden": false
        },
        "id": "UNVRqtGKKIkV",
        "colab_type": "code",
        "colab": {}
      },
      "source": [
        "# Create a numpy array\n",
        "\n",
        "a = np.array([0, 1, 2, 3, 4])\n",
        "a"
      ],
      "execution_count": 0,
      "outputs": []
    },
    {
      "cell_type": "markdown",
      "metadata": {
        "id": "rA2NjtmiKIkb",
        "colab_type": "text"
      },
      "source": [
        "The attribute <code>size</code> is the number of elements in the array:"
      ]
    },
    {
      "cell_type": "code",
      "metadata": {
        "jupyter": {
          "outputs_hidden": false
        },
        "id": "p7i1AjazKIkc",
        "colab_type": "code",
        "colab": {}
      },
      "source": [
        "# Get the size of numpy array\n",
        "\n",
        "a.size"
      ],
      "execution_count": 0,
      "outputs": []
    },
    {
      "cell_type": "markdown",
      "metadata": {
        "id": "TnLKbjWpKIkh",
        "colab_type": "text"
      },
      "source": [
        "The next two attributes will make more sense when we get to higher dimensions but let's review them. The attribute <code>ndim</code> represents the number of array dimensions or the rank of the array, in this case, one:"
      ]
    },
    {
      "cell_type": "code",
      "metadata": {
        "jupyter": {
          "outputs_hidden": false
        },
        "id": "oP8G2cziKIki",
        "colab_type": "code",
        "colab": {}
      },
      "source": [
        "# Get the number of dimensions of numpy array\n",
        "\n",
        "a.ndim"
      ],
      "execution_count": 0,
      "outputs": []
    },
    {
      "cell_type": "markdown",
      "metadata": {
        "id": "2cZKK2wnKIkq",
        "colab_type": "text"
      },
      "source": [
        "The attribute <code>shape</code> is a tuple of integers indicating the size of the array in each dimension:"
      ]
    },
    {
      "cell_type": "code",
      "metadata": {
        "jupyter": {
          "outputs_hidden": false
        },
        "id": "ohLVsBS0KIks",
        "colab_type": "code",
        "colab": {}
      },
      "source": [
        "# Get the shape/size of numpy array\n",
        "\n",
        "a.shape"
      ],
      "execution_count": 0,
      "outputs": []
    },
    {
      "cell_type": "code",
      "metadata": {
        "jupyter": {
          "outputs_hidden": true
        },
        "id": "KZ6lsVRBKIky",
        "colab_type": "code",
        "colab": {}
      },
      "source": [
        "# Create a numpy array\n",
        "\n",
        "a = np.array([1, -1, 1, -1])"
      ],
      "execution_count": 0,
      "outputs": []
    },
    {
      "cell_type": "code",
      "metadata": {
        "jupyter": {
          "outputs_hidden": false
        },
        "id": "cvzz1YeTKIk4",
        "colab_type": "code",
        "colab": {}
      },
      "source": [
        "# Get the mean of numpy array\n",
        "\n",
        "mean = a.mean()\n",
        "mean"
      ],
      "execution_count": 0,
      "outputs": []
    },
    {
      "cell_type": "code",
      "metadata": {
        "jupyter": {
          "outputs_hidden": false
        },
        "id": "azoSMdNLKIk-",
        "colab_type": "code",
        "colab": {}
      },
      "source": [
        "# Get the standard deviation of numpy array\n",
        "\n",
        "standard_deviation=a.std()\n",
        "standard_deviation"
      ],
      "execution_count": 0,
      "outputs": []
    },
    {
      "cell_type": "code",
      "metadata": {
        "jupyter": {
          "outputs_hidden": false
        },
        "id": "WLOD_fJsKIlE",
        "colab_type": "code",
        "colab": {}
      },
      "source": [
        "# Create a numpy array\n",
        "\n",
        "b = np.array([-1, 2, 3, 4, 5])\n",
        "b"
      ],
      "execution_count": 0,
      "outputs": []
    },
    {
      "cell_type": "code",
      "metadata": {
        "jupyter": {
          "outputs_hidden": false
        },
        "id": "AVRlo2ADKIlI",
        "colab_type": "code",
        "colab": {}
      },
      "source": [
        "# Get the biggest value in the numpy array\n",
        "\n",
        "max_b = b.max()\n",
        "max_b"
      ],
      "execution_count": 0,
      "outputs": []
    },
    {
      "cell_type": "code",
      "metadata": {
        "jupyter": {
          "outputs_hidden": false
        },
        "id": "DG13d_88KIlM",
        "colab_type": "code",
        "colab": {}
      },
      "source": [
        "# Get the smallest value in the numpy array\n",
        "\n",
        "min_b = b.min()\n",
        "min_b"
      ],
      "execution_count": 0,
      "outputs": []
    },
    {
      "cell_type": "markdown",
      "metadata": {
        "id": "aKYRzFlvKIlS",
        "colab_type": "text"
      },
      "source": [
        "<hr>"
      ]
    },
    {
      "cell_type": "markdown",
      "metadata": {
        "id": "IRCshY2uKIlT",
        "colab_type": "text"
      },
      "source": [
        "<h2 id=\"op\">Numpy Array Operations</h2>"
      ]
    },
    {
      "cell_type": "markdown",
      "metadata": {
        "id": "ktBba4IPKIlU",
        "colab_type": "text"
      },
      "source": [
        "<h3 id=\"add\">Array Addition</h3>"
      ]
    },
    {
      "cell_type": "markdown",
      "metadata": {
        "id": "kTWpk72kKIlW",
        "colab_type": "text"
      },
      "source": [
        "Consider the numpy array <code>u</code>:"
      ]
    },
    {
      "cell_type": "code",
      "metadata": {
        "jupyter": {
          "outputs_hidden": false
        },
        "id": "Sg35orRdKIlX",
        "colab_type": "code",
        "colab": {}
      },
      "source": [
        "u = np.array([1, 0])\n",
        "u"
      ],
      "execution_count": 0,
      "outputs": []
    },
    {
      "cell_type": "markdown",
      "metadata": {
        "id": "OoKs94TWKIlb",
        "colab_type": "text"
      },
      "source": [
        "Consider the numpy array <code>v</code>:"
      ]
    },
    {
      "cell_type": "code",
      "metadata": {
        "jupyter": {
          "outputs_hidden": false
        },
        "id": "YPiDN-7gKIlc",
        "colab_type": "code",
        "colab": {}
      },
      "source": [
        "v = np.array([0, 1])\n",
        "v"
      ],
      "execution_count": 0,
      "outputs": []
    },
    {
      "cell_type": "markdown",
      "metadata": {
        "id": "iWWruLm9KIlk",
        "colab_type": "text"
      },
      "source": [
        "We can add the two arrays and assign it to z:"
      ]
    },
    {
      "cell_type": "code",
      "metadata": {
        "jupyter": {
          "outputs_hidden": false
        },
        "id": "gT0S-40zKIll",
        "colab_type": "code",
        "colab": {}
      },
      "source": [
        "# Numpy Array Addition\n",
        "\n",
        "z = u + v\n",
        "z"
      ],
      "execution_count": 0,
      "outputs": []
    },
    {
      "cell_type": "markdown",
      "metadata": {
        "id": "nr38afQ_KIlq",
        "colab_type": "text"
      },
      "source": [
        " The operation is equivalent to vector addition:"
      ]
    },
    {
      "cell_type": "code",
      "metadata": {
        "jupyter": {
          "outputs_hidden": false
        },
        "id": "cuAnoMFIKIlr",
        "colab_type": "code",
        "colab": {}
      },
      "source": [
        "# Plot numpy arrays\n",
        "\n",
        "Plotvec1(u, z, v)"
      ],
      "execution_count": 0,
      "outputs": []
    },
    {
      "cell_type": "markdown",
      "metadata": {
        "id": "FmPd1F0vKIl0",
        "colab_type": "text"
      },
      "source": [
        "<h3 id=\"multi\">Array Multiplication</h3>"
      ]
    },
    {
      "cell_type": "markdown",
      "metadata": {
        "id": "0vyQR9rnKIl1",
        "colab_type": "text"
      },
      "source": [
        "Consider the vector numpy array <code>y</code>:"
      ]
    },
    {
      "cell_type": "code",
      "metadata": {
        "jupyter": {
          "outputs_hidden": false
        },
        "id": "tGm_D2UiKIl1",
        "colab_type": "code",
        "colab": {}
      },
      "source": [
        "# Create a numpy array\n",
        "\n",
        "y = np.array([1, 2])\n",
        "y"
      ],
      "execution_count": 0,
      "outputs": []
    },
    {
      "cell_type": "markdown",
      "metadata": {
        "id": "m5AOvMmOKIl5",
        "colab_type": "text"
      },
      "source": [
        "We can multiply every element in the array by 2:"
      ]
    },
    {
      "cell_type": "code",
      "metadata": {
        "jupyter": {
          "outputs_hidden": false
        },
        "id": "AfUxIWq1KIl5",
        "colab_type": "code",
        "colab": {}
      },
      "source": [
        "# Numpy Array Multiplication\n",
        "\n",
        "z = 2 * y\n",
        "z"
      ],
      "execution_count": 0,
      "outputs": []
    },
    {
      "cell_type": "markdown",
      "metadata": {
        "id": "3iQ96BeNKIl-",
        "colab_type": "text"
      },
      "source": [
        " This is equivalent to multiplying a vector by a scaler: "
      ]
    },
    {
      "cell_type": "markdown",
      "metadata": {
        "id": "4THue9nKKIl_",
        "colab_type": "text"
      },
      "source": [
        "<h3 id=\"prod\">Product of Two Numpy Arrays</h3>"
      ]
    },
    {
      "cell_type": "markdown",
      "metadata": {
        "id": "3vbamzlVKImA",
        "colab_type": "text"
      },
      "source": [
        "Consider the following array <code>u</code>:"
      ]
    },
    {
      "cell_type": "code",
      "metadata": {
        "jupyter": {
          "outputs_hidden": false
        },
        "id": "F3B1LdeZKImA",
        "colab_type": "code",
        "colab": {}
      },
      "source": [
        "# Create a numpy array\n",
        "\n",
        "u = np.array([1, 2])\n",
        "u"
      ],
      "execution_count": 0,
      "outputs": []
    },
    {
      "cell_type": "markdown",
      "metadata": {
        "id": "IXF0DaizKImG",
        "colab_type": "text"
      },
      "source": [
        "Consider the following array <code>v</code>:"
      ]
    },
    {
      "cell_type": "code",
      "metadata": {
        "jupyter": {
          "outputs_hidden": false
        },
        "id": "xOyBO8ahKImJ",
        "colab_type": "code",
        "colab": {}
      },
      "source": [
        "# Create a numpy array\n",
        "\n",
        "v = np.array([3, 2])\n",
        "v"
      ],
      "execution_count": 0,
      "outputs": []
    },
    {
      "cell_type": "markdown",
      "metadata": {
        "id": "RCN6OxXeKImO",
        "colab_type": "text"
      },
      "source": [
        " The product of the two numpy arrays <code>u</code> and <code>v</code> is given by:"
      ]
    },
    {
      "cell_type": "code",
      "metadata": {
        "jupyter": {
          "outputs_hidden": false
        },
        "id": "wS6TR6GgKImP",
        "colab_type": "code",
        "colab": {}
      },
      "source": [
        "# Calculate the production of two numpy arrays\n",
        "\n",
        "z = u * v\n",
        "z"
      ],
      "execution_count": 0,
      "outputs": []
    },
    {
      "cell_type": "markdown",
      "metadata": {
        "id": "qoc-K5yFKImX",
        "colab_type": "text"
      },
      "source": [
        "<h3 id=\"dot\">Dot Product</h3>"
      ]
    },
    {
      "cell_type": "markdown",
      "metadata": {
        "id": "MNV_57Q_KImY",
        "colab_type": "text"
      },
      "source": [
        "The dot product of the two numpy arrays <code>u</code> and <code>v</code> is given by:"
      ]
    },
    {
      "cell_type": "code",
      "metadata": {
        "jupyter": {
          "outputs_hidden": false
        },
        "id": "kfYiRxn-KIma",
        "colab_type": "code",
        "colab": {}
      },
      "source": [
        "# Calculate the dot product\n",
        "\n",
        "np.dot(u, v)"
      ],
      "execution_count": 0,
      "outputs": []
    },
    {
      "cell_type": "markdown",
      "metadata": {
        "id": "x4YwUYZ1KImf",
        "colab_type": "text"
      },
      "source": [
        "<h3 id=\"cons\">Adding Constant to a Numpy Array</h3>"
      ]
    },
    {
      "cell_type": "markdown",
      "metadata": {
        "id": "8b94dPrQKImg",
        "colab_type": "text"
      },
      "source": [
        "Consider the following array: "
      ]
    },
    {
      "cell_type": "code",
      "metadata": {
        "jupyter": {
          "outputs_hidden": false
        },
        "id": "kgsl2e3VKImh",
        "colab_type": "code",
        "colab": {}
      },
      "source": [
        "# Create a constant to numpy array\n",
        "\n",
        "u = np.array([1, 2, 3, -1]) \n",
        "u"
      ],
      "execution_count": 0,
      "outputs": []
    },
    {
      "cell_type": "markdown",
      "metadata": {
        "id": "mfi4tZlNKImp",
        "colab_type": "text"
      },
      "source": [
        "Adding the constant 1 to each element in the array:"
      ]
    },
    {
      "cell_type": "code",
      "metadata": {
        "jupyter": {
          "outputs_hidden": false
        },
        "id": "5HFgdkmTKImq",
        "colab_type": "code",
        "colab": {}
      },
      "source": [
        "# Add the constant to array\n",
        "\n",
        "u + 1"
      ],
      "execution_count": 0,
      "outputs": []
    },
    {
      "cell_type": "markdown",
      "metadata": {
        "id": "rAnF2HyyKImu",
        "colab_type": "text"
      },
      "source": [
        " The process is summarised in the following animation:"
      ]
    },
    {
      "cell_type": "markdown",
      "metadata": {
        "id": "p__VCESsKImv",
        "colab_type": "text"
      },
      "source": [
        "<img src=\"https://s3-api.us-geo.objectstorage.softlayer.net/cf-courses-data/CognitiveClass/PY0101EN/Chapter%205/Images/NumOneAdd.gif\" width=\"500\" />"
      ]
    },
    {
      "cell_type": "markdown",
      "metadata": {
        "id": "iUATjqWDKImw",
        "colab_type": "text"
      },
      "source": [
        "<hr>"
      ]
    },
    {
      "cell_type": "markdown",
      "metadata": {
        "id": "orBC1yCMKIm0",
        "colab_type": "text"
      },
      "source": [
        "<h2 id=\"math\">Mathematical Functions</h2>"
      ]
    },
    {
      "cell_type": "markdown",
      "metadata": {
        "id": "3MvEcOKCKIm1",
        "colab_type": "text"
      },
      "source": [
        " We can access the value of pie in numpy as follows :"
      ]
    },
    {
      "cell_type": "code",
      "metadata": {
        "jupyter": {
          "outputs_hidden": false
        },
        "id": "EDDNjMKGKIm2",
        "colab_type": "code",
        "colab": {}
      },
      "source": [
        "# The value of pie\n",
        "\n",
        "np.pi"
      ],
      "execution_count": 0,
      "outputs": []
    },
    {
      "cell_type": "markdown",
      "metadata": {
        "id": "-_LZ9uHsKIm9",
        "colab_type": "text"
      },
      "source": [
        " We can create the following numpy array in Radians:"
      ]
    },
    {
      "cell_type": "code",
      "metadata": {
        "jupyter": {
          "outputs_hidden": false
        },
        "id": "mwy2qzWQKIm9",
        "colab_type": "code",
        "colab": {}
      },
      "source": [
        "# Create the numpy array in radians\n",
        "\n",
        "x = np.array([0, np.pi/2 , np.pi])"
      ],
      "execution_count": 0,
      "outputs": []
    },
    {
      "cell_type": "markdown",
      "metadata": {
        "id": "P7q_yIV7KInF",
        "colab_type": "text"
      },
      "source": [
        "We can apply the function <code>sin</code> to the array <code>x</code> and assign the values to the array <code>y</code>; this applies the sine function to each element in the array:  "
      ]
    },
    {
      "cell_type": "code",
      "metadata": {
        "jupyter": {
          "outputs_hidden": false
        },
        "id": "dSJJQNg7KInG",
        "colab_type": "code",
        "colab": {}
      },
      "source": [
        "# Calculate the sin of each elements\n",
        "\n",
        "y = np.sin(x)\n",
        "y"
      ],
      "execution_count": 0,
      "outputs": []
    },
    {
      "cell_type": "markdown",
      "metadata": {
        "id": "sYqsFO0sKInK",
        "colab_type": "text"
      },
      "source": [
        "<hr>"
      ]
    },
    {
      "cell_type": "markdown",
      "metadata": {
        "id": "mb5Ijnt3KInK",
        "colab_type": "text"
      },
      "source": [
        "<h2 id=\"lin\">Linspace</h2>"
      ]
    },
    {
      "cell_type": "markdown",
      "metadata": {
        "id": "9ARil7cWKInL",
        "colab_type": "text"
      },
      "source": [
        " A useful function for plotting mathematical functions is \"linespace\".   Linespace returns evenly spaced numbers over a specified interval. We specify the starting point of the sequence and the ending point of the sequence. The parameter \"num\" indicates the Number of samples to generate, in this case 5:"
      ]
    },
    {
      "cell_type": "code",
      "metadata": {
        "jupyter": {
          "outputs_hidden": false
        },
        "id": "g-3le3xwKInM",
        "colab_type": "code",
        "colab": {}
      },
      "source": [
        "# Makeup a numpy array within [-2, 2] and 5 elements\n",
        "\n",
        "np.linspace(-2, 2, num=5)"
      ],
      "execution_count": 0,
      "outputs": []
    },
    {
      "cell_type": "markdown",
      "metadata": {
        "id": "taMwHv08KInQ",
        "colab_type": "text"
      },
      "source": [
        "If we change the parameter <code>num</code> to 9, we get 9 evenly spaced numbers over the interval from -2 to 2: "
      ]
    },
    {
      "cell_type": "code",
      "metadata": {
        "jupyter": {
          "outputs_hidden": false
        },
        "id": "5D6oYAajKInS",
        "colab_type": "code",
        "colab": {}
      },
      "source": [
        "# Makeup a numpy array within [-2, 2] and 9 elements\n",
        "\n",
        "np.linspace(-2, 2, num=9)"
      ],
      "execution_count": 0,
      "outputs": []
    },
    {
      "cell_type": "markdown",
      "metadata": {
        "id": "F585lKB5KInV",
        "colab_type": "text"
      },
      "source": [
        "We can use the function line space to generate 100 evenly spaced samples from the interval 0 to 2π: "
      ]
    },
    {
      "cell_type": "code",
      "metadata": {
        "jupyter": {
          "outputs_hidden": false
        },
        "id": "dOZ7SgJ_KInW",
        "colab_type": "code",
        "colab": {}
      },
      "source": [
        "# Makeup a numpy array within [0, 2π] and 100 elements \n",
        "\n",
        "x = np.linspace(0, 2*np.pi, num=100)"
      ],
      "execution_count": 0,
      "outputs": []
    },
    {
      "cell_type": "markdown",
      "metadata": {
        "id": "8-sX9WISKIna",
        "colab_type": "text"
      },
      "source": [
        "We can apply the sine function to each element in the array <code>x</code> and assign it to the array <code>y</code>: "
      ]
    },
    {
      "cell_type": "code",
      "metadata": {
        "jupyter": {
          "outputs_hidden": true
        },
        "id": "N5EEp3DhKInc",
        "colab_type": "code",
        "colab": {}
      },
      "source": [
        "# Calculate the sine of x list\n",
        "\n",
        "y = np.sin(x)"
      ],
      "execution_count": 0,
      "outputs": []
    },
    {
      "cell_type": "code",
      "metadata": {
        "jupyter": {
          "outputs_hidden": false
        },
        "id": "BGyPZYKjKInf",
        "colab_type": "code",
        "colab": {}
      },
      "source": [
        "# Plot the result\n",
        "\n",
        "plt.plot(x, y)"
      ],
      "execution_count": 0,
      "outputs": []
    },
    {
      "cell_type": "markdown",
      "metadata": {
        "id": "iaslwbuAKIni",
        "colab_type": "text"
      },
      "source": [
        "<hr>"
      ]
    },
    {
      "cell_type": "markdown",
      "metadata": {
        "id": "-mSf-WVSKIni",
        "colab_type": "text"
      },
      "source": [
        "<h2 id=\"quiz\">Quiz on 1D Numpy Array</h2>"
      ]
    },
    {
      "cell_type": "markdown",
      "metadata": {
        "id": "JVMQ_AaWKInj",
        "colab_type": "text"
      },
      "source": [
        "Implement the following vector subtraction in numpy: u-v"
      ]
    },
    {
      "cell_type": "code",
      "metadata": {
        "id": "o-uuteIqKInj",
        "colab_type": "code",
        "colab": {}
      },
      "source": [
        "# Write your code below and press Shift+Enter to execute\n",
        "\n",
        "u = np.array([1, 0])\n",
        "v = np.array([0, 1])"
      ],
      "execution_count": 0,
      "outputs": []
    },
    {
      "cell_type": "markdown",
      "metadata": {
        "id": "M9_tFC38KInm",
        "colab_type": "text"
      },
      "source": [
        "Double-click __here__ for the solution.\n",
        "\n",
        "<!-- Your answer is below:\n",
        "u - v\n",
        "-->"
      ]
    },
    {
      "cell_type": "markdown",
      "metadata": {
        "id": "ha-mKuhUKInm",
        "colab_type": "text"
      },
      "source": [
        "<hr>"
      ]
    },
    {
      "cell_type": "markdown",
      "metadata": {
        "id": "QG0tQaCsKInn",
        "colab_type": "text"
      },
      "source": [
        "Multiply the numpy array z with -2:"
      ]
    },
    {
      "cell_type": "code",
      "metadata": {
        "id": "BT3KqI7wKInn",
        "colab_type": "code",
        "colab": {}
      },
      "source": [
        "# Write your code below and press Shift+Enter to execute\n",
        "\n",
        "z = np.array([2, 4])"
      ],
      "execution_count": 0,
      "outputs": []
    },
    {
      "cell_type": "markdown",
      "metadata": {
        "id": "B8u0EDQTKInq",
        "colab_type": "text"
      },
      "source": [
        "Double-click __here__ for the solution.\n",
        "\n",
        "<!-- Your answer is below:\n",
        "-2 * z\n",
        "-->"
      ]
    },
    {
      "cell_type": "markdown",
      "metadata": {
        "id": "iqnvBWrDKInr",
        "colab_type": "text"
      },
      "source": [
        "<hr>"
      ]
    },
    {
      "cell_type": "markdown",
      "metadata": {
        "id": "k3vFOcsqKInr",
        "colab_type": "text"
      },
      "source": [
        "Consider the list <code>[1, 2, 3, 4, 5]</code> and <code>[1, 0, 1, 0, 1]</code>, and cast both lists to a numpy array then multiply them together:"
      ]
    },
    {
      "cell_type": "code",
      "metadata": {
        "id": "MHHjJkS9KIns",
        "colab_type": "code",
        "colab": {}
      },
      "source": [
        "# Write your code below and press Shift+Enter to execute"
      ],
      "execution_count": 0,
      "outputs": []
    },
    {
      "cell_type": "markdown",
      "metadata": {
        "id": "skHLclESKInu",
        "colab_type": "text"
      },
      "source": [
        "Double-click __here__ for the solution.\n",
        "\n",
        "<!-- Your answer is below:\n",
        "a = np.array([1, 2, 3, 4, 5])\n",
        "b = np.array([1, 0, 1, 0, 1])\n",
        "a * b\n",
        "-->"
      ]
    },
    {
      "cell_type": "markdown",
      "metadata": {
        "id": "jUjvxosPKInu",
        "colab_type": "text"
      },
      "source": [
        "<hr>"
      ]
    },
    {
      "cell_type": "markdown",
      "metadata": {
        "id": "NLVwM_eeKInx",
        "colab_type": "text"
      },
      "source": [
        "Convert the list <code>[-1, 1]</code> and <code>[1, 1]</code> to numpy arrays <code>a</code> and <code>b</code>.  Then, plot the arrays as vectors using the fuction <code>Plotvec2</code> and find the dot product:"
      ]
    },
    {
      "cell_type": "code",
      "metadata": {
        "id": "DiZP3_FjKIny",
        "colab_type": "code",
        "colab": {}
      },
      "source": [
        "# Write your code below and press Shift+Enter to execute"
      ],
      "execution_count": 0,
      "outputs": []
    },
    {
      "cell_type": "markdown",
      "metadata": {
        "id": "QUARvp-bKIn0",
        "colab_type": "text"
      },
      "source": [
        "Double-click __here__ for the solution.\n",
        "\n",
        "<!-- Your answer is below:\n",
        "a = np.array([-1, 1])\n",
        "b = np.array([1, 1])\n",
        "Plotvec2(a, b)\n",
        "print(\"The dot product is\", np.dot(a,b))\n",
        "-->"
      ]
    },
    {
      "cell_type": "markdown",
      "metadata": {
        "id": "IhmzpgkFKIn1",
        "colab_type": "text"
      },
      "source": [
        "<hr>"
      ]
    },
    {
      "cell_type": "markdown",
      "metadata": {
        "id": "6OsitczFKIn1",
        "colab_type": "text"
      },
      "source": [
        "Convert the list <code>[1, 0]</code> and <code>[0, 1]</code> to numpy arrays <code>a</code> and <code>b</code>. Then, plot the arrays as vectors using the function <code>Plotvec2</code> and find the dot product:"
      ]
    },
    {
      "cell_type": "code",
      "metadata": {
        "id": "heSAPjv6KIn2",
        "colab_type": "code",
        "colab": {}
      },
      "source": [
        "# Write your code below and press Shift+Enter to execute"
      ],
      "execution_count": 0,
      "outputs": []
    },
    {
      "cell_type": "markdown",
      "metadata": {
        "id": "i6Qsae92KIn7",
        "colab_type": "text"
      },
      "source": [
        "Double-click __here__ for the solution.\n",
        "\n",
        "<!-- \n",
        "a = np.array([1, 0])\n",
        "b = np.array([0, 1])\n",
        "Plotvec2(a, b)\n",
        "print(\"The dot product is\", np.dot(a, b))\n",
        " -->"
      ]
    },
    {
      "cell_type": "markdown",
      "metadata": {
        "id": "kcJvQNQZKIn7",
        "colab_type": "text"
      },
      "source": [
        "<hr>"
      ]
    },
    {
      "cell_type": "markdown",
      "metadata": {
        "id": "ph_7vxKOKIn7",
        "colab_type": "text"
      },
      "source": [
        "Convert the list <code>[1, 1]</code> and <code>[0, 1]</code> to numpy arrays <code>a</code> and <code>b</code>. Then plot the arrays as vectors using the fuction <code>Plotvec2</code> and find the dot product:"
      ]
    },
    {
      "cell_type": "code",
      "metadata": {
        "id": "T0sG_DBzKIn8",
        "colab_type": "code",
        "colab": {}
      },
      "source": [
        "# Write your code below and press Shift+Enter to execute"
      ],
      "execution_count": 0,
      "outputs": []
    },
    {
      "cell_type": "markdown",
      "metadata": {
        "id": "TXns2a0VKIn-",
        "colab_type": "text"
      },
      "source": [
        "Double-click __here__ for the solution.\n",
        "\n",
        "<!-- \n",
        "a = np.array([1, 1])\n",
        "b = np.array([0, 1])\n",
        "Plotvec2(a, b)\n",
        "print(\"The dot product is\", np.dot(a, b))\n",
        "print(\"The dot product is\", np.dot(a, b))\n",
        " -->"
      ]
    },
    {
      "cell_type": "markdown",
      "metadata": {
        "id": "jpkD8ybWKIn_",
        "colab_type": "text"
      },
      "source": [
        "<hr>"
      ]
    },
    {
      "cell_type": "markdown",
      "metadata": {
        "id": "9RX-bBSzKIn_",
        "colab_type": "text"
      },
      "source": [
        "Why are the results of the dot product for <code>[-1, 1]</code> and <code>[1, 1]</code> and the dot product for <code>[1, 0]</code> and <code>[0, 1]</code> zero, but not zero for the dot product for <code>[1, 1]</code> and <code>[0, 1]</code>? <p><i>Hint: Study the corresponding figures, pay attention to the direction the arrows are pointing to.</i></p>"
      ]
    },
    {
      "cell_type": "code",
      "metadata": {
        "id": "rScHfEk0KIoA",
        "colab_type": "code",
        "colab": {}
      },
      "source": [
        "# Write your code below and press Shift+Enter to execute"
      ],
      "execution_count": 0,
      "outputs": []
    },
    {
      "cell_type": "markdown",
      "metadata": {
        "id": "OxR8FN3IKIoC",
        "colab_type": "text"
      },
      "source": [
        "Double-click __here__ for the solution.\n",
        "\n",
        "<!-- \n",
        "The vectors used for question 4 and 5 are perpendicular. As a result, the dot product is zero. \n",
        "-->"
      ]
    },
    {
      "cell_type": "markdown",
      "metadata": {
        "id": "fcoNb4sdKIoD",
        "colab_type": "text"
      },
      "source": [
        "<hr>\n",
        "<h2>The last exercise!</h2>\n",
        "<p>Congratulations, you have completed your first lesson and hands-on lab in Python. However, there is one more thing you need to do. The Data Science community encourages sharing work. The best way to share and showcase your work is to share it on GitHub. By sharing your notebook on GitHub you are not only building your reputation with fellow data scientists, but you can also show it off when applying for a job. Even though this was your first piece of work, it is never too early to start building good habits. So, please read and follow <a href=\"https://cognitiveclass.ai/blog/data-scientists-stand-out-by-sharing-your-notebooks/\" target=\"_blank\">this article</a> to learn how to share your work.\n",
        "<hr>"
      ]
    },
    {
      "cell_type": "markdown",
      "metadata": {
        "id": "M0xFbPXAKIoE",
        "colab_type": "text"
      },
      "source": [
        "<h3>About the Authors:</h3>  \n",
        "<p><a href=\"https://www.linkedin.com/in/joseph-s-50398b136/\" target=\"_blank\">Joseph Santarcangelo</a> is a Data Scientist at IBM, and holds a PhD in Electrical Engineering. His research focused on using Machine Learning, Signal Processing, and Computer Vision to determine how videos impact human cognition. Joseph has been working for IBM since he completed his PhD.</p>"
      ]
    },
    {
      "cell_type": "markdown",
      "metadata": {
        "id": "_n9mo5JKKIoE",
        "colab_type": "text"
      },
      "source": [
        "<p>Other contributors: <a href=\"https://www.linkedin.com/in/jiahui-mavis-zhou-a4537814a\">Mavis Zhou</a>, <a href=\"https://github.com/computationalcore\" target=\"_blank\">Vin Busquet</a>, <a href=\"https://github.com/raphtrajano\" target=\"_blank\">Raph Trajano</a></p>"
      ]
    },
    {
      "cell_type": "markdown",
      "metadata": {
        "id": "XqClaleRKIoF",
        "colab_type": "text"
      },
      "source": [
        "<hr>"
      ]
    },
    {
      "cell_type": "markdown",
      "metadata": {
        "id": "RaNI6y0vKIoF",
        "colab_type": "text"
      },
      "source": [
        "<p>Copyright &copy; 2018 IBM Developer Skills Network. This notebook and its source code are released under the terms of the <a href=\"https://cognitiveclass.ai/mit-license/\">MIT License</a>.</p>"
      ]
    }
  ]
}